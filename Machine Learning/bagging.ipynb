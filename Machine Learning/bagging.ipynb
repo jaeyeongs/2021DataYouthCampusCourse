{
 "cells": [
  {
   "cell_type": "markdown",
   "metadata": {},
   "source": [
    "### Bagging\n",
    "#### 위스콘신 유방암 데이터"
   ]
  },
  {
   "cell_type": "markdown",
   "metadata": {},
   "source": [
    "- from sklearn.ensemble import BaggingClassifier"
   ]
  },
  {
   "cell_type": "code",
   "execution_count": 1,
   "metadata": {},
   "outputs": [],
   "source": [
    "from sklearn import datasets\n",
    "from sklearn.model_selection import train_test_split"
   ]
  },
  {
   "cell_type": "code",
   "execution_count": 2,
   "metadata": {},
   "outputs": [],
   "source": [
    "cancer = datasets.load_breast_cancer()"
   ]
  },
  {
   "cell_type": "code",
   "execution_count": 3,
   "metadata": {},
   "outputs": [
    {
     "name": "stdout",
     "output_type": "stream",
     "text": [
      "(455, 30) (114, 30) (455,) (114,)\n"
     ]
    }
   ],
   "source": [
    "x_train, x_test, y_train, y_test = train_test_split(cancer.data, cancer.target, train_size = 0.8, test_size = 0.2, random_state = 156)\n",
    "print(x_train.shape, x_test.shape, y_train.shape, y_test.shape)"
   ]
  },
  {
   "cell_type": "code",
   "execution_count": 4,
   "metadata": {},
   "outputs": [],
   "source": [
    "from sklearn.linear_model import LogisticRegression\n",
    "from sklearn.metrics import mean_squared_error, accuracy_score"
   ]
  },
  {
   "cell_type": "code",
   "execution_count": 5,
   "metadata": {},
   "outputs": [],
   "source": [
    "# Bagging은 분류기 하나만 사용\n",
    "# Logistic Regression 분류기 단일로 사용할 경우\n",
    "lr_clf = LogisticRegression(max_iter = 10000)\n",
    "lr_clf.fit(x_train, y_train)\n",
    "\n",
    "pred_lr = lr_clf.predict(x_test)"
   ]
  },
  {
   "cell_type": "code",
   "execution_count": 7,
   "metadata": {},
   "outputs": [
    {
     "name": "stdout",
     "output_type": "stream",
     "text": [
      "0.9473684210526315\n",
      "0.05263157894736842\n"
     ]
    }
   ],
   "source": [
    "print(accuracy_score(y_test, pred_lr)) # accuracy 결과\n",
    "print(mean_squared_error(y_test, pred_lr)) # MSE 결과(에러율)"
   ]
  },
  {
   "cell_type": "code",
   "execution_count": 8,
   "metadata": {},
   "outputs": [],
   "source": [
    "# 생성된 LR 분류기를 Bagging 에 적합시키기\n",
    "from sklearn.ensemble import BaggingClassifier\n",
    "\n",
    "bag_clf = BaggingClassifier(base_estimator = lr_clf,  # Logistic Regression 분류기 사용\n",
    "                           n_estimators = 5,  # 5번 샘플링\n",
    "                           verbose = 1)  # 학습 과정 표시 - 추가 안해도 무관"
   ]
  },
  {
   "cell_type": "code",
   "execution_count": 10,
   "metadata": {},
   "outputs": [
    {
     "name": "stderr",
     "output_type": "stream",
     "text": [
      "[Parallel(n_jobs=1)]: Using backend SequentialBackend with 1 concurrent workers.\n",
      "[Parallel(n_jobs=1)]: Done   1 out of   1 | elapsed:    1.7s finished\n",
      "[Parallel(n_jobs=1)]: Using backend SequentialBackend with 1 concurrent workers.\n",
      "[Parallel(n_jobs=1)]: Done   1 out of   1 | elapsed:    0.0s finished\n"
     ]
    }
   ],
   "source": [
    "lr_clf_bag = bag_clf.fit(x_train, y_train)\n",
    "pred_lr_bag = lr_clf_bag.predict(x_test) # 학습된 Bagging LR 으로 평가 데이터 예측"
   ]
  },
  {
   "cell_type": "code",
   "execution_count": 11,
   "metadata": {
    "scrolled": true
   },
   "outputs": [
    {
     "data": {
      "text/plain": [
       "array([1, 0, 1, 0, 1, 1, 1, 1, 1, 0, 0, 0, 1, 1, 1, 1, 1, 1, 1, 1, 0, 1,\n",
       "       0, 1, 0, 1, 0, 0, 1, 0, 1, 0, 1, 1, 0, 0, 1, 1, 0, 1, 0, 1, 1, 1,\n",
       "       1, 1, 0, 1, 1, 1, 1, 0, 1, 1, 1, 1, 1, 1, 1, 1, 1, 1, 0, 0, 1, 1,\n",
       "       0, 1, 1, 1, 0, 1, 0, 1, 1, 0, 1, 1, 1, 0, 0, 1, 1, 1, 1, 1, 1, 1,\n",
       "       1, 0, 0, 1, 0, 0, 1, 1, 0, 1, 0, 0, 0, 0, 1, 1, 0, 1, 1, 1, 1, 1,\n",
       "       1, 1, 1, 1])"
      ]
     },
     "execution_count": 11,
     "metadata": {},
     "output_type": "execute_result"
    }
   ],
   "source": [
    "pred_lr_bag"
   ]
  },
  {
   "cell_type": "code",
   "execution_count": 12,
   "metadata": {},
   "outputs": [
    {
     "name": "stdout",
     "output_type": "stream",
     "text": [
      "0.956140350877193\n",
      "0.043859649122807015\n"
     ]
    }
   ],
   "source": [
    "print(accuracy_score(y_test, pred_lr_bag)) # accuracy 결과\n",
    "print(mean_squared_error(y_test, pred_lr_bag)) # MSE 결과(에러율)"
   ]
  },
  {
   "cell_type": "code",
   "execution_count": 14,
   "metadata": {},
   "outputs": [
    {
     "name": "stdout",
     "output_type": "stream",
     "text": [
      "0.9473684210526315\n",
      "0.05263157894736842\n"
     ]
    }
   ],
   "source": [
    "# DT 분류기 단일로 사용할 경우\n",
    "from sklearn.tree import DecisionTreeClassifier\n",
    "\n",
    "dt_clf = DecisionTreeClassifier()\n",
    "dt_clf.fit(x_train, y_train)\n",
    "pred_dt = dt_clf.predict(x_test)\n",
    "\n",
    "print(accuracy_score(y_test, pred_dt)) \n",
    "print(mean_squared_error(y_test, pred_dt)) "
   ]
  },
  {
   "cell_type": "code",
   "execution_count": 15,
   "metadata": {},
   "outputs": [],
   "source": [
    "# 생성된 DT 분류기를 Bagging 적합 시키기\n",
    "bag_clf = BaggingClassifier(base_estimator = dt_clf,  # DT 분류기 사용\n",
    "                           n_estimators = 5,  # 5번 샘플링\n",
    "                           verbose = 1)  # 학습 과정 표시 - 추가 안해도 무관"
   ]
  },
  {
   "cell_type": "code",
   "execution_count": 16,
   "metadata": {
    "scrolled": true
   },
   "outputs": [
    {
     "name": "stderr",
     "output_type": "stream",
     "text": [
      "[Parallel(n_jobs=1)]: Using backend SequentialBackend with 1 concurrent workers.\n",
      "[Parallel(n_jobs=1)]: Done   1 out of   1 | elapsed:    0.0s finished\n",
      "[Parallel(n_jobs=1)]: Using backend SequentialBackend with 1 concurrent workers.\n",
      "[Parallel(n_jobs=1)]: Done   1 out of   1 | elapsed:    0.0s finished\n"
     ]
    }
   ],
   "source": [
    "dt_clf_bag = bag_clf.fit(x_train, y_train)\n",
    "pred_dt_bag = dt_clf_bag.predict(x_test) # 학습된 Bagging DT 으로 평가 데이터 예측"
   ]
  },
  {
   "cell_type": "code",
   "execution_count": 17,
   "metadata": {},
   "outputs": [
    {
     "name": "stdout",
     "output_type": "stream",
     "text": [
      "0.9649122807017544\n",
      "0.03508771929824561\n"
     ]
    }
   ],
   "source": [
    "print(accuracy_score(y_test, pred_dt_bag)) # accuracy 결과\n",
    "print(mean_squared_error(y_test, pred_dt_bag)) # MSE 결과(에러율)"
   ]
  },
  {
   "cell_type": "markdown",
   "metadata": {},
   "source": [
    "### RandomForest"
   ]
  },
  {
   "cell_type": "markdown",
   "metadata": {},
   "source": [
    "- from sklearn.ensemble import RandomForestClassifier\n",
    "- from sklearn.model_selection import GridSearchCV"
   ]
  },
  {
   "cell_type": "code",
   "execution_count": 18,
   "metadata": {},
   "outputs": [
    {
     "name": "stdout",
     "output_type": "stream",
     "text": [
      "0.9298245614035088\n"
     ]
    },
    {
     "name": "stderr",
     "output_type": "stream",
     "text": [
      "[Parallel(n_jobs=1)]: Using backend SequentialBackend with 1 concurrent workers.\n",
      "[Parallel(n_jobs=1)]: Done   5 out of   5 | elapsed:    0.0s finished\n",
      "[Parallel(n_jobs=1)]: Using backend SequentialBackend with 1 concurrent workers.\n",
      "[Parallel(n_jobs=1)]: Done   5 out of   5 | elapsed:    0.0s finished\n"
     ]
    }
   ],
   "source": [
    "from sklearn.ensemble import RandomForestClassifier\n",
    "\n",
    "rf_clf = RandomForestClassifier(n_estimators = 5,\n",
    "                                max_depth = 3,\n",
    "                                random_state = 103,\n",
    "                                verbose = 1)\n",
    "\n",
    "rf_clf.fit(x_train, y_train)\n",
    "pred = rf_clf.predict(x_test)\n",
    "print(accuracy_score(y_test, pred))"
   ]
  },
  {
   "cell_type": "code",
   "execution_count": 19,
   "metadata": {},
   "outputs": [
    {
     "name": "stderr",
     "output_type": "stream",
     "text": [
      "[Parallel(n_jobs=1)]: Using backend SequentialBackend with 1 concurrent workers.\n"
     ]
    },
    {
     "name": "stdout",
     "output_type": "stream",
     "text": [
      "0.9385964912280702\n"
     ]
    },
    {
     "name": "stderr",
     "output_type": "stream",
     "text": [
      "[Parallel(n_jobs=1)]: Done 500 out of 500 | elapsed:    0.4s finished\n",
      "[Parallel(n_jobs=1)]: Using backend SequentialBackend with 1 concurrent workers.\n",
      "[Parallel(n_jobs=1)]: Done 500 out of 500 | elapsed:    0.0s finished\n"
     ]
    }
   ],
   "source": [
    "rf_clf2 = RandomForestClassifier(n_estimators = 500,\n",
    "                                max_depth = 3,\n",
    "                                random_state = 103,\n",
    "                                verbose = 1)\n",
    "\n",
    "rf_clf2.fit(x_train, y_train)\n",
    "pred2 = rf_clf2.predict(x_test)\n",
    "print(accuracy_score(y_test, pred2))"
   ]
  },
  {
   "cell_type": "code",
   "execution_count": 20,
   "metadata": {},
   "outputs": [
    {
     "name": "stderr",
     "output_type": "stream",
     "text": [
      "[Parallel(n_jobs=1)]: Using backend SequentialBackend with 1 concurrent workers.\n"
     ]
    },
    {
     "name": "stdout",
     "output_type": "stream",
     "text": [
      "0.9473684210526315\n"
     ]
    },
    {
     "name": "stderr",
     "output_type": "stream",
     "text": [
      "[Parallel(n_jobs=1)]: Done 500 out of 500 | elapsed:    0.5s finished\n",
      "[Parallel(n_jobs=1)]: Using backend SequentialBackend with 1 concurrent workers.\n",
      "[Parallel(n_jobs=1)]: Done 500 out of 500 | elapsed:    0.0s finished\n"
     ]
    }
   ],
   "source": [
    "rf_clf3 = RandomForestClassifier(n_estimators = 500,\n",
    "                                max_depth = 10,\n",
    "                                random_state = 103,\n",
    "                                verbose = 1)\n",
    "\n",
    "rf_clf3.fit(x_train, y_train)\n",
    "pred3 = rf_clf3.predict(x_test)\n",
    "print(accuracy_score(y_test, pred3))"
   ]
  },
  {
   "cell_type": "code",
   "execution_count": 23,
   "metadata": {},
   "outputs": [],
   "source": [
    "from sklearn.model_selection import GridSearchCV  # 모형의 최적 파라미터를 찾아줌"
   ]
  },
  {
   "cell_type": "code",
   "execution_count": 24,
   "metadata": {},
   "outputs": [
    {
     "data": {
      "text/plain": [
       "RandomForestClassifier()"
      ]
     },
     "execution_count": 24,
     "metadata": {},
     "output_type": "execute_result"
    }
   ],
   "source": [
    "rf_clf4 = RandomForestClassifier()\n",
    "rf_clf4"
   ]
  },
  {
   "cell_type": "code",
   "execution_count": 29,
   "metadata": {},
   "outputs": [
    {
     "name": "stdout",
     "output_type": "stream",
     "text": [
      "Fitting 5 folds for each of 16 candidates, totalling 80 fits\n"
     ]
    },
    {
     "name": "stderr",
     "output_type": "stream",
     "text": [
      "[Parallel(n_jobs=-1)]: Using backend ThreadingBackend with 4 concurrent workers.\n",
      "[Parallel(n_jobs=-1)]: Done  42 tasks      | elapsed:    0.0s\n",
      "[Parallel(n_jobs=-1)]: Done 192 tasks      | elapsed:    0.1s\n",
      "[Parallel(n_jobs=-1)]: Done 442 tasks      | elapsed:    0.3s\n",
      "[Parallel(n_jobs=-1)]: Done 792 tasks      | elapsed:    0.7s\n",
      "[Parallel(n_jobs=-1)]: Done 1000 out of 1000 | elapsed:    0.9s finished\n"
     ]
    },
    {
     "name": "stdout",
     "output_type": "stream",
     "text": [
      "최적 하이퍼 파라미터 :  {'max_depth': 10, 'n_estimators': 1000}\n",
      "최고 예측 정확도 : 0.9670\n"
     ]
    }
   ],
   "source": [
    "# 여러 파라미터(params) 조건 중에서 최적의 조건을 찾기\n",
    "params = { 'n_estimators' : [10, 100, 500, 1000],\n",
    "         'max_depth' : [3, 5, 10, 15], }\n",
    "\n",
    "# RandomForestClassifier 객체 생성 후 GridSearchCV 수행\n",
    "rf_clf4 = RandomForestClassifier(random_state = 103,\n",
    "                                n_jobs = -1,\n",
    "                                verbose = 1) # RF 객체 생성\n",
    "\n",
    "grid_cv = GridSearchCV(rf_clf4,\n",
    "                      param_grid = params,\n",
    "                      n_jobs = -1,\n",
    "                      verbose = 1)\n",
    "grid_cv.fit(x_train, y_train)\n",
    "\n",
    "print(\"최적 하이퍼 파라미터 : \", grid_cv.best_params_)\n",
    "print(\"최고 예측 정확도 : {:.4f}\".format(grid_cv.best_score_) )"
   ]
  },
  {
   "cell_type": "code",
   "execution_count": 30,
   "metadata": {},
   "outputs": [
    {
     "name": "stderr",
     "output_type": "stream",
     "text": [
      "[Parallel(n_jobs=1)]: Using backend SequentialBackend with 1 concurrent workers.\n"
     ]
    },
    {
     "name": "stdout",
     "output_type": "stream",
     "text": [
      "0.9473684210526315\n"
     ]
    },
    {
     "name": "stderr",
     "output_type": "stream",
     "text": [
      "[Parallel(n_jobs=1)]: Done 1000 out of 1000 | elapsed:    1.1s finished\n",
      "[Parallel(n_jobs=1)]: Using backend SequentialBackend with 1 concurrent workers.\n",
      "[Parallel(n_jobs=1)]: Done 1000 out of 1000 | elapsed:    0.0s finished\n"
     ]
    }
   ],
   "source": [
    "rf_clf5 = RandomForestClassifier(n_estimators = 1000,\n",
    "                                max_depth = 10,\n",
    "                                random_state = 103,\n",
    "                                verbose = 1)\n",
    "rf_clf5.fit(x_train, y_train)\n",
    "pred5 = rf_clf5.predict(x_test)\n",
    "print(accuracy_score(y_test, pred5))"
   ]
  }
 ],
 "metadata": {
  "kernelspec": {
   "display_name": "Python 3",
   "language": "python",
   "name": "python3"
  },
  "language_info": {
   "codemirror_mode": {
    "name": "ipython",
    "version": 3
   },
   "file_extension": ".py",
   "mimetype": "text/x-python",
   "name": "python",
   "nbconvert_exporter": "python",
   "pygments_lexer": "ipython3",
   "version": "3.8.8"
  }
 },
 "nbformat": 4,
 "nbformat_minor": 4
}
