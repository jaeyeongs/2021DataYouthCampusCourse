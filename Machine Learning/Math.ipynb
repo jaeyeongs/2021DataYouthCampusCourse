{
 "cells": [
  {
   "cell_type": "markdown",
   "metadata": {},
   "source": [
    "## 통계"
   ]
  },
  {
   "cell_type": "markdown",
   "metadata": {},
   "source": [
    "- #### 평균 확인"
   ]
  },
  {
   "cell_type": "code",
   "execution_count": 1,
   "metadata": {},
   "outputs": [],
   "source": [
    "import numpy as np"
   ]
  },
  {
   "cell_type": "code",
   "execution_count": 3,
   "metadata": {},
   "outputs": [
    {
     "name": "stdout",
     "output_type": "stream",
     "text": [
      "78.0\n",
      "78.0\n"
     ]
    }
   ],
   "source": [
    "a = [70, 91, 69, 78, 82]\n",
    "avg1 = np.mean(a) # mean 함수를 사용할 경우\n",
    "avg2 = sum(a) / len(a) # mean 함수를 쓰지않고 리스트 합 / 리스트 개수 \n",
    "\n",
    "print(avg1)\n",
    "print(avg2)"
   ]
  },
  {
   "cell_type": "markdown",
   "metadata": {},
   "source": [
    "- #### 분산과 표준편차의 차이 확인"
   ]
  },
  {
   "cell_type": "code",
   "execution_count": 4,
   "metadata": {},
   "outputs": [
    {
     "name": "stdout",
     "output_type": "stream",
     "text": [
      "20.959999999999997\n",
      "0.0020960000000000037\n"
     ]
    }
   ],
   "source": [
    "a = [173, 181, 168, 175, 179]\n",
    "b = [1.73, 1.81, 1.68, 1.75, 1.79]\n",
    "\n",
    "# 분산\n",
    "print(np.var(a))\n",
    "print(np.var(b))"
   ]
  },
  {
   "cell_type": "code",
   "execution_count": 5,
   "metadata": {},
   "outputs": [
    {
     "name": "stdout",
     "output_type": "stream",
     "text": [
      "4.578209256903839\n",
      "0.04578209256903843\n"
     ]
    }
   ],
   "source": [
    "# 표준편차\n",
    "print(np.std(a))\n",
    "print(np.std(b))"
   ]
  },
  {
   "cell_type": "code",
   "execution_count": 6,
   "metadata": {},
   "outputs": [
    {
     "name": "stdout",
     "output_type": "stream",
     "text": [
      "[-0.48053723  1.26687088 -1.5726673  -0.0436852   0.83001885]\n",
      "[-0.48053723  1.26687088 -1.5726673  -0.0436852   0.83001885]\n"
     ]
    }
   ],
   "source": [
    "# 표준 값(Z)\n",
    "def standardize(x):\n",
    "    return (x - np.mean(x)) / np.std(x)\n",
    "a = [173, 181, 168, 175, 179]\n",
    "b = [1.73, 1.81, 1.68, 1.75, 1.79]\n",
    "\n",
    "print(standardize(a))\n",
    "print(standardize(b))"
   ]
  },
  {
   "cell_type": "markdown",
   "metadata": {},
   "source": [
    "- #### 정규분포난수를 생성하고 평균과 표준편차 계산"
   ]
  },
  {
   "cell_type": "code",
   "execution_count": 16,
   "metadata": {},
   "outputs": [
    {
     "name": "stdout",
     "output_type": "stream",
     "text": [
      "0.05318928679233546\n",
      "1.0092782135751783\n"
     ]
    }
   ],
   "source": [
    "# 난수를 1,000개 생성한 리스트를 변수 n에 저장\n",
    "n = np.random.randn(1000)\n",
    "\n",
    "print(np.mean(n)) # 평균이 0에 가까움\n",
    "print(np.std(n)) # 표준편차 1에 가까움"
   ]
  },
  {
   "cell_type": "markdown",
   "metadata": {},
   "source": [
    "## 미분"
   ]
  },
  {
   "cell_type": "markdown",
   "metadata": {},
   "source": [
    "- #### 2차함수계산"
   ]
  },
  {
   "cell_type": "code",
   "execution_count": 17,
   "metadata": {},
   "outputs": [
    {
     "name": "stdout",
     "output_type": "stream",
     "text": [
      "5\n",
      "2\n"
     ]
    }
   ],
   "source": [
    "def f(x):\n",
    "    return x**2 + 1\n",
    "\n",
    "print(f(-2))\n",
    "print(f(1))"
   ]
  },
  {
   "cell_type": "markdown",
   "metadata": {},
   "source": [
    "- #### 미분"
   ]
  },
  {
   "cell_type": "code",
   "execution_count": 18,
   "metadata": {},
   "outputs": [
    {
     "name": "stdout",
     "output_type": "stream",
     "text": [
      "[1, 1.0, 3.0]\n",
      "[0.1, 0.10000000000000009, 2.0999999999999996]\n",
      "[0.01, 0.009999999999998899, 2.010000000000023]\n",
      "[0.001, 0.0009999999999177334, 2.0009999999999195]\n"
     ]
    }
   ],
   "source": [
    "def df(a, h):\n",
    "    return (f(a + h) - f(a)) / h\n",
    "\n",
    "# h값을 0에 가깝게 변화시켜 a = 0일 때와 1일 때의 미분계수 계산\n",
    "for h in [1, 1e-1, 1e-2, 1e-3]:\n",
    "    print([h, df(0, h), df(1, h)])"
   ]
  },
  {
   "cell_type": "markdown",
   "metadata": {},
   "source": [
    "## 행렬"
   ]
  },
  {
   "cell_type": "markdown",
   "metadata": {},
   "source": [
    "- #### 행렬의 합과 차 계산"
   ]
  },
  {
   "cell_type": "code",
   "execution_count": 21,
   "metadata": {},
   "outputs": [
    {
     "name": "stdout",
     "output_type": "stream",
     "text": [
      "[[ 4  6  8]\n",
      " [ 7  9 11]]\n",
      "[[-2 -2 -2]\n",
      " [-1 -1 -1]]\n"
     ]
    }
   ],
   "source": [
    "A = np.array([[1, 2, 3], [3, 4, 5]])\n",
    "B = np.array([[3, 4, 5], [4, 5, 6]])\n",
    "\n",
    "print(A + B)\n",
    "print(A - B)"
   ]
  },
  {
   "cell_type": "markdown",
   "metadata": {},
   "source": [
    "- #### 행렬의 곱 계산"
   ]
  },
  {
   "cell_type": "code",
   "execution_count": 26,
   "metadata": {},
   "outputs": [
    {
     "name": "stdout",
     "output_type": "stream",
     "text": [
      "[[26 32]\n",
      " [50 62]]\n",
      "[[26 32]\n",
      " [50 62]]\n"
     ]
    }
   ],
   "source": [
    "A = np.array([[1, 2, 3], [3, 4, 5]])\n",
    "B = np.array([[3, 4], [4, 5], [5, 6]])\n",
    "\n",
    "print(A.dot(B))\n",
    "print(A @ B)"
   ]
  },
  {
   "cell_type": "markdown",
   "metadata": {},
   "source": [
    "- #### 행렬의 역행렬"
   ]
  },
  {
   "cell_type": "code",
   "execution_count": 27,
   "metadata": {},
   "outputs": [
    {
     "name": "stdout",
     "output_type": "stream",
     "text": [
      "[[ 3. -5.]\n",
      " [-1.  2.]]\n"
     ]
    }
   ],
   "source": [
    "A = np.array([[2, 5], [1, 3]])\n",
    "print(np.linalg.inv(A))"
   ]
  },
  {
   "cell_type": "markdown",
   "metadata": {},
   "source": [
    "- #### 행렬식 계산"
   ]
  },
  {
   "cell_type": "code",
   "execution_count": 29,
   "metadata": {},
   "outputs": [
    {
     "name": "stdout",
     "output_type": "stream",
     "text": [
      "1.0\n",
      "-13.0\n"
     ]
    }
   ],
   "source": [
    "A = np.array([[2, 5], [1, 3]])\n",
    "print(np.linalg.det(A))\n",
    "\n",
    "B = np.array([[1, 4, 2], [3, -1, -2], [-3, 1, 3]])\n",
    "print(np.linalg.det(B))"
   ]
  }
 ],
 "metadata": {
  "kernelspec": {
   "display_name": "Python 3",
   "language": "python",
   "name": "python3"
  },
  "language_info": {
   "codemirror_mode": {
    "name": "ipython",
    "version": 3
   },
   "file_extension": ".py",
   "mimetype": "text/x-python",
   "name": "python",
   "nbconvert_exporter": "python",
   "pygments_lexer": "ipython3",
   "version": "3.8.5"
  }
 },
 "nbformat": 4,
 "nbformat_minor": 4
}
