{
 "cells": [
  {
   "cell_type": "markdown",
   "metadata": {},
   "source": [
    "### 언어모델링"
   ]
  },
  {
   "cell_type": "code",
   "execution_count": 51,
   "metadata": {},
   "outputs": [],
   "source": [
    "import numpy as np\n",
    "import tensorflow as tf\n",
    "from tensorflow.keras.layers import SimpleRNN"
   ]
  },
  {
   "cell_type": "code",
   "execution_count": 52,
   "metadata": {},
   "outputs": [
    {
     "name": "stdout",
     "output_type": "stream",
     "text": [
      "(4, 5)\n"
     ]
    }
   ],
   "source": [
    "train_X = [[0.1, 4.2, 1.5, 1.1, 2.8], [1.0, 3.1, 2.5, 0.7, 1.1],\n",
    "          [0.3, 2.1, 1.5, 2.1, 0.1], [2.2, 1.4, 0.5, 0.9, 1.1]]\n",
    "\n",
    "print(np.shape(train_X))"
   ]
  },
  {
   "cell_type": "code",
   "execution_count": 53,
   "metadata": {},
   "outputs": [
    {
     "name": "stdout",
     "output_type": "stream",
     "text": [
      "[[[0.1 4.2 1.5 1.1 2.8]\n",
      "  [1.  3.1 2.5 0.7 1.1]\n",
      "  [0.3 2.1 1.5 2.1 0.1]\n",
      "  [2.2 1.4 0.5 0.9 1.1]]]\n",
      "(1, 4, 5)\n"
     ]
    }
   ],
   "source": [
    "train_X = [[[0.1, 4.2, 1.5, 1.1, 2.8], [1.0, 3.1, 2.5, 0.7, 1.1],\n",
    "          [0.3, 2.1, 1.5, 2.1, 0.1], [2.2, 1.4, 0.5, 0.9, 1.1]]]\n",
    "\n",
    "train_X = np.array(train_X, dtype = np.float32) # 3D로 변환\n",
    "\n",
    "print(train_X)\n",
    "print(train_X.shape)"
   ]
  },
  {
   "cell_type": "code",
   "execution_count": 54,
   "metadata": {},
   "outputs": [
    {
     "name": "stdout",
     "output_type": "stream",
     "text": [
      "[<tf.Tensor: shape=(1, 4, 3), dtype=float32, numpy=\n",
      "array([[[-0.92115074,  0.9066026 ,  0.8442274 ],\n",
      "        [-0.42008236, -0.47712192,  0.6921621 ],\n",
      "        [ 0.5263806 , -0.14986418,  0.784152  ],\n",
      "        [-0.48431465, -0.46285206,  0.6646824 ]]], dtype=float32)>, <tf.Tensor: shape=(1, 3), dtype=float32, numpy=array([[-0.48431465, -0.46285206,  0.6646824 ]], dtype=float32)>]\n"
     ]
    }
   ],
   "source": [
    "rnn = SimpleRNN(3, return_sequences = True, return_state = True)\n",
    "\n",
    "rnn(train_X)\n",
    "print(rnn(train_X))"
   ]
  },
  {
   "cell_type": "code",
   "execution_count": 55,
   "metadata": {},
   "outputs": [
    {
     "name": "stdout",
     "output_type": "stream",
     "text": [
      "train_X : [[[0.1 4.2 1.5 1.1 2.8]\n",
      "  [1.  3.1 2.5 0.7 1.1]\n",
      "  [0.3 2.1 1.5 2.1 0.1]\n",
      "  [2.2 1.4 0.5 0.9 1.1]]], shape : (1, 4, 5)\n",
      "hidden states : [[[-0.92115074  0.9066026   0.8442274 ]\n",
      "  [-0.42008236 -0.47712192  0.6921621 ]\n",
      "  [ 0.5263806  -0.14986418  0.784152  ]\n",
      "  [-0.48431465 -0.46285206  0.6646824 ]]], shape : (1, 4, 3)\n",
      "last hidden state : [[-0.48431465 -0.46285206  0.6646824 ]], shape : (1, 3)\n"
     ]
    }
   ],
   "source": [
    "hidden_states, last_states = rnn(train_X)\n",
    "\n",
    "# 입력으로 사용한 훈련 데이터\n",
    "print('train_X : {}, shape : {}'.format(train_X, train_X.shape))\n",
    "\n",
    "# 모든 time-step의 은닉 상태\n",
    "print('hidden states : {}, shape : {}'.format(hidden_states, hidden_states.shape))\n",
    "\n",
    "# 마지막 은닉 상태\n",
    "print('last hidden state : {}, shape : {}'.format(last_states, last_states.shape))"
   ]
  },
  {
   "cell_type": "code",
   "execution_count": null,
   "metadata": {},
   "outputs": [],
   "source": []
  },
  {
   "cell_type": "code",
   "execution_count": 56,
   "metadata": {},
   "outputs": [
    {
     "name": "stdout",
     "output_type": "stream",
     "text": [
      "[[[0.1 4.2 1.5 1.1 2.8]\n",
      "  [1.  3.1 2.5 0.7 1.1]\n",
      "  [0.3 2.1 1.5 2.1 0.1]\n",
      "  [2.2 1.4 0.5 0.9 1.1]]]\n",
      "(1, 4, 5)\n"
     ]
    }
   ],
   "source": [
    "train_X = [[[0.1, 4.2, 1.5, 1.1, 2.8], [1.0, 3.1, 2.5, 0.7, 1.1],\n",
    "          [0.3, 2.1, 1.5, 2.1, 0.1], [2.2, 1.4, 0.5, 0.9, 1.1]]]\n",
    "\n",
    "train_X = np.array(train_X, dtype = np.float32) # 3D로 변환\n",
    "\n",
    "print(train_X)\n",
    "print(train_X.shape)"
   ]
  },
  {
   "cell_type": "code",
   "execution_count": 57,
   "metadata": {},
   "outputs": [
    {
     "name": "stdout",
     "output_type": "stream",
     "text": [
      "tf.Tensor(\n",
      "[[[6.15919650e-01 3.36930901e-01 5.23016904e-04 2.54207198e-02\n",
      "   2.12057475e-02]\n",
      "  [5.81930518e-01 2.00833827e-01 7.05105299e-03 1.30010650e-01\n",
      "   8.01739916e-02]\n",
      "  [3.56334120e-01 2.83586651e-01 7.12634064e-03 2.35112906e-01\n",
      "   1.17840014e-01]\n",
      "  [6.59188330e-01 1.68487459e-01 3.37467082e-02 8.95452499e-02\n",
      "   4.90322262e-02]]], shape=(1, 4, 5), dtype=float32)\n"
     ]
    }
   ],
   "source": [
    "from tensorflow.keras.layers import SimpleRNN, Dense\n",
    "\n",
    "rnn = SimpleRNN(3, return_sequences = True, return_state = True)\n",
    "rnn = Dense(5, activation = \"softmax\")\n",
    "\n",
    "print(rnn(train_X))"
   ]
  },
  {
   "cell_type": "markdown",
   "metadata": {},
   "source": [
    "- 언어 모델링(1)"
   ]
  },
  {
   "cell_type": "code",
   "execution_count": 58,
   "metadata": {},
   "outputs": [],
   "source": [
    "text=\"이 여름 다시 한번 설레고 싶다 그 여름 틀어줘\""
   ]
  },
  {
   "cell_type": "code",
   "execution_count": 59,
   "metadata": {},
   "outputs": [],
   "source": [
    "from keras_preprocessing.text import Tokenizer\n",
    "\n",
    "t = Tokenizer()\n",
    "t.fit_on_texts([text])\n",
    "\n",
    "encoded = t.texts_to_sequences([text])[0]"
   ]
  },
  {
   "cell_type": "code",
   "execution_count": 60,
   "metadata": {},
   "outputs": [
    {
     "data": {
      "text/plain": [
       "[[2, 1, 3, 4, 5, 6, 7, 1, 8]]"
      ]
     },
     "execution_count": 60,
     "metadata": {},
     "output_type": "execute_result"
    }
   ],
   "source": [
    "# [0]을 해주지 않으면 리스트 안의 리스트 형태로 저장 됨\n",
    "t.texts_to_sequences([text])"
   ]
  },
  {
   "cell_type": "code",
   "execution_count": 61,
   "metadata": {},
   "outputs": [
    {
     "data": {
      "text/plain": [
       "[2, 1, 3, 4, 5, 6, 7, 1, 8]"
      ]
     },
     "execution_count": 61,
     "metadata": {},
     "output_type": "execute_result"
    }
   ],
   "source": [
    "# [0]을 해주면 하나의 리스트로 저장됨\n",
    "t.texts_to_sequences([text])[0]"
   ]
  },
  {
   "cell_type": "code",
   "execution_count": 62,
   "metadata": {},
   "outputs": [],
   "source": [
    "# 케라스 토크나이저의 정수 인코딩은 인덱스가 1부터 시작하지만,\n",
    "# 케라스 원-핫 인코딩에서 배열의 인덱스가 0부터 시작하기 떄문에\n",
    "# 배열의 크기를 실제 단어 집합의 크기보다 +1로 생성해야하므로 미리 +1 선언"
   ]
  },
  {
   "cell_type": "code",
   "execution_count": 63,
   "metadata": {},
   "outputs": [
    {
     "name": "stdout",
     "output_type": "stream",
     "text": [
      "단어 집합의 크기 : 9\n"
     ]
    }
   ],
   "source": [
    "vocab_size = len(t.word_index) + 1\n",
    "\n",
    "print('단어 집합의 크기 :', vocab_size)"
   ]
  },
  {
   "cell_type": "code",
   "execution_count": 64,
   "metadata": {},
   "outputs": [
    {
     "name": "stdout",
     "output_type": "stream",
     "text": [
      "{'여름': 1, '이': 2, '다시': 3, '한번': 4, '설레고': 5, '싶다': 6, '그': 7, '틀어줘': 8}\n"
     ]
    }
   ],
   "source": [
    "print(t.word_index)"
   ]
  },
  {
   "cell_type": "code",
   "execution_count": 65,
   "metadata": {},
   "outputs": [
    {
     "name": "stdout",
     "output_type": "stream",
     "text": [
      "단어 묶음의 개수 : 8\n"
     ]
    }
   ],
   "source": [
    "# X와 Y의 관계를 만들기 위해 단어를 두개씩 묶어서 저장\n",
    "\n",
    "sequences = list()\n",
    "\n",
    "for c in range(1, len(encoded)):\n",
    "    sequence = encoded[c-1:c+1]\n",
    "    sequences.append(sequence)\n",
    "    \n",
    "print('단어 묶음의 개수 :', len(sequences))"
   ]
  },
  {
   "cell_type": "code",
   "execution_count": 66,
   "metadata": {},
   "outputs": [
    {
     "name": "stdout",
     "output_type": "stream",
     "text": [
      "[[2, 1], [1, 3], [3, 4], [4, 5], [5, 6], [6, 7], [7, 1], [1, 8]]\n"
     ]
    }
   ],
   "source": [
    "print(sequences)"
   ]
  },
  {
   "cell_type": "code",
   "execution_count": 67,
   "metadata": {},
   "outputs": [],
   "source": [
    "import numpy as np\n",
    "\n",
    "X, y = zip(*sequences) # 첫번째 열을 X, 두번쨰 열을 Y로 지정\n",
    "\n",
    "X = np.array(X) # 타입을 배열로 변환\n",
    "y = np.array(y) #타입을 배열로 변환"
   ]
  },
  {
   "cell_type": "code",
   "execution_count": 68,
   "metadata": {},
   "outputs": [
    {
     "name": "stdout",
     "output_type": "stream",
     "text": [
      "[2 1 3 4 5 6 7 1]\n",
      "[1 3 4 5 6 7 1 8]\n"
     ]
    }
   ],
   "source": [
    "print(X)\n",
    "print(y)"
   ]
  },
  {
   "cell_type": "code",
   "execution_count": 69,
   "metadata": {},
   "outputs": [
    {
     "name": "stdout",
     "output_type": "stream",
     "text": [
      "[[0. 1. 0. 0. 0. 0. 0. 0. 0.]\n",
      " [0. 0. 0. 1. 0. 0. 0. 0. 0.]\n",
      " [0. 0. 0. 0. 1. 0. 0. 0. 0.]\n",
      " [0. 0. 0. 0. 0. 1. 0. 0. 0.]\n",
      " [0. 0. 0. 0. 0. 0. 1. 0. 0.]\n",
      " [0. 0. 0. 0. 0. 0. 0. 1. 0.]\n",
      " [0. 1. 0. 0. 0. 0. 0. 0. 0.]\n",
      " [0. 0. 0. 0. 0. 0. 0. 0. 1.]]\n"
     ]
    }
   ],
   "source": [
    "from tensorflow.keras.utils import to_categorical\n",
    "\n",
    "y = to_categorical(y, num_classes = vocab_size) # 원 핫 인코딩\n",
    "\n",
    "print(y)"
   ]
  },
  {
   "cell_type": "code",
   "execution_count": 70,
   "metadata": {},
   "outputs": [],
   "source": [
    "from tensorflow.keras.layers import Embedding, Dense, SimpleRNN\n",
    "from tensorflow.keras.models import Sequential\n",
    "\n",
    "model = Sequential()\n",
    "model.add(Embedding(vocab_size, 9, input_length = 1))\n",
    "# 단어 집합의 크기는 9, 임베딩 벡터의 크기는 9, 각 sample의 길이는 단어 한 개이므로 길이는 1\n",
    "\n",
    "model.add(SimpleRNN(9))\n",
    "# RNN의 결과값으로 나오는 벡터의 차원 또한 9로 한다. 더 크게 해줘도 상관X\n",
    "\n",
    "model.add(Dense(vocab_size, activation = \"softmax\"))\n",
    "# 출력층을 지나서 나오는 벡터의 크기도 9로 한다"
   ]
  },
  {
   "cell_type": "code",
   "execution_count": 71,
   "metadata": {},
   "outputs": [
    {
     "name": "stdout",
     "output_type": "stream",
     "text": [
      "Note: you may need to restart the kernel to use updated packages.\n"
     ]
    },
    {
     "name": "stderr",
     "output_type": "stream",
     "text": [
      "ERROR: Could not find a version that satisfies the requirement ft-nightly-gpu\n",
      "ERROR: No matching distribution found for ft-nightly-gpu\n"
     ]
    }
   ],
   "source": [
    "#pip install ft-nightly-gpu"
   ]
  },
  {
   "cell_type": "code",
   "execution_count": 72,
   "metadata": {},
   "outputs": [
    {
     "name": "stdout",
     "output_type": "stream",
     "text": [
      "Note: you may need to restart the kernel to use updated packages.\n"
     ]
    },
    {
     "name": "stderr",
     "output_type": "stream",
     "text": [
      "ERROR: Could not find a version that satisfies the requirement ft-nightly\n",
      "ERROR: No matching distribution found for ft-nightly\n"
     ]
    }
   ],
   "source": [
    "#pip install ft-nightly"
   ]
  },
  {
   "cell_type": "code",
   "execution_count": 73,
   "metadata": {},
   "outputs": [
    {
     "name": "stdout",
     "output_type": "stream",
     "text": [
      "Epoch 1/500\n",
      "1/1 [==============================] - 2s 2s/step - loss: 2.2144 - accuracy: 0.1250\n",
      "Epoch 2/500\n",
      "1/1 [==============================] - 0s 5ms/step - loss: 2.2107 - accuracy: 0.1250\n",
      "Epoch 3/500\n",
      "1/1 [==============================] - 0s 8ms/step - loss: 2.2070 - accuracy: 0.1250\n",
      "Epoch 4/500\n",
      "1/1 [==============================] - 0s 6ms/step - loss: 2.2033 - accuracy: 0.1250\n",
      "Epoch 5/500\n",
      "1/1 [==============================] - 0s 7ms/step - loss: 2.1996 - accuracy: 0.1250\n",
      "Epoch 6/500\n",
      "1/1 [==============================] - 0s 5ms/step - loss: 2.1959 - accuracy: 0.1250\n",
      "Epoch 7/500\n",
      "1/1 [==============================] - 0s 8ms/step - loss: 2.1923 - accuracy: 0.1250\n",
      "Epoch 8/500\n",
      "1/1 [==============================] - 0s 4ms/step - loss: 2.1887 - accuracy: 0.1250\n",
      "Epoch 9/500\n",
      "1/1 [==============================] - 0s 3ms/step - loss: 2.1851 - accuracy: 0.2500\n",
      "Epoch 10/500\n",
      "1/1 [==============================] - 0s 4ms/step - loss: 2.1815 - accuracy: 0.2500\n",
      "Epoch 11/500\n",
      "1/1 [==============================] - 0s 4ms/step - loss: 2.1779 - accuracy: 0.2500\n",
      "Epoch 12/500\n",
      "1/1 [==============================] - 0s 5ms/step - loss: 2.1743 - accuracy: 0.2500\n",
      "Epoch 13/500\n",
      "1/1 [==============================] - 0s 4ms/step - loss: 2.1707 - accuracy: 0.2500\n",
      "Epoch 14/500\n",
      "1/1 [==============================] - 0s 7ms/step - loss: 2.1672 - accuracy: 0.5000\n",
      "Epoch 15/500\n",
      "1/1 [==============================] - 0s 5ms/step - loss: 2.1636 - accuracy: 0.5000\n",
      "Epoch 16/500\n",
      "1/1 [==============================] - 0s 6ms/step - loss: 2.1600 - accuracy: 0.5000\n",
      "Epoch 17/500\n",
      "1/1 [==============================] - 0s 4ms/step - loss: 2.1564 - accuracy: 0.5000\n",
      "Epoch 18/500\n",
      "1/1 [==============================] - 0s 7ms/step - loss: 2.1528 - accuracy: 0.5000\n",
      "Epoch 19/500\n",
      "1/1 [==============================] - 0s 5ms/step - loss: 2.1492 - accuracy: 0.5000\n",
      "Epoch 20/500\n",
      "1/1 [==============================] - 0s 4ms/step - loss: 2.1456 - accuracy: 0.5000\n",
      "Epoch 21/500\n",
      "1/1 [==============================] - 0s 4ms/step - loss: 2.1420 - accuracy: 0.6250\n",
      "Epoch 22/500\n",
      "1/1 [==============================] - 0s 4ms/step - loss: 2.1384 - accuracy: 0.7500\n",
      "Epoch 23/500\n",
      "1/1 [==============================] - 0s 4ms/step - loss: 2.1347 - accuracy: 0.7500\n",
      "Epoch 24/500\n",
      "1/1 [==============================] - 0s 5ms/step - loss: 2.1311 - accuracy: 0.7500\n",
      "Epoch 25/500\n",
      "1/1 [==============================] - 0s 4ms/step - loss: 2.1274 - accuracy: 0.7500\n",
      "Epoch 26/500\n",
      "1/1 [==============================] - 0s 5ms/step - loss: 2.1237 - accuracy: 0.7500\n",
      "Epoch 27/500\n",
      "1/1 [==============================] - 0s 5ms/step - loss: 2.1199 - accuracy: 0.7500\n",
      "Epoch 28/500\n",
      "1/1 [==============================] - 0s 4ms/step - loss: 2.1162 - accuracy: 0.7500\n",
      "Epoch 29/500\n",
      "1/1 [==============================] - 0s 5ms/step - loss: 2.1124 - accuracy: 0.7500\n",
      "Epoch 30/500\n",
      "1/1 [==============================] - 0s 9ms/step - loss: 2.1086 - accuracy: 0.7500\n",
      "Epoch 31/500\n",
      "1/1 [==============================] - 0s 5ms/step - loss: 2.1047 - accuracy: 0.7500\n",
      "Epoch 32/500\n",
      "1/1 [==============================] - 0s 4ms/step - loss: 2.1009 - accuracy: 0.7500\n",
      "Epoch 33/500\n",
      "1/1 [==============================] - 0s 6ms/step - loss: 2.0970 - accuracy: 0.7500\n",
      "Epoch 34/500\n",
      "1/1 [==============================] - 0s 5ms/step - loss: 2.0930 - accuracy: 0.7500\n",
      "Epoch 35/500\n",
      "1/1 [==============================] - 0s 4ms/step - loss: 2.0890 - accuracy: 0.7500\n",
      "Epoch 36/500\n",
      "1/1 [==============================] - 0s 6ms/step - loss: 2.0850 - accuracy: 0.7500\n",
      "Epoch 37/500\n",
      "1/1 [==============================] - 0s 4ms/step - loss: 2.0810 - accuracy: 0.7500\n",
      "Epoch 38/500\n",
      "1/1 [==============================] - 0s 8ms/step - loss: 2.0769 - accuracy: 0.7500\n",
      "Epoch 39/500\n",
      "1/1 [==============================] - 0s 4ms/step - loss: 2.0727 - accuracy: 0.7500\n",
      "Epoch 40/500\n",
      "1/1 [==============================] - 0s 7ms/step - loss: 2.0686 - accuracy: 0.7500\n",
      "Epoch 41/500\n",
      "1/1 [==============================] - 0s 4ms/step - loss: 2.0644 - accuracy: 0.7500\n",
      "Epoch 42/500\n",
      "1/1 [==============================] - 0s 6ms/step - loss: 2.0601 - accuracy: 0.7500\n",
      "Epoch 43/500\n",
      "1/1 [==============================] - 0s 4ms/step - loss: 2.0558 - accuracy: 0.7500\n",
      "Epoch 44/500\n",
      "1/1 [==============================] - 0s 8ms/step - loss: 2.0515 - accuracy: 0.7500\n",
      "Epoch 45/500\n",
      "1/1 [==============================] - 0s 7ms/step - loss: 2.0471 - accuracy: 0.7500\n",
      "Epoch 46/500\n",
      "1/1 [==============================] - 0s 4ms/step - loss: 2.0426 - accuracy: 0.7500\n",
      "Epoch 47/500\n",
      "1/1 [==============================] - 0s 5ms/step - loss: 2.0381 - accuracy: 0.7500\n",
      "Epoch 48/500\n",
      "1/1 [==============================] - 0s 5ms/step - loss: 2.0336 - accuracy: 0.7500\n",
      "Epoch 49/500\n",
      "1/1 [==============================] - 0s 5ms/step - loss: 2.0290 - accuracy: 0.7500\n",
      "Epoch 50/500\n",
      "1/1 [==============================] - 0s 4ms/step - loss: 2.0243 - accuracy: 0.7500\n",
      "Epoch 51/500\n",
      "1/1 [==============================] - 0s 5ms/step - loss: 2.0197 - accuracy: 0.7500\n",
      "Epoch 52/500\n",
      "1/1 [==============================] - 0s 4ms/step - loss: 2.0149 - accuracy: 0.7500\n",
      "Epoch 53/500\n",
      "1/1 [==============================] - 0s 3ms/step - loss: 2.0101 - accuracy: 0.7500\n",
      "Epoch 54/500\n",
      "1/1 [==============================] - 0s 4ms/step - loss: 2.0053 - accuracy: 0.7500\n",
      "Epoch 55/500\n",
      "1/1 [==============================] - 0s 4ms/step - loss: 2.0003 - accuracy: 0.7500\n",
      "Epoch 56/500\n",
      "1/1 [==============================] - 0s 5ms/step - loss: 1.9954 - accuracy: 0.7500\n",
      "Epoch 57/500\n",
      "1/1 [==============================] - 0s 5ms/step - loss: 1.9904 - accuracy: 0.7500\n",
      "Epoch 58/500\n",
      "1/1 [==============================] - 0s 3ms/step - loss: 1.9853 - accuracy: 0.7500\n",
      "Epoch 59/500\n",
      "1/1 [==============================] - 0s 3ms/step - loss: 1.9802 - accuracy: 0.7500\n",
      "Epoch 60/500\n",
      "1/1 [==============================] - 0s 4ms/step - loss: 1.9750 - accuracy: 0.7500\n",
      "Epoch 61/500\n",
      "1/1 [==============================] - 0s 4ms/step - loss: 1.9697 - accuracy: 0.7500\n",
      "Epoch 62/500\n",
      "1/1 [==============================] - 0s 3ms/step - loss: 1.9644 - accuracy: 0.7500\n",
      "Epoch 63/500\n",
      "1/1 [==============================] - 0s 3ms/step - loss: 1.9590 - accuracy: 0.7500\n",
      "Epoch 64/500\n",
      "1/1 [==============================] - 0s 4ms/step - loss: 1.9536 - accuracy: 0.7500\n",
      "Epoch 65/500\n",
      "1/1 [==============================] - 0s 5ms/step - loss: 1.9481 - accuracy: 0.7500\n",
      "Epoch 66/500\n",
      "1/1 [==============================] - 0s 5ms/step - loss: 1.9426 - accuracy: 0.7500\n",
      "Epoch 67/500\n",
      "1/1 [==============================] - 0s 4ms/step - loss: 1.9370 - accuracy: 0.7500\n",
      "Epoch 68/500\n",
      "1/1 [==============================] - 0s 7ms/step - loss: 1.9313 - accuracy: 0.7500\n",
      "Epoch 69/500\n",
      "1/1 [==============================] - ETA: 0s - loss: 1.9256 - accuracy: 0.75 - 0s 4ms/step - loss: 1.9256 - accuracy: 0.7500\n",
      "Epoch 70/500\n",
      "1/1 [==============================] - 0s 4ms/step - loss: 1.9198 - accuracy: 0.7500\n",
      "Epoch 71/500\n",
      "1/1 [==============================] - 0s 4ms/step - loss: 1.9139 - accuracy: 0.7500\n",
      "Epoch 72/500\n",
      "1/1 [==============================] - 0s 4ms/step - loss: 1.9080 - accuracy: 0.7500\n",
      "Epoch 73/500\n",
      "1/1 [==============================] - 0s 5ms/step - loss: 1.9020 - accuracy: 0.7500\n",
      "Epoch 74/500\n",
      "1/1 [==============================] - 0s 4ms/step - loss: 1.8960 - accuracy: 0.7500\n",
      "Epoch 75/500\n",
      "1/1 [==============================] - 0s 7ms/step - loss: 1.8899 - accuracy: 0.7500\n",
      "Epoch 76/500\n",
      "1/1 [==============================] - 0s 6ms/step - loss: 1.8837 - accuracy: 0.7500\n",
      "Epoch 77/500\n",
      "1/1 [==============================] - 0s 5ms/step - loss: 1.8775 - accuracy: 0.8750\n",
      "Epoch 78/500\n",
      "1/1 [==============================] - 0s 4ms/step - loss: 1.8712 - accuracy: 0.8750\n",
      "Epoch 79/500\n",
      "1/1 [==============================] - 0s 4ms/step - loss: 1.8649 - accuracy: 0.8750\n",
      "Epoch 80/500\n",
      "1/1 [==============================] - 0s 6ms/step - loss: 1.8584 - accuracy: 0.8750\n",
      "Epoch 81/500\n",
      "1/1 [==============================] - 0s 7ms/step - loss: 1.8520 - accuracy: 0.8750\n",
      "Epoch 82/500\n",
      "1/1 [==============================] - 0s 7ms/step - loss: 1.8454 - accuracy: 0.8750\n",
      "Epoch 83/500\n",
      "1/1 [==============================] - 0s 6ms/step - loss: 1.8388 - accuracy: 0.8750\n",
      "Epoch 84/500\n"
     ]
    },
    {
     "name": "stdout",
     "output_type": "stream",
     "text": [
      "1/1 [==============================] - 0s 3ms/step - loss: 1.8322 - accuracy: 0.8750\n",
      "Epoch 85/500\n",
      "1/1 [==============================] - 0s 5ms/step - loss: 1.8255 - accuracy: 0.8750\n",
      "Epoch 86/500\n",
      "1/1 [==============================] - 0s 3ms/step - loss: 1.8187 - accuracy: 0.8750\n",
      "Epoch 87/500\n",
      "1/1 [==============================] - 0s 7ms/step - loss: 1.8119 - accuracy: 0.8750\n",
      "Epoch 88/500\n",
      "1/1 [==============================] - 0s 5ms/step - loss: 1.8050 - accuracy: 0.8750\n",
      "Epoch 89/500\n",
      "1/1 [==============================] - 0s 4ms/step - loss: 1.7980 - accuracy: 0.8750\n",
      "Epoch 90/500\n",
      "1/1 [==============================] - 0s 6ms/step - loss: 1.7910 - accuracy: 0.8750\n",
      "Epoch 91/500\n",
      "1/1 [==============================] - 0s 8ms/step - loss: 1.7839 - accuracy: 0.8750\n",
      "Epoch 92/500\n",
      "1/1 [==============================] - 0s 10ms/step - loss: 1.7768 - accuracy: 0.8750\n",
      "Epoch 93/500\n",
      "1/1 [==============================] - 0s 7ms/step - loss: 1.7696 - accuracy: 0.8750\n",
      "Epoch 94/500\n",
      "1/1 [==============================] - 0s 6ms/step - loss: 1.7624 - accuracy: 0.8750\n",
      "Epoch 95/500\n",
      "1/1 [==============================] - 0s 8ms/step - loss: 1.7551 - accuracy: 0.8750\n",
      "Epoch 96/500\n",
      "1/1 [==============================] - 0s 8ms/step - loss: 1.7477 - accuracy: 0.8750\n",
      "Epoch 97/500\n",
      "1/1 [==============================] - 0s 8ms/step - loss: 1.7403 - accuracy: 0.8750\n",
      "Epoch 98/500\n",
      "1/1 [==============================] - 0s 5ms/step - loss: 1.7329 - accuracy: 0.8750\n",
      "Epoch 99/500\n",
      "1/1 [==============================] - 0s 7ms/step - loss: 1.7254 - accuracy: 0.8750\n",
      "Epoch 100/500\n",
      "1/1 [==============================] - 0s 8ms/step - loss: 1.7178 - accuracy: 0.8750\n",
      "Epoch 101/500\n",
      "1/1 [==============================] - 0s 4ms/step - loss: 1.7102 - accuracy: 0.8750\n",
      "Epoch 102/500\n",
      "1/1 [==============================] - 0s 7ms/step - loss: 1.7025 - accuracy: 0.8750\n",
      "Epoch 103/500\n",
      "1/1 [==============================] - 0s 4ms/step - loss: 1.6948 - accuracy: 0.8750\n",
      "Epoch 104/500\n",
      "1/1 [==============================] - 0s 4ms/step - loss: 1.6871 - accuracy: 0.8750\n",
      "Epoch 105/500\n",
      "1/1 [==============================] - 0s 4ms/step - loss: 1.6793 - accuracy: 0.8750\n",
      "Epoch 106/500\n",
      "1/1 [==============================] - 0s 7ms/step - loss: 1.6714 - accuracy: 0.8750\n",
      "Epoch 107/500\n",
      "1/1 [==============================] - 0s 8ms/step - loss: 1.6635 - accuracy: 0.8750\n",
      "Epoch 108/500\n",
      "1/1 [==============================] - 0s 6ms/step - loss: 1.6556 - accuracy: 0.8750\n",
      "Epoch 109/500\n",
      "1/1 [==============================] - 0s 8ms/step - loss: 1.6476 - accuracy: 0.8750\n",
      "Epoch 110/500\n",
      "1/1 [==============================] - 0s 6ms/step - loss: 1.6396 - accuracy: 0.8750\n",
      "Epoch 111/500\n",
      "1/1 [==============================] - 0s 9ms/step - loss: 1.6315 - accuracy: 0.8750\n",
      "Epoch 112/500\n",
      "1/1 [==============================] - 0s 5ms/step - loss: 1.6234 - accuracy: 0.8750\n",
      "Epoch 113/500\n",
      "1/1 [==============================] - 0s 4ms/step - loss: 1.6152 - accuracy: 0.8750\n",
      "Epoch 114/500\n",
      "1/1 [==============================] - 0s 6ms/step - loss: 1.6070 - accuracy: 0.8750\n",
      "Epoch 115/500\n",
      "1/1 [==============================] - 0s 4ms/step - loss: 1.5988 - accuracy: 0.8750\n",
      "Epoch 116/500\n",
      "1/1 [==============================] - 0s 5ms/step - loss: 1.5906 - accuracy: 0.8750\n",
      "Epoch 117/500\n",
      "1/1 [==============================] - 0s 8ms/step - loss: 1.5823 - accuracy: 0.8750\n",
      "Epoch 118/500\n",
      "1/1 [==============================] - 0s 4ms/step - loss: 1.5740 - accuracy: 0.8750\n",
      "Epoch 119/500\n",
      "1/1 [==============================] - 0s 6ms/step - loss: 1.5656 - accuracy: 0.8750\n",
      "Epoch 120/500\n",
      "1/1 [==============================] - 0s 6ms/step - loss: 1.5572 - accuracy: 0.8750\n",
      "Epoch 121/500\n",
      "1/1 [==============================] - 0s 5ms/step - loss: 1.5488 - accuracy: 0.8750\n",
      "Epoch 122/500\n",
      "1/1 [==============================] - 0s 4ms/step - loss: 1.5404 - accuracy: 0.8750\n",
      "Epoch 123/500\n",
      "1/1 [==============================] - 0s 6ms/step - loss: 1.5319 - accuracy: 0.8750\n",
      "Epoch 124/500\n",
      "1/1 [==============================] - 0s 4ms/step - loss: 1.5234 - accuracy: 0.8750\n",
      "Epoch 125/500\n",
      "1/1 [==============================] - 0s 7ms/step - loss: 1.5149 - accuracy: 0.8750\n",
      "Epoch 126/500\n",
      "1/1 [==============================] - 0s 5ms/step - loss: 1.5064 - accuracy: 0.8750\n",
      "Epoch 127/500\n",
      "1/1 [==============================] - 0s 5ms/step - loss: 1.4978 - accuracy: 0.8750\n",
      "Epoch 128/500\n",
      "1/1 [==============================] - 0s 7ms/step - loss: 1.4892 - accuracy: 0.8750\n",
      "Epoch 129/500\n",
      "1/1 [==============================] - 0s 6ms/step - loss: 1.4806 - accuracy: 0.8750\n",
      "Epoch 130/500\n",
      "1/1 [==============================] - 0s 6ms/step - loss: 1.4720 - accuracy: 0.8750\n",
      "Epoch 131/500\n",
      "1/1 [==============================] - 0s 5ms/step - loss: 1.4634 - accuracy: 0.8750\n",
      "Epoch 132/500\n",
      "1/1 [==============================] - 0s 7ms/step - loss: 1.4547 - accuracy: 0.8750\n",
      "Epoch 133/500\n",
      "1/1 [==============================] - 0s 7ms/step - loss: 1.4461 - accuracy: 0.8750\n",
      "Epoch 134/500\n",
      "1/1 [==============================] - 0s 5ms/step - loss: 1.4374 - accuracy: 0.8750\n",
      "Epoch 135/500\n",
      "1/1 [==============================] - 0s 5ms/step - loss: 1.4287 - accuracy: 0.8750\n",
      "Epoch 136/500\n",
      "1/1 [==============================] - 0s 4ms/step - loss: 1.4200 - accuracy: 0.8750\n",
      "Epoch 137/500\n",
      "1/1 [==============================] - 0s 3ms/step - loss: 1.4113 - accuracy: 0.8750\n",
      "Epoch 138/500\n",
      "1/1 [==============================] - 0s 4ms/step - loss: 1.4026 - accuracy: 0.8750\n",
      "Epoch 139/500\n",
      "1/1 [==============================] - 0s 4ms/step - loss: 1.3939 - accuracy: 0.8750\n",
      "Epoch 140/500\n",
      "1/1 [==============================] - 0s 4ms/step - loss: 1.3852 - accuracy: 0.8750\n",
      "Epoch 141/500\n",
      "1/1 [==============================] - 0s 3ms/step - loss: 1.3765 - accuracy: 0.8750\n",
      "Epoch 142/500\n",
      "1/1 [==============================] - 0s 8ms/step - loss: 1.3677 - accuracy: 0.8750\n",
      "Epoch 143/500\n",
      "1/1 [==============================] - 0s 3ms/step - loss: 1.3590 - accuracy: 0.8750\n",
      "Epoch 144/500\n",
      "1/1 [==============================] - 0s 5ms/step - loss: 1.3503 - accuracy: 0.8750\n",
      "Epoch 145/500\n",
      "1/1 [==============================] - 0s 4ms/step - loss: 1.3416 - accuracy: 0.8750\n",
      "Epoch 146/500\n",
      "1/1 [==============================] - 0s 6ms/step - loss: 1.3329 - accuracy: 0.8750\n",
      "Epoch 147/500\n",
      "1/1 [==============================] - 0s 5ms/step - loss: 1.3242 - accuracy: 0.8750\n",
      "Epoch 148/500\n",
      "1/1 [==============================] - 0s 4ms/step - loss: 1.3155 - accuracy: 0.8750\n",
      "Epoch 149/500\n",
      "1/1 [==============================] - 0s 5ms/step - loss: 1.3068 - accuracy: 0.8750\n",
      "Epoch 150/500\n",
      "1/1 [==============================] - 0s 4ms/step - loss: 1.2981 - accuracy: 0.8750\n",
      "Epoch 151/500\n",
      "1/1 [==============================] - 0s 8ms/step - loss: 1.2894 - accuracy: 0.8750\n",
      "Epoch 152/500\n",
      "1/1 [==============================] - 0s 4ms/step - loss: 1.2807 - accuracy: 0.8750\n",
      "Epoch 153/500\n",
      "1/1 [==============================] - 0s 5ms/step - loss: 1.2720 - accuracy: 0.8750\n",
      "Epoch 154/500\n",
      "1/1 [==============================] - 0s 4ms/step - loss: 1.2634 - accuracy: 0.8750\n",
      "Epoch 155/500\n",
      "1/1 [==============================] - 0s 4ms/step - loss: 1.2548 - accuracy: 0.8750\n",
      "Epoch 156/500\n",
      "1/1 [==============================] - 0s 8ms/step - loss: 1.2461 - accuracy: 0.8750\n",
      "Epoch 157/500\n",
      "1/1 [==============================] - 0s 4ms/step - loss: 1.2375 - accuracy: 0.8750\n",
      "Epoch 158/500\n",
      "1/1 [==============================] - 0s 5ms/step - loss: 1.2289 - accuracy: 0.8750\n",
      "Epoch 159/500\n",
      "1/1 [==============================] - 0s 4ms/step - loss: 1.2204 - accuracy: 0.8750\n",
      "Epoch 160/500\n",
      "1/1 [==============================] - 0s 6ms/step - loss: 1.2118 - accuracy: 0.8750\n",
      "Epoch 161/500\n",
      "1/1 [==============================] - 0s 4ms/step - loss: 1.2033 - accuracy: 0.8750\n",
      "Epoch 162/500\n",
      "1/1 [==============================] - 0s 9ms/step - loss: 1.1948 - accuracy: 0.8750\n",
      "Epoch 163/500\n",
      "1/1 [==============================] - 0s 5ms/step - loss: 1.1863 - accuracy: 0.8750\n",
      "Epoch 164/500\n",
      "1/1 [==============================] - 0s 3ms/step - loss: 1.1778 - accuracy: 0.8750\n",
      "Epoch 165/500\n",
      "1/1 [==============================] - 0s 6ms/step - loss: 1.1693 - accuracy: 0.8750\n",
      "Epoch 166/500\n",
      "1/1 [==============================] - 0s 4ms/step - loss: 1.1609 - accuracy: 0.8750\n",
      "Epoch 167/500\n"
     ]
    },
    {
     "name": "stdout",
     "output_type": "stream",
     "text": [
      "1/1 [==============================] - 0s 6ms/step - loss: 1.1525 - accuracy: 0.8750\n",
      "Epoch 168/500\n",
      "1/1 [==============================] - 0s 6ms/step - loss: 1.1442 - accuracy: 0.8750\n",
      "Epoch 169/500\n",
      "1/1 [==============================] - 0s 5ms/step - loss: 1.1358 - accuracy: 0.8750\n",
      "Epoch 170/500\n",
      "1/1 [==============================] - 0s 7ms/step - loss: 1.1275 - accuracy: 0.8750\n",
      "Epoch 171/500\n",
      "1/1 [==============================] - 0s 5ms/step - loss: 1.1192 - accuracy: 0.8750\n",
      "Epoch 172/500\n",
      "1/1 [==============================] - 0s 7ms/step - loss: 1.1110 - accuracy: 0.8750\n",
      "Epoch 173/500\n",
      "1/1 [==============================] - 0s 7ms/step - loss: 1.1028 - accuracy: 0.8750\n",
      "Epoch 174/500\n",
      "1/1 [==============================] - 0s 9ms/step - loss: 1.0946 - accuracy: 0.8750\n",
      "Epoch 175/500\n",
      "1/1 [==============================] - 0s 6ms/step - loss: 1.0864 - accuracy: 0.8750\n",
      "Epoch 176/500\n",
      "1/1 [==============================] - 0s 5ms/step - loss: 1.0783 - accuracy: 0.8750\n",
      "Epoch 177/500\n",
      "1/1 [==============================] - 0s 5ms/step - loss: 1.0702 - accuracy: 0.8750\n",
      "Epoch 178/500\n",
      "1/1 [==============================] - 0s 8ms/step - loss: 1.0622 - accuracy: 0.8750\n",
      "Epoch 179/500\n",
      "1/1 [==============================] - 0s 6ms/step - loss: 1.0542 - accuracy: 0.8750\n",
      "Epoch 180/500\n",
      "1/1 [==============================] - 0s 5ms/step - loss: 1.0462 - accuracy: 0.8750\n",
      "Epoch 181/500\n",
      "1/1 [==============================] - 0s 5ms/step - loss: 1.0383 - accuracy: 0.8750\n",
      "Epoch 182/500\n",
      "1/1 [==============================] - 0s 4ms/step - loss: 1.0304 - accuracy: 0.8750\n",
      "Epoch 183/500\n",
      "1/1 [==============================] - 0s 4ms/step - loss: 1.0225 - accuracy: 0.8750\n",
      "Epoch 184/500\n",
      "1/1 [==============================] - 0s 6ms/step - loss: 1.0147 - accuracy: 0.8750\n",
      "Epoch 185/500\n",
      "1/1 [==============================] - 0s 3ms/step - loss: 1.0070 - accuracy: 0.8750\n",
      "Epoch 186/500\n",
      "1/1 [==============================] - 0s 3ms/step - loss: 0.9992 - accuracy: 0.8750\n",
      "Epoch 187/500\n",
      "1/1 [==============================] - 0s 3ms/step - loss: 0.9916 - accuracy: 0.8750\n",
      "Epoch 188/500\n",
      "1/1 [==============================] - 0s 6ms/step - loss: 0.9839 - accuracy: 0.8750\n",
      "Epoch 189/500\n",
      "1/1 [==============================] - 0s 3ms/step - loss: 0.9763 - accuracy: 0.8750\n",
      "Epoch 190/500\n",
      "1/1 [==============================] - 0s 4ms/step - loss: 0.9688 - accuracy: 0.8750\n",
      "Epoch 191/500\n",
      "1/1 [==============================] - 0s 5ms/step - loss: 0.9613 - accuracy: 0.8750\n",
      "Epoch 192/500\n",
      "1/1 [==============================] - 0s 5ms/step - loss: 0.9538 - accuracy: 0.8750\n",
      "Epoch 193/500\n",
      "1/1 [==============================] - 0s 3ms/step - loss: 0.9464 - accuracy: 0.8750\n",
      "Epoch 194/500\n",
      "1/1 [==============================] - 0s 4ms/step - loss: 0.9391 - accuracy: 0.8750\n",
      "Epoch 195/500\n",
      "1/1 [==============================] - 0s 6ms/step - loss: 0.9318 - accuracy: 0.8750\n",
      "Epoch 196/500\n",
      "1/1 [==============================] - 0s 5ms/step - loss: 0.9245 - accuracy: 0.8750\n",
      "Epoch 197/500\n",
      "1/1 [==============================] - 0s 5ms/step - loss: 0.9173 - accuracy: 0.8750\n",
      "Epoch 198/500\n",
      "1/1 [==============================] - 0s 5ms/step - loss: 0.9102 - accuracy: 0.8750\n",
      "Epoch 199/500\n",
      "1/1 [==============================] - 0s 5ms/step - loss: 0.9031 - accuracy: 0.8750\n",
      "Epoch 200/500\n",
      "1/1 [==============================] - 0s 4ms/step - loss: 0.8960 - accuracy: 0.8750\n",
      "Epoch 201/500\n",
      "1/1 [==============================] - 0s 3ms/step - loss: 0.8890 - accuracy: 0.8750\n",
      "Epoch 202/500\n",
      "1/1 [==============================] - 0s 4ms/step - loss: 0.8821 - accuracy: 0.8750\n",
      "Epoch 203/500\n",
      "1/1 [==============================] - 0s 3ms/step - loss: 0.8752 - accuracy: 0.8750\n",
      "Epoch 204/500\n",
      "1/1 [==============================] - 0s 5ms/step - loss: 0.8683 - accuracy: 0.8750\n",
      "Epoch 205/500\n",
      "1/1 [==============================] - 0s 3ms/step - loss: 0.8616 - accuracy: 0.8750\n",
      "Epoch 206/500\n",
      "1/1 [==============================] - 0s 4ms/step - loss: 0.8548 - accuracy: 0.8750\n",
      "Epoch 207/500\n",
      "1/1 [==============================] - 0s 3ms/step - loss: 0.8482 - accuracy: 0.8750\n",
      "Epoch 208/500\n",
      "1/1 [==============================] - 0s 6ms/step - loss: 0.8415 - accuracy: 0.8750\n",
      "Epoch 209/500\n",
      "1/1 [==============================] - 0s 4ms/step - loss: 0.8350 - accuracy: 0.8750\n",
      "Epoch 210/500\n",
      "1/1 [==============================] - 0s 3ms/step - loss: 0.8285 - accuracy: 0.8750\n",
      "Epoch 211/500\n",
      "1/1 [==============================] - 0s 6ms/step - loss: 0.8220 - accuracy: 0.8750\n",
      "Epoch 212/500\n",
      "1/1 [==============================] - 0s 4ms/step - loss: 0.8156 - accuracy: 0.8750\n",
      "Epoch 213/500\n",
      "1/1 [==============================] - 0s 5ms/step - loss: 0.8093 - accuracy: 0.8750\n",
      "Epoch 214/500\n",
      "1/1 [==============================] - 0s 5ms/step - loss: 0.8030 - accuracy: 0.8750\n",
      "Epoch 215/500\n",
      "1/1 [==============================] - 0s 4ms/step - loss: 0.7967 - accuracy: 0.8750\n",
      "Epoch 216/500\n",
      "1/1 [==============================] - 0s 4ms/step - loss: 0.7906 - accuracy: 0.8750\n",
      "Epoch 217/500\n",
      "1/1 [==============================] - 0s 6ms/step - loss: 0.7845 - accuracy: 0.8750\n",
      "Epoch 218/500\n",
      "1/1 [==============================] - 0s 5ms/step - loss: 0.7784 - accuracy: 0.8750\n",
      "Epoch 219/500\n",
      "1/1 [==============================] - 0s 5ms/step - loss: 0.7724 - accuracy: 0.8750\n",
      "Epoch 220/500\n",
      "1/1 [==============================] - 0s 5ms/step - loss: 0.7664 - accuracy: 0.8750\n",
      "Epoch 221/500\n",
      "1/1 [==============================] - 0s 3ms/step - loss: 0.7606 - accuracy: 0.8750\n",
      "Epoch 222/500\n",
      "1/1 [==============================] - 0s 4ms/step - loss: 0.7547 - accuracy: 0.8750\n",
      "Epoch 223/500\n",
      "1/1 [==============================] - 0s 4ms/step - loss: 0.7490 - accuracy: 0.8750\n",
      "Epoch 224/500\n",
      "1/1 [==============================] - 0s 5ms/step - loss: 0.7432 - accuracy: 0.8750\n",
      "Epoch 225/500\n",
      "1/1 [==============================] - 0s 3ms/step - loss: 0.7376 - accuracy: 0.8750\n",
      "Epoch 226/500\n",
      "1/1 [==============================] - 0s 5ms/step - loss: 0.7320 - accuracy: 0.8750\n",
      "Epoch 227/500\n",
      "1/1 [==============================] - 0s 3ms/step - loss: 0.7264 - accuracy: 0.8750\n",
      "Epoch 228/500\n",
      "1/1 [==============================] - 0s 5ms/step - loss: 0.7209 - accuracy: 0.8750\n",
      "Epoch 229/500\n",
      "1/1 [==============================] - 0s 7ms/step - loss: 0.7155 - accuracy: 0.8750\n",
      "Epoch 230/500\n",
      "1/1 [==============================] - 0s 5ms/step - loss: 0.7101 - accuracy: 0.8750\n",
      "Epoch 231/500\n",
      "1/1 [==============================] - 0s 5ms/step - loss: 0.7048 - accuracy: 0.8750\n",
      "Epoch 232/500\n",
      "1/1 [==============================] - 0s 5ms/step - loss: 0.6995 - accuracy: 0.8750\n",
      "Epoch 233/500\n",
      "1/1 [==============================] - 0s 5ms/step - loss: 0.6943 - accuracy: 0.8750\n",
      "Epoch 234/500\n",
      "1/1 [==============================] - 0s 7ms/step - loss: 0.6891 - accuracy: 0.8750\n",
      "Epoch 235/500\n",
      "1/1 [==============================] - 0s 6ms/step - loss: 0.6840 - accuracy: 0.8750\n",
      "Epoch 236/500\n",
      "1/1 [==============================] - 0s 7ms/step - loss: 0.6790 - accuracy: 0.8750\n",
      "Epoch 237/500\n",
      "1/1 [==============================] - 0s 5ms/step - loss: 0.6740 - accuracy: 0.8750\n",
      "Epoch 238/500\n",
      "1/1 [==============================] - 0s 4ms/step - loss: 0.6691 - accuracy: 0.8750\n",
      "Epoch 239/500\n",
      "1/1 [==============================] - 0s 4ms/step - loss: 0.6642 - accuracy: 0.8750\n",
      "Epoch 240/500\n",
      "1/1 [==============================] - 0s 5ms/step - loss: 0.6593 - accuracy: 0.8750\n",
      "Epoch 241/500\n",
      "1/1 [==============================] - 0s 4ms/step - loss: 0.6546 - accuracy: 0.8750\n",
      "Epoch 242/500\n",
      "1/1 [==============================] - 0s 7ms/step - loss: 0.6498 - accuracy: 0.8750\n",
      "Epoch 243/500\n",
      "1/1 [==============================] - 0s 4ms/step - loss: 0.6452 - accuracy: 0.8750\n",
      "Epoch 244/500\n",
      "1/1 [==============================] - 0s 5ms/step - loss: 0.6405 - accuracy: 0.8750\n",
      "Epoch 245/500\n",
      "1/1 [==============================] - 0s 3ms/step - loss: 0.6360 - accuracy: 0.8750\n",
      "Epoch 246/500\n",
      "1/1 [==============================] - 0s 7ms/step - loss: 0.6314 - accuracy: 0.8750\n",
      "Epoch 247/500\n",
      "1/1 [==============================] - 0s 5ms/step - loss: 0.6270 - accuracy: 0.8750\n",
      "Epoch 248/500\n",
      "1/1 [==============================] - 0s 5ms/step - loss: 0.6226 - accuracy: 0.8750\n",
      "Epoch 249/500\n"
     ]
    },
    {
     "name": "stdout",
     "output_type": "stream",
     "text": [
      "1/1 [==============================] - 0s 4ms/step - loss: 0.6182 - accuracy: 0.8750\n",
      "Epoch 250/500\n",
      "1/1 [==============================] - 0s 3ms/step - loss: 0.6139 - accuracy: 0.8750\n",
      "Epoch 251/500\n",
      "1/1 [==============================] - 0s 9ms/step - loss: 0.6096 - accuracy: 0.8750\n",
      "Epoch 252/500\n",
      "1/1 [==============================] - 0s 4ms/step - loss: 0.6054 - accuracy: 0.8750\n",
      "Epoch 253/500\n",
      "1/1 [==============================] - 0s 4ms/step - loss: 0.6012 - accuracy: 0.8750\n",
      "Epoch 254/500\n",
      "1/1 [==============================] - 0s 4ms/step - loss: 0.5971 - accuracy: 0.8750\n",
      "Epoch 255/500\n",
      "1/1 [==============================] - 0s 3ms/step - loss: 0.5930 - accuracy: 0.8750\n",
      "Epoch 256/500\n",
      "1/1 [==============================] - 0s 4ms/step - loss: 0.5890 - accuracy: 0.8750\n",
      "Epoch 257/500\n",
      "1/1 [==============================] - 0s 5ms/step - loss: 0.5850 - accuracy: 0.8750\n",
      "Epoch 258/500\n",
      "1/1 [==============================] - 0s 6ms/step - loss: 0.5811 - accuracy: 0.8750\n",
      "Epoch 259/500\n",
      "1/1 [==============================] - 0s 4ms/step - loss: 0.5772 - accuracy: 0.8750\n",
      "Epoch 260/500\n",
      "1/1 [==============================] - 0s 4ms/step - loss: 0.5734 - accuracy: 0.8750\n",
      "Epoch 261/500\n",
      "1/1 [==============================] - 0s 4ms/step - loss: 0.5696 - accuracy: 0.8750\n",
      "Epoch 262/500\n",
      "1/1 [==============================] - 0s 6ms/step - loss: 0.5658 - accuracy: 0.8750\n",
      "Epoch 263/500\n",
      "1/1 [==============================] - 0s 4ms/step - loss: 0.5621 - accuracy: 0.8750\n",
      "Epoch 264/500\n",
      "1/1 [==============================] - 0s 4ms/step - loss: 0.5584 - accuracy: 0.8750\n",
      "Epoch 265/500\n",
      "1/1 [==============================] - 0s 2ms/step - loss: 0.5548 - accuracy: 0.8750\n",
      "Epoch 266/500\n",
      "1/1 [==============================] - 0s 4ms/step - loss: 0.5513 - accuracy: 0.8750\n",
      "Epoch 267/500\n",
      "1/1 [==============================] - 0s 5ms/step - loss: 0.5477 - accuracy: 0.8750\n",
      "Epoch 268/500\n",
      "1/1 [==============================] - 0s 4ms/step - loss: 0.5442 - accuracy: 0.8750\n",
      "Epoch 269/500\n",
      "1/1 [==============================] - 0s 5ms/step - loss: 0.5408 - accuracy: 0.8750\n",
      "Epoch 270/500\n",
      "1/1 [==============================] - 0s 5ms/step - loss: 0.5374 - accuracy: 0.8750\n",
      "Epoch 271/500\n",
      "1/1 [==============================] - 0s 6ms/step - loss: 0.5340 - accuracy: 0.8750\n",
      "Epoch 272/500\n",
      "1/1 [==============================] - 0s 6ms/step - loss: 0.5307 - accuracy: 0.8750\n",
      "Epoch 273/500\n",
      "1/1 [==============================] - 0s 5ms/step - loss: 0.5274 - accuracy: 0.8750\n",
      "Epoch 274/500\n",
      "1/1 [==============================] - 0s 6ms/step - loss: 0.5241 - accuracy: 0.8750\n",
      "Epoch 275/500\n",
      "1/1 [==============================] - 0s 4ms/step - loss: 0.5209 - accuracy: 0.8750\n",
      "Epoch 276/500\n",
      "1/1 [==============================] - 0s 3ms/step - loss: 0.5177 - accuracy: 0.8750\n",
      "Epoch 277/500\n",
      "1/1 [==============================] - 0s 5ms/step - loss: 0.5146 - accuracy: 0.8750\n",
      "Epoch 278/500\n",
      "1/1 [==============================] - 0s 5ms/step - loss: 0.5115 - accuracy: 0.8750\n",
      "Epoch 279/500\n",
      "1/1 [==============================] - 0s 8ms/step - loss: 0.5084 - accuracy: 0.8750\n",
      "Epoch 280/500\n",
      "1/1 [==============================] - 0s 3ms/step - loss: 0.5054 - accuracy: 0.8750\n",
      "Epoch 281/500\n",
      "1/1 [==============================] - 0s 5ms/step - loss: 0.5024 - accuracy: 0.8750\n",
      "Epoch 282/500\n",
      "1/1 [==============================] - 0s 3ms/step - loss: 0.4995 - accuracy: 0.8750\n",
      "Epoch 283/500\n",
      "1/1 [==============================] - 0s 5ms/step - loss: 0.4966 - accuracy: 0.8750\n",
      "Epoch 284/500\n",
      "1/1 [==============================] - 0s 3ms/step - loss: 0.4937 - accuracy: 0.8750\n",
      "Epoch 285/500\n",
      "1/1 [==============================] - 0s 7ms/step - loss: 0.4908 - accuracy: 0.8750\n",
      "Epoch 286/500\n",
      "1/1 [==============================] - 0s 4ms/step - loss: 0.4880 - accuracy: 0.8750\n",
      "Epoch 287/500\n",
      "1/1 [==============================] - 0s 4ms/step - loss: 0.4852 - accuracy: 0.8750\n",
      "Epoch 288/500\n",
      "1/1 [==============================] - 0s 4ms/step - loss: 0.4825 - accuracy: 0.8750\n",
      "Epoch 289/500\n",
      "1/1 [==============================] - 0s 5ms/step - loss: 0.4798 - accuracy: 0.8750\n",
      "Epoch 290/500\n",
      "1/1 [==============================] - 0s 6ms/step - loss: 0.4771 - accuracy: 0.8750\n",
      "Epoch 291/500\n",
      "1/1 [==============================] - 0s 5ms/step - loss: 0.4744 - accuracy: 0.8750\n",
      "Epoch 292/500\n",
      "1/1 [==============================] - 0s 6ms/step - loss: 0.4718 - accuracy: 0.8750\n",
      "Epoch 293/500\n",
      "1/1 [==============================] - 0s 5ms/step - loss: 0.4692 - accuracy: 0.8750\n",
      "Epoch 294/500\n",
      "1/1 [==============================] - 0s 7ms/step - loss: 0.4667 - accuracy: 0.8750\n",
      "Epoch 295/500\n",
      "1/1 [==============================] - 0s 5ms/step - loss: 0.4642 - accuracy: 0.8750\n",
      "Epoch 296/500\n",
      "1/1 [==============================] - 0s 5ms/step - loss: 0.4617 - accuracy: 0.8750\n",
      "Epoch 297/500\n",
      "1/1 [==============================] - 0s 6ms/step - loss: 0.4592 - accuracy: 0.8750\n",
      "Epoch 298/500\n",
      "1/1 [==============================] - 0s 5ms/step - loss: 0.4568 - accuracy: 0.8750\n",
      "Epoch 299/500\n",
      "1/1 [==============================] - 0s 5ms/step - loss: 0.4544 - accuracy: 0.8750\n",
      "Epoch 300/500\n",
      "1/1 [==============================] - 0s 6ms/step - loss: 0.4520 - accuracy: 0.8750\n",
      "Epoch 301/500\n",
      "1/1 [==============================] - 0s 5ms/step - loss: 0.4496 - accuracy: 0.8750\n",
      "Epoch 302/500\n",
      "1/1 [==============================] - 0s 4ms/step - loss: 0.4473 - accuracy: 0.8750\n",
      "Epoch 303/500\n",
      "1/1 [==============================] - 0s 4ms/step - loss: 0.4450 - accuracy: 0.8750\n",
      "Epoch 304/500\n",
      "1/1 [==============================] - 0s 3ms/step - loss: 0.4427 - accuracy: 0.8750\n",
      "Epoch 305/500\n",
      "1/1 [==============================] - 0s 8ms/step - loss: 0.4405 - accuracy: 0.8750\n",
      "Epoch 306/500\n",
      "1/1 [==============================] - 0s 5ms/step - loss: 0.4383 - accuracy: 0.8750\n",
      "Epoch 307/500\n",
      "1/1 [==============================] - 0s 4ms/step - loss: 0.4361 - accuracy: 0.8750\n",
      "Epoch 308/500\n",
      "1/1 [==============================] - 0s 4ms/step - loss: 0.4339 - accuracy: 0.8750\n",
      "Epoch 309/500\n",
      "1/1 [==============================] - 0s 5ms/step - loss: 0.4318 - accuracy: 0.8750\n",
      "Epoch 310/500\n",
      "1/1 [==============================] - 0s 5ms/step - loss: 0.4296 - accuracy: 0.8750\n",
      "Epoch 311/500\n",
      "1/1 [==============================] - 0s 5ms/step - loss: 0.4276 - accuracy: 0.8750\n",
      "Epoch 312/500\n",
      "1/1 [==============================] - 0s 9ms/step - loss: 0.4255 - accuracy: 0.8750\n",
      "Epoch 313/500\n",
      "1/1 [==============================] - 0s 5ms/step - loss: 0.4234 - accuracy: 0.8750\n",
      "Epoch 314/500\n",
      "1/1 [==============================] - 0s 4ms/step - loss: 0.4214 - accuracy: 0.8750\n",
      "Epoch 315/500\n",
      "1/1 [==============================] - 0s 4ms/step - loss: 0.4194 - accuracy: 0.8750\n",
      "Epoch 316/500\n",
      "1/1 [==============================] - 0s 4ms/step - loss: 0.4175 - accuracy: 0.8750\n",
      "Epoch 317/500\n",
      "1/1 [==============================] - 0s 4ms/step - loss: 0.4155 - accuracy: 0.8750\n",
      "Epoch 318/500\n",
      "1/1 [==============================] - 0s 3ms/step - loss: 0.4136 - accuracy: 0.8750\n",
      "Epoch 319/500\n",
      "1/1 [==============================] - 0s 5ms/step - loss: 0.4117 - accuracy: 0.8750\n",
      "Epoch 320/500\n",
      "1/1 [==============================] - 0s 8ms/step - loss: 0.4098 - accuracy: 0.8750\n",
      "Epoch 321/500\n",
      "1/1 [==============================] - 0s 8ms/step - loss: 0.4079 - accuracy: 0.8750\n",
      "Epoch 322/500\n",
      "1/1 [==============================] - 0s 5ms/step - loss: 0.4061 - accuracy: 0.8750\n",
      "Epoch 323/500\n",
      "1/1 [==============================] - 0s 4ms/step - loss: 0.4043 - accuracy: 0.8750\n",
      "Epoch 324/500\n",
      "1/1 [==============================] - 0s 4ms/step - loss: 0.4025 - accuracy: 0.8750\n",
      "Epoch 325/500\n",
      "1/1 [==============================] - 0s 4ms/step - loss: 0.4007 - accuracy: 0.8750\n",
      "Epoch 326/500\n",
      "1/1 [==============================] - 0s 8ms/step - loss: 0.3989 - accuracy: 0.8750\n",
      "Epoch 327/500\n",
      "1/1 [==============================] - 0s 3ms/step - loss: 0.3972 - accuracy: 0.8750\n",
      "Epoch 328/500\n",
      "1/1 [==============================] - 0s 4ms/step - loss: 0.3955 - accuracy: 0.8750\n",
      "Epoch 329/500\n",
      "1/1 [==============================] - 0s 3ms/step - loss: 0.3938 - accuracy: 0.8750\n",
      "Epoch 330/500\n",
      "1/1 [==============================] - 0s 3ms/step - loss: 0.3921 - accuracy: 0.8750\n",
      "Epoch 331/500\n"
     ]
    },
    {
     "name": "stdout",
     "output_type": "stream",
     "text": [
      "1/1 [==============================] - 0s 6ms/step - loss: 0.3904 - accuracy: 0.8750\n",
      "Epoch 332/500\n",
      "1/1 [==============================] - 0s 4ms/step - loss: 0.3888 - accuracy: 0.8750\n",
      "Epoch 333/500\n",
      "1/1 [==============================] - 0s 5ms/step - loss: 0.3871 - accuracy: 0.8750\n",
      "Epoch 334/500\n",
      "1/1 [==============================] - 0s 4ms/step - loss: 0.3855 - accuracy: 0.8750\n",
      "Epoch 335/500\n",
      "1/1 [==============================] - 0s 11ms/step - loss: 0.3839 - accuracy: 0.8750\n",
      "Epoch 336/500\n",
      "1/1 [==============================] - 0s 6ms/step - loss: 0.3824 - accuracy: 0.8750\n",
      "Epoch 337/500\n",
      "1/1 [==============================] - 0s 3ms/step - loss: 0.3808 - accuracy: 0.8750\n",
      "Epoch 338/500\n",
      "1/1 [==============================] - 0s 5ms/step - loss: 0.3793 - accuracy: 0.8750\n",
      "Epoch 339/500\n",
      "1/1 [==============================] - 0s 6ms/step - loss: 0.3778 - accuracy: 0.8750\n",
      "Epoch 340/500\n",
      "1/1 [==============================] - 0s 4ms/step - loss: 0.3762 - accuracy: 0.8750\n",
      "Epoch 341/500\n",
      "1/1 [==============================] - 0s 4ms/step - loss: 0.3748 - accuracy: 0.8750\n",
      "Epoch 342/500\n",
      "1/1 [==============================] - 0s 8ms/step - loss: 0.3733 - accuracy: 0.8750\n",
      "Epoch 343/500\n",
      "1/1 [==============================] - 0s 5ms/step - loss: 0.3718 - accuracy: 0.8750\n",
      "Epoch 344/500\n",
      "1/1 [==============================] - 0s 11ms/step - loss: 0.3704 - accuracy: 0.8750\n",
      "Epoch 345/500\n",
      "1/1 [==============================] - 0s 8ms/step - loss: 0.3690 - accuracy: 0.8750\n",
      "Epoch 346/500\n",
      "1/1 [==============================] - 0s 6ms/step - loss: 0.3676 - accuracy: 0.8750\n",
      "Epoch 347/500\n",
      "1/1 [==============================] - 0s 6ms/step - loss: 0.3662 - accuracy: 0.8750\n",
      "Epoch 348/500\n",
      "1/1 [==============================] - 0s 5ms/step - loss: 0.3648 - accuracy: 0.8750\n",
      "Epoch 349/500\n",
      "1/1 [==============================] - 0s 4ms/step - loss: 0.3634 - accuracy: 0.8750\n",
      "Epoch 350/500\n",
      "1/1 [==============================] - 0s 4ms/step - loss: 0.3621 - accuracy: 0.8750\n",
      "Epoch 351/500\n",
      "1/1 [==============================] - 0s 5ms/step - loss: 0.3607 - accuracy: 0.8750\n",
      "Epoch 352/500\n",
      "1/1 [==============================] - 0s 4ms/step - loss: 0.3594 - accuracy: 0.8750\n",
      "Epoch 353/500\n",
      "1/1 [==============================] - 0s 5ms/step - loss: 0.3581 - accuracy: 0.8750\n",
      "Epoch 354/500\n",
      "1/1 [==============================] - 0s 3ms/step - loss: 0.3568 - accuracy: 0.8750\n",
      "Epoch 355/500\n",
      "1/1 [==============================] - 0s 4ms/step - loss: 0.3555 - accuracy: 0.8750\n",
      "Epoch 356/500\n",
      "1/1 [==============================] - 0s 5ms/step - loss: 0.3543 - accuracy: 0.8750\n",
      "Epoch 357/500\n",
      "1/1 [==============================] - 0s 4ms/step - loss: 0.3530 - accuracy: 0.8750\n",
      "Epoch 358/500\n",
      "1/1 [==============================] - 0s 5ms/step - loss: 0.3518 - accuracy: 0.8750\n",
      "Epoch 359/500\n",
      "1/1 [==============================] - 0s 5ms/step - loss: 0.3505 - accuracy: 0.8750\n",
      "Epoch 360/500\n",
      "1/1 [==============================] - 0s 5ms/step - loss: 0.3493 - accuracy: 0.8750\n",
      "Epoch 361/500\n",
      "1/1 [==============================] - 0s 5ms/step - loss: 0.3481 - accuracy: 0.8750\n",
      "Epoch 362/500\n",
      "1/1 [==============================] - 0s 5ms/step - loss: 0.3469 - accuracy: 0.8750\n",
      "Epoch 363/500\n",
      "1/1 [==============================] - 0s 5ms/step - loss: 0.3458 - accuracy: 0.8750\n",
      "Epoch 364/500\n",
      "1/1 [==============================] - 0s 5ms/step - loss: 0.3446 - accuracy: 0.8750\n",
      "Epoch 365/500\n",
      "1/1 [==============================] - ETA: 0s - loss: 0.3434 - accuracy: 0.87 - 0s 4ms/step - loss: 0.3434 - accuracy: 0.8750\n",
      "Epoch 366/500\n",
      "1/1 [==============================] - 0s 5ms/step - loss: 0.3423 - accuracy: 0.8750\n",
      "Epoch 367/500\n",
      "1/1 [==============================] - 0s 7ms/step - loss: 0.3412 - accuracy: 0.8750\n",
      "Epoch 368/500\n",
      "1/1 [==============================] - 0s 5ms/step - loss: 0.3400 - accuracy: 0.8750\n",
      "Epoch 369/500\n",
      "1/1 [==============================] - 0s 5ms/step - loss: 0.3389 - accuracy: 0.8750\n",
      "Epoch 370/500\n",
      "1/1 [==============================] - 0s 8ms/step - loss: 0.3378 - accuracy: 0.8750\n",
      "Epoch 371/500\n",
      "1/1 [==============================] - 0s 4ms/step - loss: 0.3368 - accuracy: 0.8750\n",
      "Epoch 372/500\n",
      "1/1 [==============================] - 0s 4ms/step - loss: 0.3357 - accuracy: 0.8750\n",
      "Epoch 373/500\n",
      "1/1 [==============================] - 0s 6ms/step - loss: 0.3346 - accuracy: 0.8750\n",
      "Epoch 374/500\n",
      "1/1 [==============================] - 0s 5ms/step - loss: 0.3336 - accuracy: 0.8750\n",
      "Epoch 375/500\n",
      "1/1 [==============================] - 0s 4ms/step - loss: 0.3325 - accuracy: 0.8750\n",
      "Epoch 376/500\n",
      "1/1 [==============================] - 0s 5ms/step - loss: 0.3315 - accuracy: 0.8750\n",
      "Epoch 377/500\n",
      "1/1 [==============================] - 0s 5ms/step - loss: 0.3305 - accuracy: 0.8750\n",
      "Epoch 378/500\n",
      "1/1 [==============================] - 0s 5ms/step - loss: 0.3295 - accuracy: 0.8750\n",
      "Epoch 379/500\n",
      "1/1 [==============================] - 0s 4ms/step - loss: 0.3285 - accuracy: 0.8750\n",
      "Epoch 380/500\n",
      "1/1 [==============================] - 0s 6ms/step - loss: 0.3275 - accuracy: 0.8750\n",
      "Epoch 381/500\n",
      "1/1 [==============================] - 0s 5ms/step - loss: 0.3265 - accuracy: 0.8750\n",
      "Epoch 382/500\n",
      "1/1 [==============================] - 0s 4ms/step - loss: 0.3255 - accuracy: 0.8750\n",
      "Epoch 383/500\n",
      "1/1 [==============================] - 0s 6ms/step - loss: 0.3245 - accuracy: 0.8750\n",
      "Epoch 384/500\n",
      "1/1 [==============================] - 0s 4ms/step - loss: 0.3236 - accuracy: 0.8750\n",
      "Epoch 385/500\n",
      "1/1 [==============================] - 0s 4ms/step - loss: 0.3226 - accuracy: 0.8750\n",
      "Epoch 386/500\n",
      "1/1 [==============================] - 0s 5ms/step - loss: 0.3217 - accuracy: 0.8750\n",
      "Epoch 387/500\n",
      "1/1 [==============================] - 0s 4ms/step - loss: 0.3208 - accuracy: 0.8750\n",
      "Epoch 388/500\n",
      "1/1 [==============================] - 0s 5ms/step - loss: 0.3199 - accuracy: 0.8750\n",
      "Epoch 389/500\n",
      "1/1 [==============================] - 0s 5ms/step - loss: 0.3190 - accuracy: 0.8750\n",
      "Epoch 390/500\n",
      "1/1 [==============================] - 0s 6ms/step - loss: 0.3181 - accuracy: 0.8750\n",
      "Epoch 391/500\n",
      "1/1 [==============================] - 0s 4ms/step - loss: 0.3172 - accuracy: 0.8750\n",
      "Epoch 392/500\n",
      "1/1 [==============================] - 0s 5ms/step - loss: 0.3163 - accuracy: 0.8750\n",
      "Epoch 393/500\n",
      "1/1 [==============================] - 0s 5ms/step - loss: 0.3154 - accuracy: 0.8750\n",
      "Epoch 394/500\n",
      "1/1 [==============================] - 0s 5ms/step - loss: 0.3145 - accuracy: 0.8750\n",
      "Epoch 395/500\n",
      "1/1 [==============================] - 0s 5ms/step - loss: 0.3137 - accuracy: 0.8750\n",
      "Epoch 396/500\n",
      "1/1 [==============================] - 0s 5ms/step - loss: 0.3128 - accuracy: 0.8750\n",
      "Epoch 397/500\n",
      "1/1 [==============================] - 0s 5ms/step - loss: 0.3120 - accuracy: 0.8750\n",
      "Epoch 398/500\n",
      "1/1 [==============================] - 0s 4ms/step - loss: 0.3112 - accuracy: 0.8750\n",
      "Epoch 399/500\n",
      "1/1 [==============================] - 0s 4ms/step - loss: 0.3103 - accuracy: 0.8750\n",
      "Epoch 400/500\n",
      "1/1 [==============================] - 0s 4ms/step - loss: 0.3095 - accuracy: 0.8750\n",
      "Epoch 401/500\n",
      "1/1 [==============================] - 0s 5ms/step - loss: 0.3087 - accuracy: 0.8750\n",
      "Epoch 402/500\n",
      "1/1 [==============================] - 0s 4ms/step - loss: 0.3079 - accuracy: 0.8750\n",
      "Epoch 403/500\n",
      "1/1 [==============================] - 0s 6ms/step - loss: 0.3071 - accuracy: 0.8750\n",
      "Epoch 404/500\n",
      "1/1 [==============================] - 0s 5ms/step - loss: 0.3063 - accuracy: 0.8750\n",
      "Epoch 405/500\n",
      "1/1 [==============================] - 0s 6ms/step - loss: 0.3055 - accuracy: 0.8750\n",
      "Epoch 406/500\n",
      "1/1 [==============================] - 0s 4ms/step - loss: 0.3048 - accuracy: 0.8750\n",
      "Epoch 407/500\n",
      "1/1 [==============================] - 0s 4ms/step - loss: 0.3040 - accuracy: 0.8750\n",
      "Epoch 408/500\n",
      "1/1 [==============================] - 0s 5ms/step - loss: 0.3032 - accuracy: 0.8750\n",
      "Epoch 409/500\n",
      "1/1 [==============================] - 0s 4ms/step - loss: 0.3025 - accuracy: 0.8750\n",
      "Epoch 410/500\n",
      "1/1 [==============================] - 0s 5ms/step - loss: 0.3017 - accuracy: 0.8750\n",
      "Epoch 411/500\n",
      "1/1 [==============================] - 0s 3ms/step - loss: 0.3010 - accuracy: 0.8750\n",
      "Epoch 412/500\n",
      "1/1 [==============================] - 0s 6ms/step - loss: 0.3003 - accuracy: 0.8750\n",
      "Epoch 413/500\n"
     ]
    },
    {
     "name": "stdout",
     "output_type": "stream",
     "text": [
      "1/1 [==============================] - 0s 5ms/step - loss: 0.2995 - accuracy: 0.8750\n",
      "Epoch 414/500\n",
      "1/1 [==============================] - 0s 6ms/step - loss: 0.2988 - accuracy: 0.8750\n",
      "Epoch 415/500\n",
      "1/1 [==============================] - 0s 3ms/step - loss: 0.2981 - accuracy: 0.8750\n",
      "Epoch 416/500\n",
      "1/1 [==============================] - 0s 4ms/step - loss: 0.2974 - accuracy: 0.8750\n",
      "Epoch 417/500\n",
      "1/1 [==============================] - 0s 4ms/step - loss: 0.2967 - accuracy: 0.8750\n",
      "Epoch 418/500\n",
      "1/1 [==============================] - 0s 5ms/step - loss: 0.2960 - accuracy: 0.8750\n",
      "Epoch 419/500\n",
      "1/1 [==============================] - 0s 6ms/step - loss: 0.2953 - accuracy: 0.8750\n",
      "Epoch 420/500\n",
      "1/1 [==============================] - 0s 6ms/step - loss: 0.2946 - accuracy: 0.8750\n",
      "Epoch 421/500\n",
      "1/1 [==============================] - 0s 9ms/step - loss: 0.2939 - accuracy: 0.8750\n",
      "Epoch 422/500\n",
      "1/1 [==============================] - 0s 6ms/step - loss: 0.2933 - accuracy: 0.8750\n",
      "Epoch 423/500\n",
      "1/1 [==============================] - 0s 6ms/step - loss: 0.2926 - accuracy: 0.8750\n",
      "Epoch 424/500\n",
      "1/1 [==============================] - 0s 7ms/step - loss: 0.2920 - accuracy: 0.8750\n",
      "Epoch 425/500\n",
      "1/1 [==============================] - 0s 4ms/step - loss: 0.2913 - accuracy: 0.8750\n",
      "Epoch 426/500\n",
      "1/1 [==============================] - 0s 4ms/step - loss: 0.2907 - accuracy: 0.8750\n",
      "Epoch 427/500\n",
      "1/1 [==============================] - 0s 5ms/step - loss: 0.2900 - accuracy: 0.8750\n",
      "Epoch 428/500\n",
      "1/1 [==============================] - 0s 5ms/step - loss: 0.2894 - accuracy: 0.8750\n",
      "Epoch 429/500\n",
      "1/1 [==============================] - 0s 6ms/step - loss: 0.2887 - accuracy: 0.8750\n",
      "Epoch 430/500\n",
      "1/1 [==============================] - 0s 6ms/step - loss: 0.2881 - accuracy: 0.8750\n",
      "Epoch 431/500\n",
      "1/1 [==============================] - 0s 5ms/step - loss: 0.2875 - accuracy: 0.8750\n",
      "Epoch 432/500\n",
      "1/1 [==============================] - 0s 6ms/step - loss: 0.2869 - accuracy: 0.8750\n",
      "Epoch 433/500\n",
      "1/1 [==============================] - 0s 4ms/step - loss: 0.2863 - accuracy: 0.8750\n",
      "Epoch 434/500\n",
      "1/1 [==============================] - 0s 6ms/step - loss: 0.2857 - accuracy: 0.8750\n",
      "Epoch 435/500\n",
      "1/1 [==============================] - 0s 6ms/step - loss: 0.2851 - accuracy: 0.8750\n",
      "Epoch 436/500\n",
      "1/1 [==============================] - 0s 5ms/step - loss: 0.2845 - accuracy: 0.8750\n",
      "Epoch 437/500\n",
      "1/1 [==============================] - 0s 5ms/step - loss: 0.2839 - accuracy: 0.8750\n",
      "Epoch 438/500\n",
      "1/1 [==============================] - 0s 7ms/step - loss: 0.2833 - accuracy: 0.8750\n",
      "Epoch 439/500\n",
      "1/1 [==============================] - 0s 5ms/step - loss: 0.2827 - accuracy: 0.8750\n",
      "Epoch 440/500\n",
      "1/1 [==============================] - 0s 4ms/step - loss: 0.2821 - accuracy: 0.8750\n",
      "Epoch 441/500\n",
      "1/1 [==============================] - 0s 8ms/step - loss: 0.2816 - accuracy: 0.8750\n",
      "Epoch 442/500\n",
      "1/1 [==============================] - 0s 8ms/step - loss: 0.2810 - accuracy: 0.8750\n",
      "Epoch 443/500\n",
      "1/1 [==============================] - 0s 5ms/step - loss: 0.2804 - accuracy: 0.8750\n",
      "Epoch 444/500\n",
      "1/1 [==============================] - 0s 7ms/step - loss: 0.2799 - accuracy: 0.8750\n",
      "Epoch 445/500\n",
      "1/1 [==============================] - 0s 4ms/step - loss: 0.2793 - accuracy: 0.8750\n",
      "Epoch 446/500\n",
      "1/1 [==============================] - 0s 4ms/step - loss: 0.2788 - accuracy: 0.8750\n",
      "Epoch 447/500\n",
      "1/1 [==============================] - 0s 4ms/step - loss: 0.2782 - accuracy: 0.8750\n",
      "Epoch 448/500\n",
      "1/1 [==============================] - 0s 4ms/step - loss: 0.2777 - accuracy: 0.8750\n",
      "Epoch 449/500\n",
      "1/1 [==============================] - 0s 6ms/step - loss: 0.2772 - accuracy: 0.8750\n",
      "Epoch 450/500\n",
      "1/1 [==============================] - 0s 5ms/step - loss: 0.2766 - accuracy: 0.8750\n",
      "Epoch 451/500\n",
      "1/1 [==============================] - 0s 7ms/step - loss: 0.2761 - accuracy: 0.8750\n",
      "Epoch 452/500\n",
      "1/1 [==============================] - 0s 4ms/step - loss: 0.2756 - accuracy: 0.8750\n",
      "Epoch 453/500\n",
      "1/1 [==============================] - 0s 6ms/step - loss: 0.2751 - accuracy: 0.8750\n",
      "Epoch 454/500\n",
      "1/1 [==============================] - 0s 5ms/step - loss: 0.2746 - accuracy: 0.8750\n",
      "Epoch 455/500\n",
      "1/1 [==============================] - 0s 3ms/step - loss: 0.2741 - accuracy: 0.8750\n",
      "Epoch 456/500\n",
      "1/1 [==============================] - 0s 6ms/step - loss: 0.2736 - accuracy: 0.8750\n",
      "Epoch 457/500\n",
      "1/1 [==============================] - 0s 4ms/step - loss: 0.2731 - accuracy: 0.8750\n",
      "Epoch 458/500\n",
      "1/1 [==============================] - 0s 4ms/step - loss: 0.2726 - accuracy: 0.8750\n",
      "Epoch 459/500\n",
      "1/1 [==============================] - 0s 6ms/step - loss: 0.2721 - accuracy: 0.8750\n",
      "Epoch 460/500\n",
      "1/1 [==============================] - 0s 4ms/step - loss: 0.2716 - accuracy: 0.8750\n",
      "Epoch 461/500\n",
      "1/1 [==============================] - 0s 4ms/step - loss: 0.2711 - accuracy: 0.8750\n",
      "Epoch 462/500\n",
      "1/1 [==============================] - 0s 4ms/step - loss: 0.2706 - accuracy: 0.8750\n",
      "Epoch 463/500\n",
      "1/1 [==============================] - 0s 4ms/step - loss: 0.2701 - accuracy: 0.8750\n",
      "Epoch 464/500\n",
      "1/1 [==============================] - 0s 4ms/step - loss: 0.2697 - accuracy: 0.8750\n",
      "Epoch 465/500\n",
      "1/1 [==============================] - 0s 4ms/step - loss: 0.2692 - accuracy: 0.8750\n",
      "Epoch 466/500\n",
      "1/1 [==============================] - 0s 4ms/step - loss: 0.2687 - accuracy: 0.8750\n",
      "Epoch 467/500\n",
      "1/1 [==============================] - 0s 5ms/step - loss: 0.2683 - accuracy: 0.8750\n",
      "Epoch 468/500\n",
      "1/1 [==============================] - 0s 3ms/step - loss: 0.2678 - accuracy: 0.8750\n",
      "Epoch 469/500\n",
      "1/1 [==============================] - 0s 4ms/step - loss: 0.2673 - accuracy: 0.8750\n",
      "Epoch 470/500\n",
      "1/1 [==============================] - 0s 4ms/step - loss: 0.2669 - accuracy: 0.8750\n",
      "Epoch 471/500\n",
      "1/1 [==============================] - 0s 3ms/step - loss: 0.2664 - accuracy: 0.8750\n",
      "Epoch 472/500\n",
      "1/1 [==============================] - 0s 5ms/step - loss: 0.2660 - accuracy: 0.8750\n",
      "Epoch 473/500\n",
      "1/1 [==============================] - 0s 5ms/step - loss: 0.2656 - accuracy: 0.8750\n",
      "Epoch 474/500\n",
      "1/1 [==============================] - 0s 6ms/step - loss: 0.2651 - accuracy: 0.8750\n",
      "Epoch 475/500\n",
      "1/1 [==============================] - 0s 5ms/step - loss: 0.2647 - accuracy: 0.8750\n",
      "Epoch 476/500\n",
      "1/1 [==============================] - 0s 5ms/step - loss: 0.2642 - accuracy: 0.8750\n",
      "Epoch 477/500\n",
      "1/1 [==============================] - 0s 5ms/step - loss: 0.2638 - accuracy: 0.8750\n",
      "Epoch 478/500\n",
      "1/1 [==============================] - 0s 6ms/step - loss: 0.2634 - accuracy: 0.8750\n",
      "Epoch 479/500\n",
      "1/1 [==============================] - 0s 6ms/step - loss: 0.2630 - accuracy: 0.8750\n",
      "Epoch 480/500\n",
      "1/1 [==============================] - 0s 8ms/step - loss: 0.2625 - accuracy: 0.8750\n",
      "Epoch 481/500\n",
      "1/1 [==============================] - 0s 6ms/step - loss: 0.2621 - accuracy: 0.8750\n",
      "Epoch 482/500\n",
      "1/1 [==============================] - 0s 4ms/step - loss: 0.2617 - accuracy: 0.8750\n",
      "Epoch 483/500\n",
      "1/1 [==============================] - 0s 6ms/step - loss: 0.2613 - accuracy: 0.8750\n",
      "Epoch 484/500\n",
      "1/1 [==============================] - 0s 4ms/step - loss: 0.2609 - accuracy: 0.8750\n",
      "Epoch 485/500\n",
      "1/1 [==============================] - 0s 4ms/step - loss: 0.2605 - accuracy: 0.8750\n",
      "Epoch 486/500\n",
      "1/1 [==============================] - 0s 5ms/step - loss: 0.2601 - accuracy: 0.8750\n",
      "Epoch 487/500\n",
      "1/1 [==============================] - 0s 9ms/step - loss: 0.2597 - accuracy: 0.8750\n",
      "Epoch 488/500\n",
      "1/1 [==============================] - 0s 6ms/step - loss: 0.2593 - accuracy: 0.8750\n",
      "Epoch 489/500\n",
      "1/1 [==============================] - 0s 5ms/step - loss: 0.2589 - accuracy: 0.8750\n",
      "Epoch 490/500\n",
      "1/1 [==============================] - 0s 5ms/step - loss: 0.2585 - accuracy: 0.8750\n",
      "Epoch 491/500\n",
      "1/1 [==============================] - 0s 5ms/step - loss: 0.2581 - accuracy: 0.8750\n",
      "Epoch 492/500\n",
      "1/1 [==============================] - 0s 4ms/step - loss: 0.2577 - accuracy: 0.8750\n",
      "Epoch 493/500\n",
      "1/1 [==============================] - 0s 5ms/step - loss: 0.2574 - accuracy: 0.8750\n",
      "Epoch 494/500\n",
      "1/1 [==============================] - 0s 4ms/step - loss: 0.2570 - accuracy: 0.8750\n",
      "Epoch 495/500\n"
     ]
    },
    {
     "name": "stdout",
     "output_type": "stream",
     "text": [
      "1/1 [==============================] - 0s 5ms/step - loss: 0.2566 - accuracy: 0.8750\n",
      "Epoch 496/500\n",
      "1/1 [==============================] - 0s 6ms/step - loss: 0.2562 - accuracy: 0.8750\n",
      "Epoch 497/500\n",
      "1/1 [==============================] - 0s 5ms/step - loss: 0.2559 - accuracy: 0.8750\n",
      "Epoch 498/500\n",
      "1/1 [==============================] - 0s 4ms/step - loss: 0.2555 - accuracy: 0.8750\n",
      "Epoch 499/500\n",
      "1/1 [==============================] - 0s 4ms/step - loss: 0.2551 - accuracy: 0.8750\n",
      "Epoch 500/500\n",
      "1/1 [==============================] - 0s 5ms/step - loss: 0.2548 - accuracy: 0.8750\n"
     ]
    },
    {
     "data": {
      "text/plain": [
       "<tensorflow.python.keras.callbacks.History at 0x21a1062f0a0>"
      ]
     },
     "execution_count": 73,
     "metadata": {},
     "output_type": "execute_result"
    }
   ],
   "source": [
    "model.compile(loss = 'categorical_crossentropy', optimizer = 'adam', metrics = ['accuracy'])\n",
    "model.fit(X, y, epochs = 500)"
   ]
  },
  {
   "cell_type": "code",
   "execution_count": 74,
   "metadata": {},
   "outputs": [
    {
     "name": "stdout",
     "output_type": "stream",
     "text": [
      "dict_items([('여름', 1), ('이', 2), ('다시', 3), ('한번', 4), ('설레고', 5), ('싶다', 6), ('그', 7), ('틀어줘', 8)])\n"
     ]
    }
   ],
   "source": [
    "print(t.word_index.items())"
   ]
  },
  {
   "cell_type": "code",
   "execution_count": 75,
   "metadata": {},
   "outputs": [],
   "source": [
    "def predict_next_word(model, t, current_word): # 모델, 토크나이저, 현재 단어를 받아온다.\n",
    "    encoded = t.texts_to_sequences([current_word])[0] #현재 단어에 대한 정수 인코딩\n",
    "    encoded = np.array(encoded) # 현재 단어에 대한 정수 인코딩\n",
    "    result = model.predict_classes(encoded, verbose = 0)\n",
    "    \n",
    "    # 입력한 X(현재 단어)에 대해서 Y를 예측하고 Y(예측한 단어)를 result에 저장\n",
    "    for word, index in t.word_index.items(): # 단어와 인덱스를 리턴\n",
    "        if index == result: # 만약 예측한 단어와 인덱스와 동일한 단어가 있다면\n",
    "            return word # 그 단어를 출력"
   ]
  },
  {
   "cell_type": "code",
   "execution_count": 76,
   "metadata": {},
   "outputs": [
    {
     "name": "stdout",
     "output_type": "stream",
     "text": [
      "다시\n"
     ]
    }
   ],
   "source": [
    "print(predict_next_word(model, t, '여름'))"
   ]
  },
  {
   "cell_type": "code",
   "execution_count": 77,
   "metadata": {},
   "outputs": [
    {
     "name": "stdout",
     "output_type": "stream",
     "text": [
      "한번\n"
     ]
    }
   ],
   "source": [
    "print(predict_next_word(model, t, '다시'))"
   ]
  },
  {
   "cell_type": "code",
   "execution_count": 78,
   "metadata": {},
   "outputs": [],
   "source": [
    "def sentence_generation(model, t, current_word, n): # 모델, 토크나이저, 현재단어, 반복할 횟수\n",
    "    init_word = current_word # 처음 들어온 단어도 마지막에 같이 출력하기 위해 저장\n",
    "    sentence = ''\n",
    "    \n",
    "    for _ in range(n): # n번 반복\n",
    "        encoded = t.texts_to_sequences([current_word])[0] # 현재 단어에 대한 정수 인코딩\n",
    "        encoded = np.array(encoded) # 현재 단어에 대한 정수 인코딩\n",
    "        result = model.predict_classes(encoded, verbose = 0)\n",
    "        \n",
    "    # 입력한 X(현재 단어)에 대해서 Y를 예측하고 Y(예측한 단어)를 result에 저장\n",
    "        for word, index in t.word_index.items():\n",
    "            if index == result: # 만약 예측한 단어와 인덱스와 동일한 단어가 있다면\n",
    "                break # 해당 단어가 예측 단어이므로 break\n",
    "        current_word = word # 예측 단어를 현재 단어로 변경\n",
    "        sentence = sentence + ' ' + word # 예측 단어를 문장에 저장\n",
    "    \n",
    "    # for 문이므로 이 행동을 다시 반복\n",
    "    \n",
    "    sentence = init_word + sentence\n",
    "    return sentence"
   ]
  },
  {
   "cell_type": "code",
   "execution_count": 79,
   "metadata": {},
   "outputs": [
    {
     "name": "stdout",
     "output_type": "stream",
     "text": [
      "다시 한번 설레고 싶다 그 여름 다시\n"
     ]
    }
   ],
   "source": [
    "print(sentence_generation(model, t, '다시', 6))"
   ]
  },
  {
   "cell_type": "code",
   "execution_count": 80,
   "metadata": {},
   "outputs": [
    {
     "name": "stdout",
     "output_type": "stream",
     "text": [
      "여름 다시 한번 설레고 싶다 그 여름\n"
     ]
    }
   ],
   "source": [
    "print(sentence_generation(model, t, '여름', 6))"
   ]
  },
  {
   "cell_type": "code",
   "execution_count": 81,
   "metadata": {},
   "outputs": [
    {
     "name": "stdout",
     "output_type": "stream",
     "text": [
      "여름 다시 한번 설레고 싶다 그 여름 다시 한번 설레고 싶다\n"
     ]
    }
   ],
   "source": [
    "print(sentence_generation(model, t, '여름', 10))"
   ]
  },
  {
   "cell_type": "code",
   "execution_count": 82,
   "metadata": {},
   "outputs": [
    {
     "name": "stdout",
     "output_type": "stream",
     "text": [
      "다시 한번 설레고 싶다 그 여름 다시\n"
     ]
    }
   ],
   "source": [
    "print(sentence_generation(model, t, '다시', 6))"
   ]
  },
  {
   "cell_type": "markdown",
   "metadata": {},
   "source": [
    "- 언어 모델링(1)"
   ]
  },
  {
   "cell_type": "code",
   "execution_count": 83,
   "metadata": {},
   "outputs": [],
   "source": [
    "text=\"\"\"경마장에 있는 말이 뛰고 있다. 그의 말이 법이다. 가는 말이 고와야 오는 말이 곱다.\"\"\""
   ]
  },
  {
   "cell_type": "code",
   "execution_count": 84,
   "metadata": {},
   "outputs": [],
   "source": [
    "import tensorflow as tf\n",
    "from keras_preprocessing.text import Tokenizer\n",
    "\n",
    "t = Tokenizer()\n",
    "t.fit_on_texts([text])\n",
    "\n",
    "encoded = t.texts_to_sequences([text])[0]"
   ]
  },
  {
   "cell_type": "code",
   "execution_count": 85,
   "metadata": {},
   "outputs": [
    {
     "name": "stdout",
     "output_type": "stream",
     "text": [
      "단어 집합의 크기 :12\n"
     ]
    }
   ],
   "source": [
    "vocab_size = len(t.word_index) + 1\n",
    "print('단어 집합의 크기 :%d' % vocab_size)"
   ]
  },
  {
   "cell_type": "code",
   "execution_count": 86,
   "metadata": {},
   "outputs": [
    {
     "name": "stdout",
     "output_type": "stream",
     "text": [
      "{'말이': 1, '경마장에': 2, '있는': 3, '뛰고': 4, '있다': 5, '그의': 6, '법이다': 7, '가는': 8, '고와야': 9, '오는': 10, '곱다': 11}\n"
     ]
    }
   ],
   "source": [
    "print(t.word_index)"
   ]
  },
  {
   "cell_type": "code",
   "execution_count": 87,
   "metadata": {},
   "outputs": [
    {
     "name": "stdout",
     "output_type": "stream",
     "text": [
      "훈련 데이터의 개수: 11\n"
     ]
    }
   ],
   "source": [
    "sequences = list()\n",
    "\n",
    "for line in text.split('.'): # .을 기준으로 문장 토큰화\n",
    "    encoded = t.texts_to_sequences([line])[0]\n",
    "    \n",
    "    for i in range(1, len(encoded)):\n",
    "        sequence = encoded[:i+1]\n",
    "        sequences.append(sequence)\n",
    "        \n",
    "print('훈련 데이터의 개수:', len(sequences))"
   ]
  },
  {
   "cell_type": "code",
   "execution_count": 88,
   "metadata": {},
   "outputs": [
    {
     "name": "stdout",
     "output_type": "stream",
     "text": [
      "[[2, 3], [2, 3, 1], [2, 3, 1, 4], [2, 3, 1, 4, 5], [6, 1], [6, 1, 7], [8, 1], [8, 1, 9], [8, 1, 9, 10], [8, 1, 9, 10, 1], [8, 1, 9, 10, 1, 11]]\n"
     ]
    }
   ],
   "source": [
    "print(sequences)"
   ]
  },
  {
   "cell_type": "code",
   "execution_count": 89,
   "metadata": {},
   "outputs": [
    {
     "name": "stdout",
     "output_type": "stream",
     "text": [
      "6\n"
     ]
    }
   ],
   "source": [
    "print(max(len(i) for i in sequences)) # 가장 길이가 긴 데이터의 길이"
   ]
  },
  {
   "cell_type": "code",
   "execution_count": 90,
   "metadata": {},
   "outputs": [],
   "source": [
    "from keras.preprocessing.sequence import pad_sequences\n",
    "\n",
    "sequences = pad_sequences(sequences, maxlen = 6, padding = 'pre')"
   ]
  },
  {
   "cell_type": "code",
   "execution_count": 91,
   "metadata": {},
   "outputs": [
    {
     "name": "stdout",
     "output_type": "stream",
     "text": [
      "[[ 0  0  0  0  2  3]\n",
      " [ 0  0  0  2  3  1]\n",
      " [ 0  0  2  3  1  4]\n",
      " [ 0  2  3  1  4  5]\n",
      " [ 0  0  0  0  6  1]\n",
      " [ 0  0  0  6  1  7]\n",
      " [ 0  0  0  0  8  1]\n",
      " [ 0  0  0  8  1  9]\n",
      " [ 0  0  8  1  9 10]\n",
      " [ 0  8  1  9 10  1]\n",
      " [ 8  1  9 10  1 11]]\n"
     ]
    }
   ],
   "source": [
    "print(sequences)"
   ]
  },
  {
   "cell_type": "code",
   "execution_count": 92,
   "metadata": {},
   "outputs": [],
   "source": [
    "import numpy as np\n",
    "\n",
    "sequences = np.array(sequences)\n",
    "\n",
    "X = sequences[:,:-1] # 리스트의 마지막 열을 제외하고 저장\n",
    "y = sequences[:,-1] # 리스트의 마지막 열만 저장"
   ]
  },
  {
   "cell_type": "code",
   "execution_count": 93,
   "metadata": {},
   "outputs": [
    {
     "name": "stdout",
     "output_type": "stream",
     "text": [
      "[[ 0  0  0  0  2]\n",
      " [ 0  0  0  2  3]\n",
      " [ 0  0  2  3  1]\n",
      " [ 0  2  3  1  4]\n",
      " [ 0  0  0  0  6]\n",
      " [ 0  0  0  6  1]\n",
      " [ 0  0  0  0  8]\n",
      " [ 0  0  0  8  1]\n",
      " [ 0  0  8  1  9]\n",
      " [ 0  8  1  9 10]\n",
      " [ 8  1  9 10  1]]\n",
      "[ 3  1  4  5  1  7  1  9 10  1 11]\n"
     ]
    }
   ],
   "source": [
    "print(X)\n",
    "print(y)"
   ]
  },
  {
   "cell_type": "code",
   "execution_count": 95,
   "metadata": {},
   "outputs": [],
   "source": [
    "from tensorflow.keras.utils import to_categorical\n",
    "\n",
    "y = to_categorical(y, num_classes = vocab_size)"
   ]
  },
  {
   "cell_type": "code",
   "execution_count": 96,
   "metadata": {},
   "outputs": [
    {
     "name": "stdout",
     "output_type": "stream",
     "text": [
      "[[0. 0. 0. 1. 0. 0. 0. 0. 0. 0. 0. 0.]\n",
      " [0. 1. 0. 0. 0. 0. 0. 0. 0. 0. 0. 0.]\n",
      " [0. 0. 0. 0. 1. 0. 0. 0. 0. 0. 0. 0.]\n",
      " [0. 0. 0. 0. 0. 1. 0. 0. 0. 0. 0. 0.]\n",
      " [0. 1. 0. 0. 0. 0. 0. 0. 0. 0. 0. 0.]\n",
      " [0. 0. 0. 0. 0. 0. 0. 1. 0. 0. 0. 0.]\n",
      " [0. 1. 0. 0. 0. 0. 0. 0. 0. 0. 0. 0.]\n",
      " [0. 0. 0. 0. 0. 0. 0. 0. 0. 1. 0. 0.]\n",
      " [0. 0. 0. 0. 0. 0. 0. 0. 0. 0. 1. 0.]\n",
      " [0. 1. 0. 0. 0. 0. 0. 0. 0. 0. 0. 0.]\n",
      " [0. 0. 0. 0. 0. 0. 0. 0. 0. 0. 0. 1.]]\n"
     ]
    }
   ],
   "source": [
    "print(y)"
   ]
  },
  {
   "cell_type": "code",
   "execution_count": 99,
   "metadata": {
    "collapsed": true
   },
   "outputs": [
    {
     "name": "stdout",
     "output_type": "stream",
     "text": [
      "Epoch 1/200\n",
      "1/1 [==============================] - 2s 2s/step - loss: 2.4743 - accuracy: 0.1818\n",
      "Epoch 2/200\n",
      "1/1 [==============================] - 0s 8ms/step - loss: 2.4609 - accuracy: 0.1818\n",
      "Epoch 3/200\n",
      "1/1 [==============================] - 0s 18ms/step - loss: 2.4475 - accuracy: 0.1818\n",
      "Epoch 4/200\n",
      "1/1 [==============================] - 0s 7ms/step - loss: 2.4339 - accuracy: 0.1818\n",
      "Epoch 5/200\n",
      "1/1 [==============================] - 0s 5ms/step - loss: 2.4201 - accuracy: 0.1818\n",
      "Epoch 6/200\n",
      "1/1 [==============================] - 0s 5ms/step - loss: 2.4058 - accuracy: 0.2727\n",
      "Epoch 7/200\n",
      "1/1 [==============================] - 0s 7ms/step - loss: 2.3911 - accuracy: 0.2727\n",
      "Epoch 8/200\n",
      "1/1 [==============================] - 0s 8ms/step - loss: 2.3758 - accuracy: 0.2727\n",
      "Epoch 9/200\n",
      "1/1 [==============================] - 0s 8ms/step - loss: 2.3598 - accuracy: 0.3636\n",
      "Epoch 10/200\n",
      "1/1 [==============================] - 0s 8ms/step - loss: 2.3431 - accuracy: 0.3636\n",
      "Epoch 11/200\n",
      "1/1 [==============================] - 0s 8ms/step - loss: 2.3257 - accuracy: 0.3636\n",
      "Epoch 12/200\n",
      "1/1 [==============================] - 0s 5ms/step - loss: 2.3073 - accuracy: 0.3636\n",
      "Epoch 13/200\n",
      "1/1 [==============================] - 0s 8ms/step - loss: 2.2882 - accuracy: 0.3636\n",
      "Epoch 14/200\n",
      "1/1 [==============================] - 0s 12ms/step - loss: 2.2680 - accuracy: 0.3636\n",
      "Epoch 15/200\n",
      "1/1 [==============================] - 0s 4ms/step - loss: 2.2470 - accuracy: 0.3636\n",
      "Epoch 16/200\n",
      "1/1 [==============================] - 0s 5ms/step - loss: 2.2249 - accuracy: 0.3636\n",
      "Epoch 17/200\n",
      "1/1 [==============================] - 0s 6ms/step - loss: 2.2019 - accuracy: 0.3636\n",
      "Epoch 18/200\n",
      "1/1 [==============================] - 0s 5ms/step - loss: 2.1780 - accuracy: 0.4545\n",
      "Epoch 19/200\n",
      "1/1 [==============================] - 0s 6ms/step - loss: 2.1531 - accuracy: 0.4545\n",
      "Epoch 20/200\n",
      "1/1 [==============================] - 0s 6ms/step - loss: 2.1273 - accuracy: 0.4545\n",
      "Epoch 21/200\n",
      "1/1 [==============================] - 0s 4ms/step - loss: 2.1007 - accuracy: 0.4545\n",
      "Epoch 22/200\n",
      "1/1 [==============================] - 0s 4ms/step - loss: 2.0735 - accuracy: 0.4545\n",
      "Epoch 23/200\n",
      "1/1 [==============================] - 0s 6ms/step - loss: 2.0456 - accuracy: 0.5455\n",
      "Epoch 24/200\n",
      "1/1 [==============================] - 0s 6ms/step - loss: 2.0173 - accuracy: 0.4545\n",
      "Epoch 25/200\n",
      "1/1 [==============================] - 0s 6ms/step - loss: 1.9887 - accuracy: 0.4545\n",
      "Epoch 26/200\n",
      "1/1 [==============================] - 0s 6ms/step - loss: 1.9599 - accuracy: 0.4545\n",
      "Epoch 27/200\n",
      "1/1 [==============================] - 0s 6ms/step - loss: 1.9313 - accuracy: 0.4545\n",
      "Epoch 28/200\n",
      "1/1 [==============================] - 0s 10ms/step - loss: 1.9028 - accuracy: 0.4545\n",
      "Epoch 29/200\n",
      "1/1 [==============================] - 0s 6ms/step - loss: 1.8748 - accuracy: 0.4545\n",
      "Epoch 30/200\n",
      "1/1 [==============================] - 0s 13ms/step - loss: 1.8474 - accuracy: 0.4545\n",
      "Epoch 31/200\n",
      "1/1 [==============================] - 0s 6ms/step - loss: 1.8207 - accuracy: 0.4545\n",
      "Epoch 32/200\n",
      "1/1 [==============================] - 0s 5ms/step - loss: 1.7948 - accuracy: 0.4545\n",
      "Epoch 33/200\n",
      "1/1 [==============================] - 0s 5ms/step - loss: 1.7698 - accuracy: 0.4545\n",
      "Epoch 34/200\n",
      "1/1 [==============================] - 0s 6ms/step - loss: 1.7459 - accuracy: 0.4545\n",
      "Epoch 35/200\n",
      "1/1 [==============================] - 0s 6ms/step - loss: 1.7229 - accuracy: 0.4545\n",
      "Epoch 36/200\n",
      "1/1 [==============================] - 0s 6ms/step - loss: 1.7009 - accuracy: 0.4545\n",
      "Epoch 37/200\n",
      "1/1 [==============================] - 0s 4ms/step - loss: 1.6797 - accuracy: 0.4545\n",
      "Epoch 38/200\n",
      "1/1 [==============================] - 0s 5ms/step - loss: 1.6592 - accuracy: 0.4545\n",
      "Epoch 39/200\n",
      "1/1 [==============================] - 0s 4ms/step - loss: 1.6392 - accuracy: 0.4545\n",
      "Epoch 40/200\n",
      "1/1 [==============================] - 0s 8ms/step - loss: 1.6195 - accuracy: 0.4545\n",
      "Epoch 41/200\n",
      "1/1 [==============================] - 0s 5ms/step - loss: 1.6000 - accuracy: 0.4545\n",
      "Epoch 42/200\n",
      "1/1 [==============================] - 0s 4ms/step - loss: 1.5805 - accuracy: 0.4545\n",
      "Epoch 43/200\n",
      "1/1 [==============================] - 0s 4ms/step - loss: 1.5609 - accuracy: 0.4545\n",
      "Epoch 44/200\n",
      "1/1 [==============================] - 0s 5ms/step - loss: 1.5411 - accuracy: 0.4545\n",
      "Epoch 45/200\n",
      "1/1 [==============================] - 0s 4ms/step - loss: 1.5212 - accuracy: 0.4545\n",
      "Epoch 46/200\n",
      "1/1 [==============================] - 0s 6ms/step - loss: 1.5010 - accuracy: 0.4545\n",
      "Epoch 47/200\n",
      "1/1 [==============================] - 0s 5ms/step - loss: 1.4807 - accuracy: 0.5455\n",
      "Epoch 48/200\n",
      "1/1 [==============================] - 0s 7ms/step - loss: 1.4604 - accuracy: 0.5455\n",
      "Epoch 49/200\n",
      "1/1 [==============================] - 0s 6ms/step - loss: 1.4401 - accuracy: 0.5455\n",
      "Epoch 50/200\n",
      "1/1 [==============================] - 0s 5ms/step - loss: 1.4198 - accuracy: 0.5455\n",
      "Epoch 51/200\n",
      "1/1 [==============================] - 0s 4ms/step - loss: 1.3997 - accuracy: 0.5455\n",
      "Epoch 52/200\n",
      "1/1 [==============================] - 0s 4ms/step - loss: 1.3797 - accuracy: 0.5455\n",
      "Epoch 53/200\n",
      "1/1 [==============================] - 0s 5ms/step - loss: 1.3600 - accuracy: 0.5455\n",
      "Epoch 54/200\n",
      "1/1 [==============================] - 0s 9ms/step - loss: 1.3406 - accuracy: 0.5455\n",
      "Epoch 55/200\n",
      "1/1 [==============================] - 0s 3ms/step - loss: 1.3216 - accuracy: 0.5455\n",
      "Epoch 56/200\n",
      "1/1 [==============================] - 0s 5ms/step - loss: 1.3028 - accuracy: 0.5455\n",
      "Epoch 57/200\n",
      "1/1 [==============================] - 0s 6ms/step - loss: 1.2844 - accuracy: 0.5455\n",
      "Epoch 58/200\n",
      "1/1 [==============================] - 0s 5ms/step - loss: 1.2664 - accuracy: 0.5455\n",
      "Epoch 59/200\n",
      "1/1 [==============================] - 0s 7ms/step - loss: 1.2487 - accuracy: 0.5455\n",
      "Epoch 60/200\n",
      "1/1 [==============================] - 0s 5ms/step - loss: 1.2313 - accuracy: 0.5455\n",
      "Epoch 61/200\n",
      "1/1 [==============================] - 0s 5ms/step - loss: 1.2143 - accuracy: 0.5455\n",
      "Epoch 62/200\n",
      "1/1 [==============================] - 0s 5ms/step - loss: 1.1975 - accuracy: 0.5455\n",
      "Epoch 63/200\n",
      "1/1 [==============================] - 0s 6ms/step - loss: 1.1810 - accuracy: 0.6364\n",
      "Epoch 64/200\n",
      "1/1 [==============================] - 0s 8ms/step - loss: 1.1649 - accuracy: 0.6364\n",
      "Epoch 65/200\n",
      "1/1 [==============================] - 0s 4ms/step - loss: 1.1490 - accuracy: 0.6364\n",
      "Epoch 66/200\n",
      "1/1 [==============================] - 0s 7ms/step - loss: 1.1335 - accuracy: 0.6364\n",
      "Epoch 67/200\n",
      "1/1 [==============================] - 0s 4ms/step - loss: 1.1183 - accuracy: 0.6364\n",
      "Epoch 68/200\n",
      "1/1 [==============================] - 0s 6ms/step - loss: 1.1034 - accuracy: 0.6364\n",
      "Epoch 69/200\n",
      "1/1 [==============================] - 0s 6ms/step - loss: 1.0889 - accuracy: 0.6364\n",
      "Epoch 70/200\n",
      "1/1 [==============================] - 0s 6ms/step - loss: 1.0747 - accuracy: 0.6364\n",
      "Epoch 71/200\n",
      "1/1 [==============================] - 0s 6ms/step - loss: 1.0608 - accuracy: 0.6364\n",
      "Epoch 72/200\n",
      "1/1 [==============================] - 0s 4ms/step - loss: 1.0473 - accuracy: 0.6364\n",
      "Epoch 73/200\n",
      "1/1 [==============================] - 0s 5ms/step - loss: 1.0340 - accuracy: 0.6364\n",
      "Epoch 74/200\n",
      "1/1 [==============================] - 0s 7ms/step - loss: 1.0210 - accuracy: 0.6364\n",
      "Epoch 75/200\n",
      "1/1 [==============================] - 0s 6ms/step - loss: 1.0083 - accuracy: 0.6364\n",
      "Epoch 76/200\n",
      "1/1 [==============================] - 0s 4ms/step - loss: 0.9959 - accuracy: 0.6364\n",
      "Epoch 77/200\n",
      "1/1 [==============================] - 0s 7ms/step - loss: 0.9838 - accuracy: 0.6364\n",
      "Epoch 78/200\n",
      "1/1 [==============================] - 0s 5ms/step - loss: 0.9720 - accuracy: 0.6364\n",
      "Epoch 79/200\n",
      "1/1 [==============================] - 0s 6ms/step - loss: 0.9604 - accuracy: 0.6364\n",
      "Epoch 80/200\n",
      "1/1 [==============================] - 0s 8ms/step - loss: 0.9491 - accuracy: 0.6364\n",
      "Epoch 81/200\n",
      "1/1 [==============================] - 0s 5ms/step - loss: 0.9381 - accuracy: 0.6364\n",
      "Epoch 82/200\n",
      "1/1 [==============================] - 0s 7ms/step - loss: 0.9273 - accuracy: 0.6364\n",
      "Epoch 83/200\n",
      "1/1 [==============================] - 0s 6ms/step - loss: 0.9167 - accuracy: 0.6364\n",
      "Epoch 84/200\n"
     ]
    },
    {
     "name": "stdout",
     "output_type": "stream",
     "text": [
      "1/1 [==============================] - 0s 4ms/step - loss: 0.9063 - accuracy: 0.6364\n",
      "Epoch 85/200\n",
      "1/1 [==============================] - 0s 6ms/step - loss: 0.8962 - accuracy: 0.6364\n",
      "Epoch 86/200\n",
      "1/1 [==============================] - 0s 4ms/step - loss: 0.8863 - accuracy: 0.6364\n",
      "Epoch 87/200\n",
      "1/1 [==============================] - 0s 9ms/step - loss: 0.8766 - accuracy: 0.6364\n",
      "Epoch 88/200\n",
      "1/1 [==============================] - 0s 5ms/step - loss: 0.8670 - accuracy: 0.6364\n",
      "Epoch 89/200\n",
      "1/1 [==============================] - 0s 4ms/step - loss: 0.8577 - accuracy: 0.6364\n",
      "Epoch 90/200\n",
      "1/1 [==============================] - 0s 5ms/step - loss: 0.8485 - accuracy: 0.7273\n",
      "Epoch 91/200\n",
      "1/1 [==============================] - 0s 4ms/step - loss: 0.8394 - accuracy: 0.7273\n",
      "Epoch 92/200\n",
      "1/1 [==============================] - 0s 9ms/step - loss: 0.8305 - accuracy: 0.7273\n",
      "Epoch 93/200\n",
      "1/1 [==============================] - 0s 6ms/step - loss: 0.8217 - accuracy: 0.7273\n",
      "Epoch 94/200\n",
      "1/1 [==============================] - 0s 5ms/step - loss: 0.8130 - accuracy: 0.7273\n",
      "Epoch 95/200\n",
      "1/1 [==============================] - 0s 5ms/step - loss: 0.8045 - accuracy: 0.7273\n",
      "Epoch 96/200\n",
      "1/1 [==============================] - 0s 4ms/step - loss: 0.7960 - accuracy: 0.7273\n",
      "Epoch 97/200\n",
      "1/1 [==============================] - 0s 5ms/step - loss: 0.7877 - accuracy: 0.7273\n",
      "Epoch 98/200\n",
      "1/1 [==============================] - 0s 4ms/step - loss: 0.7795 - accuracy: 0.7273\n",
      "Epoch 99/200\n",
      "1/1 [==============================] - 0s 4ms/step - loss: 0.7713 - accuracy: 0.8182\n",
      "Epoch 100/200\n",
      "1/1 [==============================] - 0s 6ms/step - loss: 0.7633 - accuracy: 0.8182\n",
      "Epoch 101/200\n",
      "1/1 [==============================] - 0s 4ms/step - loss: 0.7553 - accuracy: 0.8182\n",
      "Epoch 102/200\n",
      "1/1 [==============================] - 0s 5ms/step - loss: 0.7475 - accuracy: 0.8182\n",
      "Epoch 103/200\n",
      "1/1 [==============================] - 0s 4ms/step - loss: 0.7397 - accuracy: 0.8182\n",
      "Epoch 104/200\n",
      "1/1 [==============================] - 0s 5ms/step - loss: 0.7319 - accuracy: 0.8182\n",
      "Epoch 105/200\n",
      "1/1 [==============================] - 0s 5ms/step - loss: 0.7243 - accuracy: 0.8182\n",
      "Epoch 106/200\n",
      "1/1 [==============================] - 0s 9ms/step - loss: 0.7167 - accuracy: 0.8182\n",
      "Epoch 107/200\n",
      "1/1 [==============================] - 0s 8ms/step - loss: 0.7092 - accuracy: 0.8182\n",
      "Epoch 108/200\n",
      "1/1 [==============================] - 0s 5ms/step - loss: 0.7017 - accuracy: 0.8182\n",
      "Epoch 109/200\n",
      "1/1 [==============================] - 0s 8ms/step - loss: 0.6943 - accuracy: 0.8182\n",
      "Epoch 110/200\n",
      "1/1 [==============================] - 0s 7ms/step - loss: 0.6870 - accuracy: 0.8182\n",
      "Epoch 111/200\n",
      "1/1 [==============================] - 0s 5ms/step - loss: 0.6797 - accuracy: 0.8182\n",
      "Epoch 112/200\n",
      "1/1 [==============================] - 0s 7ms/step - loss: 0.6724 - accuracy: 0.8182\n",
      "Epoch 113/200\n",
      "1/1 [==============================] - 0s 8ms/step - loss: 0.6652 - accuracy: 0.8182\n",
      "Epoch 114/200\n",
      "1/1 [==============================] - 0s 7ms/step - loss: 0.6580 - accuracy: 0.8182\n",
      "Epoch 115/200\n",
      "1/1 [==============================] - 0s 8ms/step - loss: 0.6509 - accuracy: 0.8182\n",
      "Epoch 116/200\n",
      "1/1 [==============================] - 0s 5ms/step - loss: 0.6438 - accuracy: 0.8182\n",
      "Epoch 117/200\n",
      "1/1 [==============================] - 0s 6ms/step - loss: 0.6367 - accuracy: 0.8182\n",
      "Epoch 118/200\n",
      "1/1 [==============================] - 0s 5ms/step - loss: 0.6297 - accuracy: 0.8182\n",
      "Epoch 119/200\n",
      "1/1 [==============================] - 0s 4ms/step - loss: 0.6227 - accuracy: 0.8182\n",
      "Epoch 120/200\n",
      "1/1 [==============================] - 0s 5ms/step - loss: 0.6158 - accuracy: 0.8182\n",
      "Epoch 121/200\n",
      "1/1 [==============================] - 0s 6ms/step - loss: 0.6089 - accuracy: 0.8182\n",
      "Epoch 122/200\n",
      "1/1 [==============================] - 0s 5ms/step - loss: 0.6020 - accuracy: 0.8182\n",
      "Epoch 123/200\n",
      "1/1 [==============================] - 0s 5ms/step - loss: 0.5951 - accuracy: 0.8182\n",
      "Epoch 124/200\n",
      "1/1 [==============================] - 0s 5ms/step - loss: 0.5883 - accuracy: 0.8182\n",
      "Epoch 125/200\n",
      "1/1 [==============================] - 0s 4ms/step - loss: 0.5815 - accuracy: 0.8182\n",
      "Epoch 126/200\n",
      "1/1 [==============================] - 0s 5ms/step - loss: 0.5748 - accuracy: 0.8182\n",
      "Epoch 127/200\n",
      "1/1 [==============================] - 0s 3ms/step - loss: 0.5681 - accuracy: 0.8182\n",
      "Epoch 128/200\n",
      "1/1 [==============================] - 0s 4ms/step - loss: 0.5614 - accuracy: 0.8182\n",
      "Epoch 129/200\n",
      "1/1 [==============================] - 0s 5ms/step - loss: 0.5547 - accuracy: 0.8182\n",
      "Epoch 130/200\n",
      "1/1 [==============================] - 0s 5ms/step - loss: 0.5481 - accuracy: 0.8182\n",
      "Epoch 131/200\n",
      "1/1 [==============================] - 0s 4ms/step - loss: 0.5414 - accuracy: 0.8182\n",
      "Epoch 132/200\n",
      "1/1 [==============================] - 0s 6ms/step - loss: 0.5349 - accuracy: 0.8182\n",
      "Epoch 133/200\n",
      "1/1 [==============================] - 0s 5ms/step - loss: 0.5283 - accuracy: 0.8182\n",
      "Epoch 134/200\n",
      "1/1 [==============================] - 0s 6ms/step - loss: 0.5218 - accuracy: 0.8182\n",
      "Epoch 135/200\n",
      "1/1 [==============================] - 0s 5ms/step - loss: 0.5153 - accuracy: 0.8182\n",
      "Epoch 136/200\n",
      "1/1 [==============================] - 0s 7ms/step - loss: 0.5089 - accuracy: 0.8182\n",
      "Epoch 137/200\n",
      "1/1 [==============================] - 0s 5ms/step - loss: 0.5024 - accuracy: 0.8182\n",
      "Epoch 138/200\n",
      "1/1 [==============================] - 0s 5ms/step - loss: 0.4960 - accuracy: 0.8182\n",
      "Epoch 139/200\n",
      "1/1 [==============================] - 0s 7ms/step - loss: 0.4896 - accuracy: 0.8182\n",
      "Epoch 140/200\n",
      "1/1 [==============================] - 0s 6ms/step - loss: 0.4833 - accuracy: 0.8182\n",
      "Epoch 141/200\n",
      "1/1 [==============================] - 0s 5ms/step - loss: 0.4770 - accuracy: 0.8182\n",
      "Epoch 142/200\n",
      "1/1 [==============================] - 0s 5ms/step - loss: 0.4707 - accuracy: 0.8182\n",
      "Epoch 143/200\n",
      "1/1 [==============================] - 0s 6ms/step - loss: 0.4644 - accuracy: 0.8182\n",
      "Epoch 144/200\n",
      "1/1 [==============================] - 0s 6ms/step - loss: 0.4581 - accuracy: 0.8182\n",
      "Epoch 145/200\n",
      "1/1 [==============================] - 0s 6ms/step - loss: 0.4519 - accuracy: 0.8182\n",
      "Epoch 146/200\n",
      "1/1 [==============================] - 0s 7ms/step - loss: 0.4457 - accuracy: 0.8182\n",
      "Epoch 147/200\n",
      "1/1 [==============================] - 0s 7ms/step - loss: 0.4396 - accuracy: 0.8182\n",
      "Epoch 148/200\n",
      "1/1 [==============================] - 0s 5ms/step - loss: 0.4334 - accuracy: 0.8182\n",
      "Epoch 149/200\n",
      "1/1 [==============================] - 0s 5ms/step - loss: 0.4273 - accuracy: 0.9091\n",
      "Epoch 150/200\n",
      "1/1 [==============================] - 0s 5ms/step - loss: 0.4212 - accuracy: 0.9091\n",
      "Epoch 151/200\n",
      "1/1 [==============================] - 0s 5ms/step - loss: 0.4151 - accuracy: 0.9091\n",
      "Epoch 152/200\n",
      "1/1 [==============================] - 0s 4ms/step - loss: 0.4091 - accuracy: 0.9091\n",
      "Epoch 153/200\n",
      "1/1 [==============================] - 0s 6ms/step - loss: 0.4031 - accuracy: 0.9091\n",
      "Epoch 154/200\n",
      "1/1 [==============================] - 0s 5ms/step - loss: 0.3971 - accuracy: 0.9091\n",
      "Epoch 155/200\n",
      "1/1 [==============================] - 0s 5ms/step - loss: 0.3911 - accuracy: 0.9091\n",
      "Epoch 156/200\n",
      "1/1 [==============================] - 0s 6ms/step - loss: 0.3852 - accuracy: 0.9091\n",
      "Epoch 157/200\n",
      "1/1 [==============================] - 0s 5ms/step - loss: 0.3793 - accuracy: 0.9091\n",
      "Epoch 158/200\n",
      "1/1 [==============================] - 0s 5ms/step - loss: 0.3734 - accuracy: 0.9091\n",
      "Epoch 159/200\n",
      "1/1 [==============================] - 0s 8ms/step - loss: 0.3675 - accuracy: 0.9091\n",
      "Epoch 160/200\n",
      "1/1 [==============================] - 0s 6ms/step - loss: 0.3617 - accuracy: 0.9091\n",
      "Epoch 161/200\n",
      "1/1 [==============================] - 0s 6ms/step - loss: 0.3559 - accuracy: 0.9091\n",
      "Epoch 162/200\n",
      "1/1 [==============================] - 0s 6ms/step - loss: 0.3501 - accuracy: 0.9091\n",
      "Epoch 163/200\n",
      "1/1 [==============================] - 0s 5ms/step - loss: 0.3444 - accuracy: 0.9091\n",
      "Epoch 164/200\n",
      "1/1 [==============================] - 0s 6ms/step - loss: 0.3386 - accuracy: 0.9091\n",
      "Epoch 165/200\n",
      "1/1 [==============================] - 0s 5ms/step - loss: 0.3330 - accuracy: 0.9091\n",
      "Epoch 166/200\n",
      "1/1 [==============================] - 0s 7ms/step - loss: 0.3273 - accuracy: 0.9091\n",
      "Epoch 167/200\n"
     ]
    },
    {
     "name": "stdout",
     "output_type": "stream",
     "text": [
      "1/1 [==============================] - 0s 5ms/step - loss: 0.3217 - accuracy: 0.9091\n",
      "Epoch 168/200\n",
      "1/1 [==============================] - 0s 6ms/step - loss: 0.3161 - accuracy: 0.9091\n",
      "Epoch 169/200\n",
      "1/1 [==============================] - 0s 5ms/step - loss: 0.3105 - accuracy: 1.0000\n",
      "Epoch 170/200\n",
      "1/1 [==============================] - 0s 4ms/step - loss: 0.3050 - accuracy: 1.0000\n",
      "Epoch 171/200\n",
      "1/1 [==============================] - 0s 7ms/step - loss: 0.2996 - accuracy: 1.0000\n",
      "Epoch 172/200\n",
      "1/1 [==============================] - 0s 6ms/step - loss: 0.2941 - accuracy: 1.0000\n",
      "Epoch 173/200\n",
      "1/1 [==============================] - 0s 5ms/step - loss: 0.2888 - accuracy: 1.0000\n",
      "Epoch 174/200\n",
      "1/1 [==============================] - 0s 5ms/step - loss: 0.2834 - accuracy: 1.0000\n",
      "Epoch 175/200\n",
      "1/1 [==============================] - 0s 5ms/step - loss: 0.2781 - accuracy: 1.0000\n",
      "Epoch 176/200\n",
      "1/1 [==============================] - 0s 5ms/step - loss: 0.2729 - accuracy: 1.0000\n",
      "Epoch 177/200\n",
      "1/1 [==============================] - 0s 5ms/step - loss: 0.2677 - accuracy: 1.0000\n",
      "Epoch 178/200\n",
      "1/1 [==============================] - 0s 4ms/step - loss: 0.2626 - accuracy: 1.0000\n",
      "Epoch 179/200\n",
      "1/1 [==============================] - 0s 7ms/step - loss: 0.2575 - accuracy: 1.0000\n",
      "Epoch 180/200\n",
      "1/1 [==============================] - 0s 5ms/step - loss: 0.2525 - accuracy: 1.0000\n",
      "Epoch 181/200\n",
      "1/1 [==============================] - 0s 4ms/step - loss: 0.2476 - accuracy: 1.0000\n",
      "Epoch 182/200\n",
      "1/1 [==============================] - 0s 7ms/step - loss: 0.2427 - accuracy: 1.0000\n",
      "Epoch 183/200\n",
      "1/1 [==============================] - 0s 6ms/step - loss: 0.2379 - accuracy: 1.0000\n",
      "Epoch 184/200\n",
      "1/1 [==============================] - 0s 5ms/step - loss: 0.2331 - accuracy: 1.0000\n",
      "Epoch 185/200\n",
      "1/1 [==============================] - 0s 6ms/step - loss: 0.2284 - accuracy: 1.0000\n",
      "Epoch 186/200\n",
      "1/1 [==============================] - 0s 4ms/step - loss: 0.2238 - accuracy: 1.0000\n",
      "Epoch 187/200\n",
      "1/1 [==============================] - 0s 8ms/step - loss: 0.2193 - accuracy: 1.0000\n",
      "Epoch 188/200\n",
      "1/1 [==============================] - 0s 7ms/step - loss: 0.2148 - accuracy: 1.0000\n",
      "Epoch 189/200\n",
      "1/1 [==============================] - 0s 8ms/step - loss: 0.2104 - accuracy: 1.0000\n",
      "Epoch 190/200\n",
      "1/1 [==============================] - 0s 6ms/step - loss: 0.2061 - accuracy: 1.0000\n",
      "Epoch 191/200\n",
      "1/1 [==============================] - 0s 6ms/step - loss: 0.2019 - accuracy: 1.0000\n",
      "Epoch 192/200\n",
      "1/1 [==============================] - 0s 6ms/step - loss: 0.1977 - accuracy: 1.0000\n",
      "Epoch 193/200\n",
      "1/1 [==============================] - 0s 7ms/step - loss: 0.1937 - accuracy: 1.0000\n",
      "Epoch 194/200\n",
      "1/1 [==============================] - 0s 8ms/step - loss: 0.1897 - accuracy: 1.0000\n",
      "Epoch 195/200\n",
      "1/1 [==============================] - 0s 4ms/step - loss: 0.1858 - accuracy: 1.0000\n",
      "Epoch 196/200\n",
      "1/1 [==============================] - 0s 5ms/step - loss: 0.1819 - accuracy: 1.0000\n",
      "Epoch 197/200\n",
      "1/1 [==============================] - 0s 6ms/step - loss: 0.1782 - accuracy: 1.0000\n",
      "Epoch 198/200\n",
      "1/1 [==============================] - 0s 5ms/step - loss: 0.1745 - accuracy: 1.0000\n",
      "Epoch 199/200\n",
      "1/1 [==============================] - 0s 4ms/step - loss: 0.1709 - accuracy: 1.0000\n",
      "Epoch 200/200\n",
      "1/1 [==============================] - 0s 4ms/step - loss: 0.1674 - accuracy: 1.0000\n"
     ]
    },
    {
     "data": {
      "text/plain": [
       "<tensorflow.python.keras.callbacks.History at 0x21a14e3f880>"
      ]
     },
     "execution_count": 99,
     "metadata": {},
     "output_type": "execute_result"
    }
   ],
   "source": [
    "from tensorflow.keras.layers import Embedding, Dense, SimpleRNN\n",
    "from tensorflow.keras.models import Sequential\n",
    "\n",
    "model = Sequential()\n",
    "model.add(Embedding(vocab_size, 10, input_length = 5)) # y를 제거하였으므로 이제 X의 길이는 5\n",
    "model.add(SimpleRNN(32))\n",
    "model.add(Dense(vocab_size, activation = 'softmax'))\n",
    "\n",
    "model.compile(loss = 'categorical_crossentropy', optimizer = 'adam', metrics = ['accuracy'])\n",
    "model.fit(X, y, epochs = 200)"
   ]
  },
  {
   "cell_type": "code",
   "execution_count": 100,
   "metadata": {},
   "outputs": [],
   "source": [
    "def sentence_generation(model, t, current_word, n): # 모델, 토크나이저, 현재단어, 반복할 횟수\n",
    "    init_word = current_word # 처음 들어온 단어도 마지막에 같이 출력하기 위해 저장\n",
    "    sentence = ''\n",
    "    \n",
    "    for _ in range(n): # n번 반복\n",
    "        encoded = t.texts_to_sequences([current_word])[0] # 현재 단어에 대한 정수 인코딩\n",
    "        encoded = np.array(encoded) # 현재 단어에 대한 정수 인코딩\n",
    "        result = model.predict_classes(encoded, verbose = 0)\n",
    "        \n",
    "    # 입력한 X(현재 단어)에 대해서 Y를 예측하고 Y(예측한 단어)를 result에 저장\n",
    "        for word, index in t.word_index.items():\n",
    "            if index == result: # 만약 예측한 단어와 인덱스와 동일한 단어가 있다면\n",
    "                break # 해당 단어가 예측 단어이므로 break\n",
    "        current_word = word # 예측 단어를 현재 단어로 변경\n",
    "        sentence = sentence + ' ' + word # 예측 단어를 문장에 저장\n",
    "    \n",
    "    # for 문이므로 이 행동을 다시 반복\n",
    "    \n",
    "    sentence = init_word + sentence\n",
    "    return sentence"
   ]
  },
  {
   "cell_type": "code",
   "execution_count": 101,
   "metadata": {},
   "outputs": [
    {
     "name": "stdout",
     "output_type": "stream",
     "text": [
      "WARNING:tensorflow:Model was constructed with shape (None, 5) for input KerasTensor(type_spec=TensorSpec(shape=(None, 5), dtype=tf.float32, name='embedding_4_input'), name='embedding_4_input', description=\"created by layer 'embedding_4_input'\"), but it was called on an input with incompatible shape (None, 1).\n",
      "경마장에 있는 말이 법이다 말이\n"
     ]
    }
   ],
   "source": [
    "print(sentence_generation(model, t, '경마장에', 4)) # 4번 예측"
   ]
  },
  {
   "cell_type": "code",
   "execution_count": 102,
   "metadata": {},
   "outputs": [
    {
     "name": "stdout",
     "output_type": "stream",
     "text": [
      "그의 말이 법이다\n"
     ]
    }
   ],
   "source": [
    "print(sentence_generation(model, t, '그의', 2)) # 2번 예측"
   ]
  },
  {
   "cell_type": "code",
   "execution_count": 103,
   "metadata": {},
   "outputs": [
    {
     "name": "stdout",
     "output_type": "stream",
     "text": [
      "가는 곱다 있다 있다 있다 있다\n"
     ]
    }
   ],
   "source": [
    "print(sentence_generation(model, t, '가는', 5)) # 5번 예측"
   ]
  },
  {
   "cell_type": "code",
   "execution_count": 104,
   "metadata": {},
   "outputs": [
    {
     "name": "stdout",
     "output_type": "stream",
     "text": [
      "경마장에 있는 말이 법이다 말이 법이다 말이 법이다\n"
     ]
    }
   ],
   "source": [
    "print(sentence_generation(model, t, '경마장에', 7)) # 7번 예측"
   ]
  }
 ],
 "metadata": {
  "kernelspec": {
   "display_name": "Python 3",
   "language": "python",
   "name": "python3"
  },
  "language_info": {
   "codemirror_mode": {
    "name": "ipython",
    "version": 3
   },
   "file_extension": ".py",
   "mimetype": "text/x-python",
   "name": "python",
   "nbconvert_exporter": "python",
   "pygments_lexer": "ipython3",
   "version": "3.8.8"
  }
 },
 "nbformat": 4,
 "nbformat_minor": 2
}
