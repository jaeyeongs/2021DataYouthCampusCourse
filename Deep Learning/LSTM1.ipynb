{
 "cells": [
  {
   "cell_type": "markdown",
   "metadata": {},
   "source": [
    "### LSTM 문장생성하기\n",
    "- https://www.kaggle.com/aashita/nyt-comments\n",
    "- ArticlesApril2018.csv"
   ]
  },
  {
   "cell_type": "code",
   "execution_count": 3,
   "metadata": {},
   "outputs": [
    {
     "data": {
      "text/html": [
       "<div>\n",
       "<style scoped>\n",
       "    .dataframe tbody tr th:only-of-type {\n",
       "        vertical-align: middle;\n",
       "    }\n",
       "\n",
       "    .dataframe tbody tr th {\n",
       "        vertical-align: top;\n",
       "    }\n",
       "\n",
       "    .dataframe thead th {\n",
       "        text-align: right;\n",
       "    }\n",
       "</style>\n",
       "<table border=\"1\" class=\"dataframe\">\n",
       "  <thead>\n",
       "    <tr style=\"text-align: right;\">\n",
       "      <th></th>\n",
       "      <th>articleID</th>\n",
       "      <th>articleWordCount</th>\n",
       "      <th>byline</th>\n",
       "      <th>documentType</th>\n",
       "      <th>headline</th>\n",
       "      <th>keywords</th>\n",
       "      <th>multimedia</th>\n",
       "      <th>newDesk</th>\n",
       "      <th>printPage</th>\n",
       "      <th>pubDate</th>\n",
       "      <th>sectionName</th>\n",
       "      <th>snippet</th>\n",
       "      <th>source</th>\n",
       "      <th>typeOfMaterial</th>\n",
       "      <th>webURL</th>\n",
       "    </tr>\n",
       "  </thead>\n",
       "  <tbody>\n",
       "    <tr>\n",
       "      <th>0</th>\n",
       "      <td>5adf6684068401528a2aa69b</td>\n",
       "      <td>781</td>\n",
       "      <td>By JOHN BRANCH</td>\n",
       "      <td>article</td>\n",
       "      <td>Former N.F.L. Cheerleaders’ Settlement Offer: ...</td>\n",
       "      <td>['Workplace Hazards and Violations', 'Football...</td>\n",
       "      <td>68</td>\n",
       "      <td>Sports</td>\n",
       "      <td>0</td>\n",
       "      <td>2018-04-24 17:16:49</td>\n",
       "      <td>Pro Football</td>\n",
       "      <td>“I understand that they could meet with us, pa...</td>\n",
       "      <td>The New York Times</td>\n",
       "      <td>News</td>\n",
       "      <td>https://www.nytimes.com/2018/04/24/sports/foot...</td>\n",
       "    </tr>\n",
       "    <tr>\n",
       "      <th>1</th>\n",
       "      <td>5adf653f068401528a2aa697</td>\n",
       "      <td>656</td>\n",
       "      <td>By LISA FRIEDMAN</td>\n",
       "      <td>article</td>\n",
       "      <td>E.P.A. to Unveil a New Rule. Its Effect: Less ...</td>\n",
       "      <td>['Environmental Protection Agency', 'Pruitt, S...</td>\n",
       "      <td>68</td>\n",
       "      <td>Climate</td>\n",
       "      <td>0</td>\n",
       "      <td>2018-04-24 17:11:21</td>\n",
       "      <td>Unknown</td>\n",
       "      <td>The agency plans to publish a new regulation T...</td>\n",
       "      <td>The New York Times</td>\n",
       "      <td>News</td>\n",
       "      <td>https://www.nytimes.com/2018/04/24/climate/epa...</td>\n",
       "    </tr>\n",
       "    <tr>\n",
       "      <th>2</th>\n",
       "      <td>5adf4626068401528a2aa628</td>\n",
       "      <td>2427</td>\n",
       "      <td>By PETE WELLS</td>\n",
       "      <td>article</td>\n",
       "      <td>The New Noma, Explained</td>\n",
       "      <td>['Restaurants', 'Noma (Copenhagen, Restaurant)...</td>\n",
       "      <td>66</td>\n",
       "      <td>Dining</td>\n",
       "      <td>0</td>\n",
       "      <td>2018-04-24 14:58:44</td>\n",
       "      <td>Unknown</td>\n",
       "      <td>What’s it like to eat at the second incarnatio...</td>\n",
       "      <td>The New York Times</td>\n",
       "      <td>News</td>\n",
       "      <td>https://www.nytimes.com/2018/04/24/dining/noma...</td>\n",
       "    </tr>\n",
       "    <tr>\n",
       "      <th>3</th>\n",
       "      <td>5adf40d2068401528a2aa619</td>\n",
       "      <td>626</td>\n",
       "      <td>By JULIE HIRSCHFELD DAVIS and PETER BAKER</td>\n",
       "      <td>article</td>\n",
       "      <td>Unknown</td>\n",
       "      <td>['Macron, Emmanuel (1977- )', 'Trump, Donald J...</td>\n",
       "      <td>68</td>\n",
       "      <td>Washington</td>\n",
       "      <td>0</td>\n",
       "      <td>2018-04-24 14:35:57</td>\n",
       "      <td>Europe</td>\n",
       "      <td>President Trump welcomed President Emmanuel Ma...</td>\n",
       "      <td>The New York Times</td>\n",
       "      <td>News</td>\n",
       "      <td>https://www.nytimes.com/2018/04/24/world/europ...</td>\n",
       "    </tr>\n",
       "    <tr>\n",
       "      <th>4</th>\n",
       "      <td>5adf3d64068401528a2aa60f</td>\n",
       "      <td>815</td>\n",
       "      <td>By IAN AUSTEN and DAN BILEFSKY</td>\n",
       "      <td>article</td>\n",
       "      <td>Unknown</td>\n",
       "      <td>['Toronto, Ontario, Attack (April, 2018)', 'Mu...</td>\n",
       "      <td>68</td>\n",
       "      <td>Foreign</td>\n",
       "      <td>0</td>\n",
       "      <td>2018-04-24 14:21:21</td>\n",
       "      <td>Canada</td>\n",
       "      <td>Alek Minassian, 25, a resident of Toronto’s Ri...</td>\n",
       "      <td>The New York Times</td>\n",
       "      <td>News</td>\n",
       "      <td>https://www.nytimes.com/2018/04/24/world/canad...</td>\n",
       "    </tr>\n",
       "  </tbody>\n",
       "</table>\n",
       "</div>"
      ],
      "text/plain": [
       "                  articleID  articleWordCount  \\\n",
       "0  5adf6684068401528a2aa69b               781   \n",
       "1  5adf653f068401528a2aa697               656   \n",
       "2  5adf4626068401528a2aa628              2427   \n",
       "3  5adf40d2068401528a2aa619               626   \n",
       "4  5adf3d64068401528a2aa60f               815   \n",
       "\n",
       "                                      byline documentType  \\\n",
       "0                             By JOHN BRANCH      article   \n",
       "1                           By LISA FRIEDMAN      article   \n",
       "2                              By PETE WELLS      article   \n",
       "3  By JULIE HIRSCHFELD DAVIS and PETER BAKER      article   \n",
       "4             By IAN AUSTEN and DAN BILEFSKY      article   \n",
       "\n",
       "                                            headline  \\\n",
       "0  Former N.F.L. Cheerleaders’ Settlement Offer: ...   \n",
       "1  E.P.A. to Unveil a New Rule. Its Effect: Less ...   \n",
       "2                            The New Noma, Explained   \n",
       "3                                            Unknown   \n",
       "4                                            Unknown   \n",
       "\n",
       "                                            keywords  multimedia     newDesk  \\\n",
       "0  ['Workplace Hazards and Violations', 'Football...          68      Sports   \n",
       "1  ['Environmental Protection Agency', 'Pruitt, S...          68     Climate   \n",
       "2  ['Restaurants', 'Noma (Copenhagen, Restaurant)...          66      Dining   \n",
       "3  ['Macron, Emmanuel (1977- )', 'Trump, Donald J...          68  Washington   \n",
       "4  ['Toronto, Ontario, Attack (April, 2018)', 'Mu...          68     Foreign   \n",
       "\n",
       "   printPage              pubDate   sectionName  \\\n",
       "0          0  2018-04-24 17:16:49  Pro Football   \n",
       "1          0  2018-04-24 17:11:21       Unknown   \n",
       "2          0  2018-04-24 14:58:44       Unknown   \n",
       "3          0  2018-04-24 14:35:57        Europe   \n",
       "4          0  2018-04-24 14:21:21        Canada   \n",
       "\n",
       "                                             snippet              source  \\\n",
       "0  “I understand that they could meet with us, pa...  The New York Times   \n",
       "1  The agency plans to publish a new regulation T...  The New York Times   \n",
       "2  What’s it like to eat at the second incarnatio...  The New York Times   \n",
       "3  President Trump welcomed President Emmanuel Ma...  The New York Times   \n",
       "4  Alek Minassian, 25, a resident of Toronto’s Ri...  The New York Times   \n",
       "\n",
       "  typeOfMaterial                                             webURL  \n",
       "0           News  https://www.nytimes.com/2018/04/24/sports/foot...  \n",
       "1           News  https://www.nytimes.com/2018/04/24/climate/epa...  \n",
       "2           News  https://www.nytimes.com/2018/04/24/dining/noma...  \n",
       "3           News  https://www.nytimes.com/2018/04/24/world/europ...  \n",
       "4           News  https://www.nytimes.com/2018/04/24/world/canad...  "
      ]
     },
     "execution_count": 3,
     "metadata": {},
     "output_type": "execute_result"
    }
   ],
   "source": [
    "import pandas as pd\n",
    "\n",
    "df = pd.read_csv('ArticlesApril2018.csv')\n",
    "df.head()"
   ]
  },
  {
   "cell_type": "code",
   "execution_count": 4,
   "metadata": {},
   "outputs": [
    {
     "name": "stdout",
     "output_type": "stream",
     "text": [
      "<class 'pandas.core.frame.DataFrame'>\n",
      "RangeIndex: 1324 entries, 0 to 1323\n",
      "Data columns (total 15 columns):\n",
      " #   Column            Non-Null Count  Dtype \n",
      "---  ------            --------------  ----- \n",
      " 0   articleID         1324 non-null   object\n",
      " 1   articleWordCount  1324 non-null   int64 \n",
      " 2   byline            1324 non-null   object\n",
      " 3   documentType      1324 non-null   object\n",
      " 4   headline          1324 non-null   object\n",
      " 5   keywords          1324 non-null   object\n",
      " 6   multimedia        1324 non-null   int64 \n",
      " 7   newDesk           1324 non-null   object\n",
      " 8   printPage         1324 non-null   int64 \n",
      " 9   pubDate           1324 non-null   object\n",
      " 10  sectionName       1324 non-null   object\n",
      " 11  snippet           1324 non-null   object\n",
      " 12  source            1324 non-null   object\n",
      " 13  typeOfMaterial    1324 non-null   object\n",
      " 14  webURL            1324 non-null   object\n",
      "dtypes: int64(3), object(12)\n",
      "memory usage: 155.3+ KB\n"
     ]
    }
   ],
   "source": [
    "df.info()"
   ]
  },
  {
   "cell_type": "code",
   "execution_count": 5,
   "metadata": {},
   "outputs": [
    {
     "name": "stdout",
     "output_type": "stream",
     "text": [
      "Index(['articleID', 'articleWordCount', 'byline', 'documentType', 'headline',\n",
      "       'keywords', 'multimedia', 'newDesk', 'printPage', 'pubDate',\n",
      "       'sectionName', 'snippet', 'source', 'typeOfMaterial', 'webURL'],\n",
      "      dtype='object')\n",
      "열의 개수: 15\n"
     ]
    }
   ],
   "source": [
    "print(df.columns)\n",
    "print('열의 개수:', len(df.columns))"
   ]
  },
  {
   "cell_type": "code",
   "execution_count": 6,
   "metadata": {},
   "outputs": [
    {
     "data": {
      "text/plain": [
       "False"
      ]
     },
     "execution_count": 6,
     "metadata": {},
     "output_type": "execute_result"
    }
   ],
   "source": [
    "df['headline'].isnull().values.any() # null 값 있는지 확인"
   ]
  },
  {
   "cell_type": "code",
   "execution_count": 7,
   "metadata": {},
   "outputs": [
    {
     "data": {
      "text/plain": [
       "['Former N.F.L. Cheerleaders’ Settlement Offer: $1 and a Meeting With Goodell',\n",
       " 'E.P.A. to Unveil a New Rule. Its Effect: Less Science in Policymaking.',\n",
       " 'The New Noma, Explained',\n",
       " 'Unknown',\n",
       " 'Unknown']"
      ]
     },
     "execution_count": 7,
     "metadata": {},
     "output_type": "execute_result"
    }
   ],
   "source": [
    "headline = [] # 리스트 선언\n",
    "headline.extend(list(df.headline.values)) # 헤드라인의 값들을 리스트로 저장\n",
    "headline[:5] # 상위 5개만 출력"
   ]
  },
  {
   "cell_type": "code",
   "execution_count": 8,
   "metadata": {},
   "outputs": [
    {
     "data": {
      "text/plain": [
       "1324"
      ]
     },
     "execution_count": 8,
     "metadata": {},
     "output_type": "execute_result"
    }
   ],
   "source": [
    "len(headline) # 현재 데이터의 개수"
   ]
  },
  {
   "cell_type": "code",
   "execution_count": 9,
   "metadata": {},
   "outputs": [
    {
     "data": {
      "text/plain": [
       "1214"
      ]
     },
     "execution_count": 9,
     "metadata": {},
     "output_type": "execute_result"
    }
   ],
   "source": [
    "headline = [n for n in headline if n != \"Unknown\"] # Unknown 데이터 제거\n",
    "len(headline) # 제거 후 데이터의 개수"
   ]
  },
  {
   "cell_type": "code",
   "execution_count": 10,
   "metadata": {},
   "outputs": [
    {
     "data": {
      "text/plain": [
       "['Former N.F.L. Cheerleaders’ Settlement Offer: $1 and a Meeting With Goodell',\n",
       " 'E.P.A. to Unveil a New Rule. Its Effect: Less Science in Policymaking.',\n",
       " 'The New Noma, Explained',\n",
       " 'How a Bag of Texas Dirt  Became a Times Tradition',\n",
       " 'Is School a Place for Self-Expression?']"
      ]
     },
     "execution_count": 10,
     "metadata": {},
     "output_type": "execute_result"
    }
   ],
   "source": [
    "headline[:5]"
   ]
  },
  {
   "cell_type": "code",
   "execution_count": 11,
   "metadata": {},
   "outputs": [
    {
     "data": {
      "text/plain": [
       "['former nfl cheerleaders settlement offer 1 and a meeting with goodell',\n",
       " 'epa to unveil a new rule its effect less science in policymaking',\n",
       " 'the new noma explained',\n",
       " 'how a bag of texas dirt  became a times tradition',\n",
       " 'is school a place for selfexpression']"
      ]
     },
     "execution_count": 11,
     "metadata": {},
     "output_type": "execute_result"
    }
   ],
   "source": [
    "from string import punctuation\n",
    "\n",
    "def repreprocessing(s):\n",
    "    s = s.encode(\"utf8\").decode(\"ascii\",\"ignore\") # 코드 추가\n",
    "    return ''.join(c for c in s if c not in punctuation).lower() # 구두점 제거와 동시에 소문자화\n",
    "\n",
    "text = [repreprocessing(x) for x in headline]\n",
    "text[:5]"
   ]
  },
  {
   "cell_type": "code",
   "execution_count": 12,
   "metadata": {},
   "outputs": [
    {
     "name": "stdout",
     "output_type": "stream",
     "text": [
      "단어 집합의 크기: 3494\n"
     ]
    }
   ],
   "source": [
    "from keras_preprocessing.text import Tokenizer\n",
    "\n",
    "t = Tokenizer()\n",
    "t.fit_on_texts(text)\n",
    "\n",
    "vocab_size = len(t.word_index) + 1\n",
    "print('단어 집합의 크기: %d' % vocab_size)"
   ]
  },
  {
   "cell_type": "code",
   "execution_count": 13,
   "metadata": {},
   "outputs": [
    {
     "data": {
      "text/plain": [
       "[[99, 269],\n",
       " [99, 269, 371],\n",
       " [99, 269, 371, 1115],\n",
       " [99, 269, 371, 1115, 582],\n",
       " [99, 269, 371, 1115, 582, 52],\n",
       " [99, 269, 371, 1115, 582, 52, 7],\n",
       " [99, 269, 371, 1115, 582, 52, 7, 2],\n",
       " [99, 269, 371, 1115, 582, 52, 7, 2, 372],\n",
       " [99, 269, 371, 1115, 582, 52, 7, 2, 372, 10],\n",
       " [99, 269, 371, 1115, 582, 52, 7, 2, 372, 10, 1116],\n",
       " [100, 3]]"
      ]
     },
     "execution_count": 13,
     "metadata": {},
     "output_type": "execute_result"
    }
   ],
   "source": [
    "sequences = list()\n",
    "\n",
    "for line in text: # 1214개의 데이터에 대해서 데이터를 1개씩 가져온다.\n",
    "    encoded = t.texts_to_sequences([line])[0] # 각 데이터에 대한 정수 인코딩\n",
    "    for i in range(1, len(encoded)):\n",
    "        sequence = encoded[:i+1]\n",
    "        sequences.append(sequence)\n",
    "        \n",
    "sequences[:11] #11개의 데이터 출력"
   ]
  },
  {
   "cell_type": "code",
   "execution_count": 14,
   "metadata": {},
   "outputs": [
    {
     "data": {
      "text/plain": [
       "'offer'"
      ]
     },
     "execution_count": 14,
     "metadata": {},
     "output_type": "execute_result"
    }
   ],
   "source": [
    "index_to_word = {}\n",
    "for key, value in t.word_index.items(): # 인덱스를 단어로 바꾸기 위해 index_to_word를 생성\n",
    "    index_to_word[value] = key\n",
    "    \n",
    "index_to_word[582]"
   ]
  },
  {
   "cell_type": "code",
   "execution_count": 15,
   "metadata": {},
   "outputs": [
    {
     "name": "stdout",
     "output_type": "stream",
     "text": [
      "24\n"
     ]
    }
   ],
   "source": [
    "max_len = max(len(i) for i in sequences)\n",
    "print(max_len)"
   ]
  },
  {
   "cell_type": "code",
   "execution_count": 17,
   "metadata": {},
   "outputs": [
    {
     "name": "stdout",
     "output_type": "stream",
     "text": [
      "[[   0    0    0    0    0    0    0    0    0    0    0    0    0    0\n",
      "     0    0    0    0    0    0    0    0   99  269]\n",
      " [   0    0    0    0    0    0    0    0    0    0    0    0    0    0\n",
      "     0    0    0    0    0    0    0   99  269  371]\n",
      " [   0    0    0    0    0    0    0    0    0    0    0    0    0    0\n",
      "     0    0    0    0    0    0   99  269  371 1115]]\n"
     ]
    }
   ],
   "source": [
    "from tensorflow.keras.preprocessing.sequence import pad_sequences\n",
    "\n",
    "sequences = pad_sequences(sequences, maxlen = max_len, padding = 'pre')\n",
    "print(sequences[:3])"
   ]
  },
  {
   "cell_type": "code",
   "execution_count": 18,
   "metadata": {},
   "outputs": [],
   "source": [
    "import numpy as np\n",
    "\n",
    "sequence = np.array(sequences)\n",
    "\n",
    "X = sequences[:,:-1]\n",
    "y = sequences[:,-1]"
   ]
  },
  {
   "cell_type": "code",
   "execution_count": 19,
   "metadata": {},
   "outputs": [
    {
     "name": "stdout",
     "output_type": "stream",
     "text": [
      "[[  0   0   0   0   0   0   0   0   0   0   0   0   0   0   0   0   0   0\n",
      "    0   0   0   0  99]\n",
      " [  0   0   0   0   0   0   0   0   0   0   0   0   0   0   0   0   0   0\n",
      "    0   0   0  99 269]\n",
      " [  0   0   0   0   0   0   0   0   0   0   0   0   0   0   0   0   0   0\n",
      "    0   0  99 269 371]]\n"
     ]
    }
   ],
   "source": [
    "print(X[:3])"
   ]
  },
  {
   "cell_type": "code",
   "execution_count": 20,
   "metadata": {},
   "outputs": [
    {
     "name": "stdout",
     "output_type": "stream",
     "text": [
      "[ 269  371 1115]\n"
     ]
    }
   ],
   "source": [
    "print(y[:3])"
   ]
  },
  {
   "cell_type": "code",
   "execution_count": 21,
   "metadata": {},
   "outputs": [],
   "source": [
    "from tensorflow.keras.utils import to_categorical\n",
    "\n",
    "y = to_categorical(y, num_classes = vocab_size)"
   ]
  },
  {
   "cell_type": "code",
   "execution_count": 22,
   "metadata": {},
   "outputs": [
    {
     "name": "stdout",
     "output_type": "stream",
     "text": [
      "Epoch 1/200\n",
      "244/244 [==============================] - 5s 16ms/step - loss: 7.6293 - accuracy: 0.0314\n",
      "Epoch 2/200\n",
      "244/244 [==============================] - 4s 16ms/step - loss: 7.1105 - accuracy: 0.0291\n",
      "Epoch 3/200\n",
      "244/244 [==============================] - 4s 16ms/step - loss: 6.9663 - accuracy: 0.0352\n",
      "Epoch 4/200\n",
      "244/244 [==============================] - 4s 17ms/step - loss: 6.8226 - accuracy: 0.0388\n",
      "Epoch 5/200\n",
      "244/244 [==============================] - 4s 17ms/step - loss: 6.6588 - accuracy: 0.0465\n",
      "Epoch 6/200\n",
      "244/244 [==============================] - 4s 17ms/step - loss: 6.4738 - accuracy: 0.0486\n",
      "Epoch 7/200\n",
      "244/244 [==============================] - 4s 18ms/step - loss: 6.2769 - accuracy: 0.0537\n",
      "Epoch 8/200\n",
      "244/244 [==============================] - 5s 20ms/step - loss: 6.0730 - accuracy: 0.0588 0s - loss: 6\n",
      "Epoch 9/200\n",
      "244/244 [==============================] - 5s 22ms/step - loss: 5.8750 - accuracy: 0.0666\n",
      "Epoch 10/200\n",
      "244/244 [==============================] - 5s 20ms/step - loss: 5.6855 - accuracy: 0.0664\n",
      "Epoch 11/200\n",
      "244/244 [==============================] - 5s 20ms/step - loss: 5.5071 - accuracy: 0.0716 0s - loss: 5.5060 - accuracy: 0.\n",
      "Epoch 12/200\n",
      "244/244 [==============================] - 5s 22ms/step - loss: 5.3376 - accuracy: 0.0739 0s - loss: 5.316\n",
      "Epoch 13/200\n",
      "244/244 [==============================] - 5s 20ms/step - loss: 5.1759 - accuracy: 0.0843\n",
      "Epoch 14/200\n",
      "244/244 [==============================] - 5s 20ms/step - loss: 5.0248 - accuracy: 0.0936\n",
      "Epoch 15/200\n",
      "244/244 [==============================] - 5s 20ms/step - loss: 4.8807 - accuracy: 0.0997\n",
      "Epoch 16/200\n",
      "244/244 [==============================] - 5s 19ms/step - loss: 4.7385 - accuracy: 0.1157\n",
      "Epoch 17/200\n",
      "244/244 [==============================] - 5s 19ms/step - loss: 4.6045 - accuracy: 0.1315\n",
      "Epoch 18/200\n",
      "244/244 [==============================] - 5s 19ms/step - loss: 4.4739 - accuracy: 0.1424\n",
      "Epoch 19/200\n",
      "244/244 [==============================] - 6s 24ms/step - loss: 4.3478 - accuracy: 0.1637\n",
      "Epoch 20/200\n",
      "244/244 [==============================] - 7s 27ms/step - loss: 4.2266 - accuracy: 0.1804\n",
      "Epoch 21/200\n",
      "244/244 [==============================] - 7s 27ms/step - loss: 4.1051 - accuracy: 0.2029\n",
      "Epoch 22/200\n",
      "244/244 [==============================] - 7s 28ms/step - loss: 3.9905 - accuracy: 0.2166\n",
      "Epoch 23/200\n",
      "244/244 [==============================] - 6s 26ms/step - loss: 3.8783 - accuracy: 0.2325\n",
      "Epoch 24/200\n",
      "244/244 [==============================] - 6s 26ms/step - loss: 3.7706 - accuracy: 0.2509\n",
      "Epoch 25/200\n",
      "244/244 [==============================] - 6s 24ms/step - loss: 3.6652 - accuracy: 0.2735\n",
      "Epoch 26/200\n",
      "244/244 [==============================] - 7s 29ms/step - loss: 3.5668 - accuracy: 0.2919 0s - loss: 3.5616 - ac\n",
      "Epoch 27/200\n",
      "244/244 [==============================] - 6s 23ms/step - loss: 3.4697 - accuracy: 0.3071\n",
      "Epoch 28/200\n",
      "244/244 [==============================] - 6s 23ms/step - loss: 3.3762 - accuracy: 0.3294\n",
      "Epoch 29/200\n",
      "244/244 [==============================] - 5s 21ms/step - loss: 3.2879 - accuracy: 0.3382\n",
      "Epoch 30/200\n",
      "244/244 [==============================] - 5s 21ms/step - loss: 3.2007 - accuracy: 0.3526\n",
      "Epoch 31/200\n",
      "244/244 [==============================] - 5s 20ms/step - loss: 3.1163 - accuracy: 0.3670\n",
      "Epoch 32/200\n",
      "244/244 [==============================] - 5s 20ms/step - loss: 3.0375 - accuracy: 0.3847\n",
      "Epoch 33/200\n",
      "244/244 [==============================] - 5s 21ms/step - loss: 2.9579 - accuracy: 0.3951\n",
      "Epoch 34/200\n",
      "244/244 [==============================] - 5s 21ms/step - loss: 2.8859 - accuracy: 0.4098\n",
      "Epoch 35/200\n",
      "244/244 [==============================] - 6s 23ms/step - loss: 2.8148 - accuracy: 0.4241\n",
      "Epoch 36/200\n",
      "244/244 [==============================] - 6s 23ms/step - loss: 2.7439 - accuracy: 0.4380\n",
      "Epoch 37/200\n",
      "244/244 [==============================] - 6s 23ms/step - loss: 2.6762 - accuracy: 0.4488\n",
      "Epoch 38/200\n",
      "244/244 [==============================] - 6s 25ms/step - loss: 2.6180 - accuracy: 0.4605\n",
      "Epoch 39/200\n",
      "244/244 [==============================] - 6s 25ms/step - loss: 2.5519 - accuracy: 0.4719\n",
      "Epoch 40/200\n",
      "244/244 [==============================] - 6s 25ms/step - loss: 2.4933 - accuracy: 0.4848\n",
      "Epoch 41/200\n",
      "244/244 [==============================] - 6s 26ms/step - loss: 2.4349 - accuracy: 0.4957\n",
      "Epoch 42/200\n",
      "244/244 [==============================] - 6s 25ms/step - loss: 2.3784 - accuracy: 0.5092\n",
      "Epoch 43/200\n",
      "244/244 [==============================] - 6s 24ms/step - loss: 2.3224 - accuracy: 0.5224\n",
      "Epoch 44/200\n",
      "244/244 [==============================] - 6s 23ms/step - loss: 2.2712 - accuracy: 0.5308\n",
      "Epoch 45/200\n",
      "244/244 [==============================] - 6s 23ms/step - loss: 2.2181 - accuracy: 0.5453\n",
      "Epoch 46/200\n",
      "244/244 [==============================] - 5s 23ms/step - loss: 2.1697 - accuracy: 0.5567\n",
      "Epoch 47/200\n",
      "244/244 [==============================] - 5s 21ms/step - loss: 2.1200 - accuracy: 0.5643\n",
      "Epoch 48/200\n",
      "244/244 [==============================] - 5s 22ms/step - loss: 2.0723 - accuracy: 0.5707\n",
      "Epoch 49/200\n",
      "244/244 [==============================] - 6s 23ms/step - loss: 2.0238 - accuracy: 0.5862\n",
      "Epoch 50/200\n",
      "244/244 [==============================] - 6s 23ms/step - loss: 1.9816 - accuracy: 0.5931\n",
      "Epoch 51/200\n",
      "244/244 [==============================] - 6s 23ms/step - loss: 1.9356 - accuracy: 0.6075\n",
      "Epoch 52/200\n",
      "244/244 [==============================] - 6s 25ms/step - loss: 1.8897 - accuracy: 0.6132\n",
      "Epoch 53/200\n",
      "244/244 [==============================] - 6s 25ms/step - loss: 1.8498 - accuracy: 0.6212\n",
      "Epoch 54/200\n",
      "244/244 [==============================] - 6s 25ms/step - loss: 1.8088 - accuracy: 0.6327\n",
      "Epoch 55/200\n",
      "244/244 [==============================] - 6s 26ms/step - loss: 1.7673 - accuracy: 0.6378\n",
      "Epoch 56/200\n",
      "244/244 [==============================] - 6s 25ms/step - loss: 1.7274 - accuracy: 0.6474\n",
      "Epoch 57/200\n",
      "244/244 [==============================] - 6s 26ms/step - loss: 1.6882 - accuracy: 0.6587\n",
      "Epoch 58/200\n",
      "244/244 [==============================] - 6s 24ms/step - loss: 1.6502 - accuracy: 0.6650\n",
      "Epoch 59/200\n",
      "244/244 [==============================] - 6s 23ms/step - loss: 1.6120 - accuracy: 0.6756\n",
      "Epoch 60/200\n",
      "244/244 [==============================] - 5s 22ms/step - loss: 1.5748 - accuracy: 0.6879\n",
      "Epoch 61/200\n",
      "244/244 [==============================] - 5s 22ms/step - loss: 1.5405 - accuracy: 0.6876\n",
      "Epoch 62/200\n",
      "244/244 [==============================] - 5s 22ms/step - loss: 1.5066 - accuracy: 0.6987 1s - loss: 1.4715 - accura - ETA: 1s - loss: 1.4760 -  - ETA: 1s\n",
      "Epoch 63/200\n",
      "244/244 [==============================] - 5s 22ms/step - loss: 1.4705 - accuracy: 0.7041\n",
      "Epoch 64/200\n",
      "244/244 [==============================] - 6s 23ms/step - loss: 1.4400 - accuracy: 0.7099\n",
      "Epoch 65/200\n",
      "244/244 [==============================] - 6s 25ms/step - loss: 1.4085 - accuracy: 0.7175\n",
      "Epoch 66/200\n",
      "244/244 [==============================] - 6s 24ms/step - loss: 1.3760 - accuracy: 0.7250\n",
      "Epoch 67/200\n",
      "244/244 [==============================] - 6s 27ms/step - loss: 1.3435 - accuracy: 0.7293\n",
      "Epoch 68/200\n",
      "244/244 [==============================] - 7s 27ms/step - loss: 1.3134 - accuracy: 0.7359\n",
      "Epoch 69/200\n",
      "244/244 [==============================] - 6s 27ms/step - loss: 1.2847 - accuracy: 0.7439\n",
      "Epoch 70/200\n",
      "244/244 [==============================] - 6s 26ms/step - loss: 1.2562 - accuracy: 0.7471\n",
      "Epoch 71/200\n",
      "244/244 [==============================] - 6s 25ms/step - loss: 1.2269 - accuracy: 0.7589\n",
      "Epoch 72/200\n",
      "244/244 [==============================] - 6s 24ms/step - loss: 1.1994 - accuracy: 0.7587\n",
      "Epoch 73/200\n",
      "244/244 [==============================] - 6s 23ms/step - loss: 1.1732 - accuracy: 0.7666\n",
      "Epoch 74/200\n",
      "244/244 [==============================] - 5s 22ms/step - loss: 1.1465 - accuracy: 0.7716\n",
      "Epoch 75/200\n",
      "244/244 [==============================] - 5s 22ms/step - loss: 1.1200 - accuracy: 0.7751\n",
      "Epoch 76/200\n",
      "244/244 [==============================] - 6s 23ms/step - loss: 1.0984 - accuracy: 0.7805\n",
      "Epoch 77/200\n",
      "244/244 [==============================] - 6s 24ms/step - loss: 1.0726 - accuracy: 0.7875\n",
      "Epoch 78/200\n",
      "244/244 [==============================] - 6s 25ms/step - loss: 1.0486 - accuracy: 0.7917\n",
      "Epoch 79/200\n"
     ]
    },
    {
     "name": "stdout",
     "output_type": "stream",
     "text": [
      "244/244 [==============================] - 6s 24ms/step - loss: 1.0259 - accuracy: 0.7942\n",
      "Epoch 80/200\n",
      "244/244 [==============================] - 6s 24ms/step - loss: 1.0027 - accuracy: 0.7993 0s - loss: 1.0054 - accuracy\n",
      "Epoch 81/200\n",
      "244/244 [==============================] - 6s 25ms/step - loss: 0.9804 - accuracy: 0.8055\n",
      "Epoch 82/200\n",
      "244/244 [==============================] - 6s 24ms/step - loss: 0.9606 - accuracy: 0.8082\n",
      "Epoch 83/200\n",
      "244/244 [==============================] - 6s 23ms/step - loss: 0.9394 - accuracy: 0.8129\n",
      "Epoch 84/200\n",
      "244/244 [==============================] - 6s 23ms/step - loss: 0.9183 - accuracy: 0.8174\n",
      "Epoch 85/200\n",
      "244/244 [==============================] - 5s 21ms/step - loss: 0.8968 - accuracy: 0.8197\n",
      "Epoch 86/200\n",
      "244/244 [==============================] - 5s 21ms/step - loss: 0.8774 - accuracy: 0.8257\n",
      "Epoch 87/200\n",
      "244/244 [==============================] - 5s 22ms/step - loss: 0.8582 - accuracy: 0.8270\n",
      "Epoch 88/200\n",
      "244/244 [==============================] - 6s 25ms/step - loss: 0.8395 - accuracy: 0.8301\n",
      "Epoch 89/200\n",
      "244/244 [==============================] - 6s 27ms/step - loss: 0.8202 - accuracy: 0.8346\n",
      "Epoch 90/200\n",
      "244/244 [==============================] - 6s 26ms/step - loss: 0.8038 - accuracy: 0.8385\n",
      "Epoch 91/200\n",
      "244/244 [==============================] - 7s 29ms/step - loss: 0.7869 - accuracy: 0.8402\n",
      "Epoch 92/200\n",
      "244/244 [==============================] - 7s 27ms/step - loss: 0.7695 - accuracy: 0.8467\n",
      "Epoch 93/200\n",
      "244/244 [==============================] - 6s 25ms/step - loss: 0.7541 - accuracy: 0.8483\n",
      "Epoch 94/200\n",
      "244/244 [==============================] - 6s 24ms/step - loss: 0.7375 - accuracy: 0.8521\n",
      "Epoch 95/200\n",
      "244/244 [==============================] - 6s 25ms/step - loss: 0.7221 - accuracy: 0.8558\n",
      "Epoch 96/200\n",
      "244/244 [==============================] - 5s 21ms/step - loss: 0.7091 - accuracy: 0.8580\n",
      "Epoch 97/200\n",
      "244/244 [==============================] - 5s 21ms/step - loss: 0.6937 - accuracy: 0.8621\n",
      "Epoch 98/200\n",
      "244/244 [==============================] - 5s 20ms/step - loss: 0.6759 - accuracy: 0.8612\n",
      "Epoch 99/200\n",
      "244/244 [==============================] - 5s 21ms/step - loss: 0.6634 - accuracy: 0.8656\n",
      "Epoch 100/200\n",
      "244/244 [==============================] - 5s 21ms/step - loss: 0.6535 - accuracy: 0.8667\n",
      "Epoch 101/200\n",
      "244/244 [==============================] - 6s 24ms/step - loss: 0.6369 - accuracy: 0.8730\n",
      "Epoch 102/200\n",
      "244/244 [==============================] - 5s 22ms/step - loss: 0.6236 - accuracy: 0.8740\n",
      "Epoch 103/200\n",
      "244/244 [==============================] - 5s 22ms/step - loss: 0.6097 - accuracy: 0.8765\n",
      "Epoch 104/200\n",
      "244/244 [==============================] - 5s 21ms/step - loss: 0.5984 - accuracy: 0.8789\n",
      "Epoch 105/200\n",
      "244/244 [==============================] - 5s 21ms/step - loss: 0.5845 - accuracy: 0.8809\n",
      "Epoch 106/200\n",
      "244/244 [==============================] - 5s 20ms/step - loss: 0.5760 - accuracy: 0.8863\n",
      "Epoch 107/200\n",
      "244/244 [==============================] - 5s 21ms/step - loss: 0.5626 - accuracy: 0.8862\n",
      "Epoch 108/200\n",
      "244/244 [==============================] - 5s 22ms/step - loss: 0.5510 - accuracy: 0.8872\n",
      "Epoch 109/200\n",
      "244/244 [==============================] - 7s 30ms/step - loss: 0.5422 - accuracy: 0.8885\n",
      "Epoch 110/200\n",
      "244/244 [==============================] - 5s 21ms/step - loss: 0.5304 - accuracy: 0.8926\n",
      "Epoch 111/200\n",
      "244/244 [==============================] - 5s 21ms/step - loss: 0.5193 - accuracy: 0.8927\n",
      "Epoch 112/200\n",
      "244/244 [==============================] - 5s 22ms/step - loss: 0.5097 - accuracy: 0.8939\n",
      "Epoch 113/200\n",
      "244/244 [==============================] - 5s 22ms/step - loss: 0.5007 - accuracy: 0.8973\n",
      "Epoch 114/200\n",
      "244/244 [==============================] - 5s 22ms/step - loss: 0.4924 - accuracy: 0.8968\n",
      "Epoch 115/200\n",
      "244/244 [==============================] - 5s 22ms/step - loss: 0.4962 - accuracy: 0.8977\n",
      "Epoch 116/200\n",
      "244/244 [==============================] - 5s 22ms/step - loss: 0.4737 - accuracy: 0.8997\n",
      "Epoch 117/200\n",
      "244/244 [==============================] - 5s 21ms/step - loss: 0.4628 - accuracy: 0.9023\n",
      "Epoch 118/200\n",
      "244/244 [==============================] - 5s 21ms/step - loss: 0.4552 - accuracy: 0.9030\n",
      "Epoch 119/200\n",
      "244/244 [==============================] - 6s 25ms/step - loss: 0.4484 - accuracy: 0.9043 0s - loss: 0\n",
      "Epoch 120/200\n",
      "244/244 [==============================] - 6s 23ms/step - loss: 0.4424 - accuracy: 0.9063\n",
      "Epoch 121/200\n",
      "244/244 [==============================] - 6s 23ms/step - loss: 0.4331 - accuracy: 0.9035\n",
      "Epoch 122/200\n",
      "244/244 [==============================] - 7s 27ms/step - loss: 0.4256 - accuracy: 0.9068\n",
      "Epoch 123/200\n",
      "244/244 [==============================] - 7s 28ms/step - loss: 0.4190 - accuracy: 0.9070\n",
      "Epoch 124/200\n",
      "244/244 [==============================] - 6s 26ms/step - loss: 0.4174 - accuracy: 0.9072\n",
      "Epoch 125/200\n",
      "244/244 [==============================] - 6s 23ms/step - loss: 0.4081 - accuracy: 0.9071\n",
      "Epoch 126/200\n",
      "244/244 [==============================] - 5s 22ms/step - loss: 0.4026 - accuracy: 0.9103\n",
      "Epoch 127/200\n",
      "244/244 [==============================] - 5s 22ms/step - loss: 0.3953 - accuracy: 0.9113 0s - los\n",
      "Epoch 128/200\n",
      "244/244 [==============================] - 6s 23ms/step - loss: 0.3862 - accuracy: 0.9130\n",
      "Epoch 129/200\n",
      "244/244 [==============================] - 6s 23ms/step - loss: 0.3819 - accuracy: 0.9135\n",
      "Epoch 130/200\n",
      "244/244 [==============================] - 6s 23ms/step - loss: 0.3764 - accuracy: 0.9143\n",
      "Epoch 131/200\n",
      "244/244 [==============================] - 6s 24ms/step - loss: 0.3723 - accuracy: 0.9114\n",
      "Epoch 132/200\n",
      "244/244 [==============================] - 6s 24ms/step - loss: 0.3776 - accuracy: 0.9132\n",
      "Epoch 133/200\n",
      "244/244 [==============================] - 6s 24ms/step - loss: 0.3692 - accuracy: 0.9127\n",
      "Epoch 134/200\n",
      "244/244 [==============================] - 6s 24ms/step - loss: 0.3644 - accuracy: 0.9122\n",
      "Epoch 135/200\n",
      "244/244 [==============================] - 6s 25ms/step - loss: 0.3530 - accuracy: 0.9138\n",
      "Epoch 136/200\n",
      "244/244 [==============================] - 5s 22ms/step - loss: 0.3491 - accuracy: 0.9154\n",
      "Epoch 137/200\n",
      "244/244 [==============================] - 6s 23ms/step - loss: 0.3436 - accuracy: 0.9150\n",
      "Epoch 138/200\n",
      "244/244 [==============================] - 6s 25ms/step - loss: 0.3407 - accuracy: 0.9158\n",
      "Epoch 139/200\n",
      "244/244 [==============================] - 7s 27ms/step - loss: 0.3390 - accuracy: 0.9144\n",
      "Epoch 140/200\n",
      "244/244 [==============================] - 6s 25ms/step - loss: 0.3347 - accuracy: 0.9143\n",
      "Epoch 141/200\n",
      "244/244 [==============================] - 6s 23ms/step - loss: 0.3315 - accuracy: 0.9158\n",
      "Epoch 142/200\n",
      "244/244 [==============================] - 6s 23ms/step - loss: 0.3273 - accuracy: 0.9144\n",
      "Epoch 143/200\n",
      "244/244 [==============================] - 6s 23ms/step - loss: 0.3238 - accuracy: 0.9177\n",
      "Epoch 144/200\n",
      "244/244 [==============================] - 5s 22ms/step - loss: 0.3210 - accuracy: 0.9161\n",
      "Epoch 145/200\n",
      "244/244 [==============================] - 5s 21ms/step - loss: 0.3194 - accuracy: 0.9162\n",
      "Epoch 146/200\n",
      "244/244 [==============================] - 5s 20ms/step - loss: 0.3182 - accuracy: 0.9168\n",
      "Epoch 147/200\n",
      "244/244 [==============================] - 5s 21ms/step - loss: 0.3134 - accuracy: 0.9158\n",
      "Epoch 148/200\n",
      "244/244 [==============================] - 6s 23ms/step - loss: 0.3110 - accuracy: 0.9155\n",
      "Epoch 149/200\n",
      "244/244 [==============================] - 5s 22ms/step - loss: 0.3080 - accuracy: 0.9168\n",
      "Epoch 150/200\n",
      "244/244 [==============================] - 6s 24ms/step - loss: 0.3129 - accuracy: 0.9171\n",
      "Epoch 151/200\n",
      "244/244 [==============================] - 6s 24ms/step - loss: 0.3064 - accuracy: 0.9155\n",
      "Epoch 152/200\n",
      "244/244 [==============================] - 6s 24ms/step - loss: 0.3026 - accuracy: 0.9177\n",
      "Epoch 153/200\n",
      "244/244 [==============================] - 6s 24ms/step - loss: 0.2991 - accuracy: 0.9177\n",
      "Epoch 154/200\n",
      "244/244 [==============================] - 6s 26ms/step - loss: 0.2980 - accuracy: 0.9176\n",
      "Epoch 155/200\n",
      "244/244 [==============================] - 6s 24ms/step - loss: 0.2971 - accuracy: 0.9162\n",
      "Epoch 156/200\n",
      "244/244 [==============================] - 6s 23ms/step - loss: 0.3017 - accuracy: 0.9149\n",
      "Epoch 157/200\n"
     ]
    },
    {
     "name": "stdout",
     "output_type": "stream",
     "text": [
      "244/244 [==============================] - 5s 21ms/step - loss: 0.2967 - accuracy: 0.9168\n",
      "Epoch 158/200\n",
      "244/244 [==============================] - 5s 21ms/step - loss: 0.2952 - accuracy: 0.9166\n",
      "Epoch 159/200\n",
      "244/244 [==============================] - 5s 20ms/step - loss: 0.2940 - accuracy: 0.9163\n",
      "Epoch 160/200\n",
      "244/244 [==============================] - 5s 22ms/step - loss: 0.2900 - accuracy: 0.9167\n",
      "Epoch 161/200\n",
      "244/244 [==============================] - 5s 22ms/step - loss: 0.2875 - accuracy: 0.9170\n",
      "Epoch 162/200\n",
      "244/244 [==============================] - 6s 23ms/step - loss: 0.2858 - accuracy: 0.9175\n",
      "Epoch 163/200\n",
      "244/244 [==============================] - 6s 23ms/step - loss: 0.2845 - accuracy: 0.9163\n",
      "Epoch 164/200\n",
      "244/244 [==============================] - 6s 24ms/step - loss: 0.2854 - accuracy: 0.9166\n",
      "Epoch 165/200\n",
      "244/244 [==============================] - 6s 25ms/step - loss: 0.2849 - accuracy: 0.9167\n",
      "Epoch 166/200\n",
      "244/244 [==============================] - 6s 26ms/step - loss: 0.3170 - accuracy: 0.9102\n",
      "Epoch 167/200\n",
      "244/244 [==============================] - 6s 25ms/step - loss: 0.3103 - accuracy: 0.9121\n",
      "Epoch 168/200\n",
      "244/244 [==============================] - 6s 23ms/step - loss: 0.2918 - accuracy: 0.9153\n",
      "Epoch 169/200\n",
      "244/244 [==============================] - 6s 23ms/step - loss: 0.2790 - accuracy: 0.9170\n",
      "Epoch 170/200\n",
      "244/244 [==============================] - 5s 22ms/step - loss: 0.2779 - accuracy: 0.9158A: 0s - loss: 0.2761 - accura\n",
      "Epoch 171/200\n",
      "244/244 [==============================] - 5s 21ms/step - loss: 0.2762 - accuracy: 0.9180\n",
      "Epoch 172/200\n",
      "244/244 [==============================] - 5s 21ms/step - loss: 0.2757 - accuracy: 0.9172\n",
      "Epoch 173/200\n",
      "244/244 [==============================] - 5s 21ms/step - loss: 0.2747 - accuracy: 0.9158\n",
      "Epoch 174/200\n",
      "244/244 [==============================] - 5s 21ms/step - loss: 0.2749 - accuracy: 0.9167\n",
      "Epoch 175/200\n",
      "244/244 [==============================] - 5s 22ms/step - loss: 0.2736 - accuracy: 0.9161\n",
      "Epoch 176/200\n",
      "244/244 [==============================] - 6s 23ms/step - loss: 0.2737 - accuracy: 0.9167\n",
      "Epoch 177/200\n",
      "244/244 [==============================] - 6s 23ms/step - loss: 0.2720 - accuracy: 0.9161\n",
      "Epoch 178/200\n",
      "244/244 [==============================] - 6s 26ms/step - loss: 0.2726 - accuracy: 0.9173\n",
      "Epoch 179/200\n",
      "244/244 [==============================] - 6s 26ms/step - loss: 0.2707 - accuracy: 0.9162\n",
      "Epoch 180/200\n",
      "244/244 [==============================] - 7s 27ms/step - loss: 0.2709 - accuracy: 0.9172\n",
      "Epoch 181/200\n",
      "244/244 [==============================] - 7s 28ms/step - loss: 0.2719 - accuracy: 0.9168\n",
      "Epoch 182/200\n",
      "244/244 [==============================] - 7s 27ms/step - loss: 0.2712 - accuracy: 0.9155\n",
      "Epoch 183/200\n",
      "244/244 [==============================] - 6s 26ms/step - loss: 0.2752 - accuracy: 0.9163 0s - loss: 0\n",
      "Epoch 184/200\n",
      "244/244 [==============================] - 6s 23ms/step - loss: 0.3216 - accuracy: 0.9073\n",
      "Epoch 185/200\n",
      "244/244 [==============================] - 5s 21ms/step - loss: 0.2779 - accuracy: 0.9146\n",
      "Epoch 186/200\n",
      "244/244 [==============================] - 5s 21ms/step - loss: 0.2693 - accuracy: 0.9170\n",
      "Epoch 187/200\n",
      "244/244 [==============================] - 5s 21ms/step - loss: 0.2666 - accuracy: 0.9152\n",
      "Epoch 188/200\n",
      "244/244 [==============================] - 5s 21ms/step - loss: 0.2657 - accuracy: 0.9170 0s - loss: 0.2\n",
      "Epoch 189/200\n",
      "244/244 [==============================] - 5s 22ms/step - loss: 0.2650 - accuracy: 0.9162\n",
      "Epoch 190/200\n",
      "244/244 [==============================] - 6s 23ms/step - loss: 0.2660 - accuracy: 0.9158\n",
      "Epoch 191/200\n",
      "244/244 [==============================] - 6s 24ms/step - loss: 0.2643 - accuracy: 0.9163\n",
      "Epoch 192/200\n",
      "244/244 [==============================] - 6s 24ms/step - loss: 0.2657 - accuracy: 0.9149\n",
      "Epoch 193/200\n",
      "244/244 [==============================] - 6s 24ms/step - loss: 0.2648 - accuracy: 0.9170\n",
      "Epoch 194/200\n",
      "244/244 [==============================] - 6s 24ms/step - loss: 0.2648 - accuracy: 0.9158\n",
      "Epoch 195/200\n",
      "244/244 [==============================] - 6s 24ms/step - loss: 0.2641 - accuracy: 0.9171\n",
      "Epoch 196/200\n",
      "244/244 [==============================] - 6s 24ms/step - loss: 0.2644 - accuracy: 0.9168\n",
      "Epoch 197/200\n",
      "244/244 [==============================] - 6s 24ms/step - loss: 0.2641 - accuracy: 0.9159\n",
      "Epoch 198/200\n",
      "244/244 [==============================] - 6s 23ms/step - loss: 0.2639 - accuracy: 0.9159\n",
      "Epoch 199/200\n",
      "244/244 [==============================] - 5s 22ms/step - loss: 0.2763 - accuracy: 0.9140\n",
      "Epoch 200/200\n",
      "244/244 [==============================] - 5s 21ms/step - loss: 0.2971 - accuracy: 0.9105\n"
     ]
    },
    {
     "data": {
      "text/plain": [
       "<tensorflow.python.keras.callbacks.History at 0x203e85136a0>"
      ]
     },
     "execution_count": 22,
     "metadata": {},
     "output_type": "execute_result"
    }
   ],
   "source": [
    "from tensorflow.keras.layers import Embedding, Dense, LSTM\n",
    "from tensorflow.keras.models import Sequential\n",
    "\n",
    "model = Sequential()\n",
    "model.add(Embedding(vocab_size, 10, input_length = max_len-1)) # y데이터를 분리해서 데이터의 길이 -1\n",
    "model.add(LSTM(128))\n",
    "model.add(Dense(vocab_size, activation = 'softmax'))\n",
    "model.compile(loss = 'categorical_crossentropy', optimizer = 'adam', metrics = ['accuracy'])\n",
    "model.fit(X, y, epochs = 200)"
   ]
  },
  {
   "cell_type": "code",
   "execution_count": 28,
   "metadata": {},
   "outputs": [],
   "source": [
    "def sentence_generation(model, t, current_word, n): # 모델, 토크나이저, 현재단어, 반복할 횟수\n",
    "    init_word = current_word # 처음 들어온 단어도 마지막에 같이 출력하기 위해 저장\n",
    "    sentence = ''\n",
    "    \n",
    "    for _ in range(n): # n번 반복\n",
    "        encoded = t.texts_to_sequences([current_word])[0] # 현재 단어에 대한 정수 인코딩\n",
    "        encoded = pad_sequences([encoded], maxlen = 23, padding = 'pre') # 데이터에 대한 패딩\n",
    "        result = model.predict_classes(encoded, verbose = 0)\n",
    "        \n",
    "    # 입력한 X(현재 단어)에 대해서 Y를 예측하고 Y(예측한 단어)를 result에 저장\n",
    "        for word, index in t.word_index.items():\n",
    "            if index == result: # 만약 예측한 단어와 인덱스와 동일한 단어가 있다면\n",
    "                break # 해당 단어가 예측 단어이므로 break\n",
    "        current_word = current_word + ' ' + word # 현재 단어 + ' ' + 예측 단어를 현재 단어로 변경\n",
    "        sentence = sentence + ' ' + word # 예측 단어를 문장에 저장\n",
    "    \n",
    "    # for 문이므로 이 행동을 다시 반복\n",
    "    \n",
    "    sentence = init_word + sentence\n",
    "    return sentence"
   ]
  },
  {
   "cell_type": "code",
   "execution_count": 29,
   "metadata": {},
   "outputs": [
    {
     "name": "stdout",
     "output_type": "stream",
     "text": [
      "i disapprove of school vouchers can i still apply for them\n"
     ]
    }
   ],
   "source": [
    "print(sentence_generation(model, t, 'i', 10))\n",
    "# 임의의 단어 i에 대해서 10개의 단어를 추가 생성"
   ]
  },
  {
   "cell_type": "code",
   "execution_count": 27,
   "metadata": {},
   "outputs": [
    {
     "name": "stdout",
     "output_type": "stream",
     "text": [
      "how to make a crossword puzzle tarot to furor do so\n"
     ]
    }
   ],
   "source": [
    "print(sentence_generation(model, t, 'how', 10))\n",
    "# 임의의 단어 how에 대해서 10개의 단어를 추가 생성"
   ]
  },
  {
   "cell_type": "code",
   "execution_count": null,
   "metadata": {},
   "outputs": [],
   "source": []
  }
 ],
 "metadata": {
  "kernelspec": {
   "display_name": "Python 3",
   "language": "python",
   "name": "python3"
  },
  "language_info": {
   "codemirror_mode": {
    "name": "ipython",
    "version": 3
   },
   "file_extension": ".py",
   "mimetype": "text/x-python",
   "name": "python",
   "nbconvert_exporter": "python",
   "pygments_lexer": "ipython3",
   "version": "3.8.8"
  }
 },
 "nbformat": 4,
 "nbformat_minor": 2
}
