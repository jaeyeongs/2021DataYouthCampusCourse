{
 "cells": [
  {
   "cell_type": "markdown",
   "metadata": {
    "id": "wfpc9QCxI2aX"
   },
   "source": [
    "## 정수인코딩"
   ]
  },
  {
   "cell_type": "markdown",
   "metadata": {
    "id": "7i293i27I2aa"
   },
   "source": [
    "text = \"A barber is a person. a barber is good person. a barber is huge person. he Knew A Secret! The Secret He Kept is huge secret. Huge secret. His barber kept his word. a barber kept his word. His barber kept his secret. But keeping and keeping such a huge secret to himself was driving the barber crazy. the barber went up a huge mountain.\""
   ]
  },
  {
   "cell_type": "code",
   "execution_count": 1,
   "metadata": {
    "executionInfo": {
     "elapsed": 6,
     "status": "ok",
     "timestamp": 1626654141842,
     "user": {
      "displayName": "신재영",
      "photoUrl": "",
      "userId": "12023850488056322139"
     },
     "user_tz": -540
    },
    "id": "HO2s5D_AI7M9"
   },
   "outputs": [],
   "source": [
    "text = \"A barber is a person. a barber is good person. a barber is huge person. he Knew A Secret! The Secret He Kept is huge secret. Huge secret. His barber kept his word. a barber kept his word. His barber kept his secret. But keeping and keeping such a huge secret to himself was driving the barber crazy. the barber went up a huge mountain.\""
   ]
  },
  {
   "cell_type": "code",
   "execution_count": 5,
   "metadata": {
    "colab": {
     "base_uri": "https://localhost:8080/"
    },
    "executionInfo": {
     "elapsed": 331,
     "status": "ok",
     "timestamp": 1626654238938,
     "user": {
      "displayName": "신재영",
      "photoUrl": "",
      "userId": "12023850488056322139"
     },
     "user_tz": -540
    },
    "id": "29OwH8UBI7KI",
    "outputId": "5e0e81cb-7c1c-481d-df40-5c3dc9da1dee"
   },
   "outputs": [
    {
     "name": "stdout",
     "output_type": "stream",
     "text": [
      "['A barber is a person.', 'a barber is good person.', 'a barber is huge person.', 'he Knew A Secret!', 'The Secret He Kept is huge secret.', 'Huge secret.', 'His barber kept his word.', 'a barber kept his word.', 'His barber kept his secret.', 'But keeping and keeping such a huge secret to himself was driving the barber crazy.', 'the barber went up a huge mountain.']\n"
     ]
    }
   ],
   "source": [
    "# 문장 토큰화\n",
    "from nltk.tokenize import sent_tokenize\n",
    "\n",
    "text = sent_tokenize(text)\n",
    "print(text)"
   ]
  },
  {
   "cell_type": "code",
   "execution_count": 12,
   "metadata": {
    "colab": {
     "base_uri": "https://localhost:8080/"
    },
    "executionInfo": {
     "elapsed": 307,
     "status": "ok",
     "timestamp": 1626655534428,
     "user": {
      "displayName": "신재영",
      "photoUrl": "",
      "userId": "12023850488056322139"
     },
     "user_tz": -540
    },
    "id": "MjevzCg2I7Gs",
    "outputId": "95e001db-335b-4a6b-9bc1-935b7cf0e27c"
   },
   "outputs": [
    {
     "name": "stdout",
     "output_type": "stream",
     "text": [
      "[['barber', 'person'], ['barber', 'person'], ['barber', 'person'], ['barber', 'person'], ['barber', 'person'], ['barber', 'person']]\n",
      "[['barber', 'person'], ['barber', 'person'], ['barber', 'person'], ['barber', 'person'], ['barber', 'person'], ['barber', 'person'], ['barber', 'good', 'person'], ['barber', 'good', 'person'], ['barber', 'good', 'person'], ['barber', 'good', 'person'], ['barber', 'good', 'person'], ['barber', 'good', 'person']]\n",
      "[['barber', 'person'], ['barber', 'person'], ['barber', 'person'], ['barber', 'person'], ['barber', 'person'], ['barber', 'person'], ['barber', 'good', 'person'], ['barber', 'good', 'person'], ['barber', 'good', 'person'], ['barber', 'good', 'person'], ['barber', 'good', 'person'], ['barber', 'good', 'person'], ['barber', 'huge', 'person'], ['barber', 'huge', 'person'], ['barber', 'huge', 'person'], ['barber', 'huge', 'person'], ['barber', 'huge', 'person'], ['barber', 'huge', 'person']]\n",
      "[['barber', 'person'], ['barber', 'person'], ['barber', 'person'], ['barber', 'person'], ['barber', 'person'], ['barber', 'person'], ['barber', 'good', 'person'], ['barber', 'good', 'person'], ['barber', 'good', 'person'], ['barber', 'good', 'person'], ['barber', 'good', 'person'], ['barber', 'good', 'person'], ['barber', 'huge', 'person'], ['barber', 'huge', 'person'], ['barber', 'huge', 'person'], ['barber', 'huge', 'person'], ['barber', 'huge', 'person'], ['barber', 'huge', 'person'], ['knew', 'secret'], ['knew', 'secret'], ['knew', 'secret'], ['knew', 'secret'], ['knew', 'secret']]\n",
      "[['barber', 'person'], ['barber', 'person'], ['barber', 'person'], ['barber', 'person'], ['barber', 'person'], ['barber', 'person'], ['barber', 'good', 'person'], ['barber', 'good', 'person'], ['barber', 'good', 'person'], ['barber', 'good', 'person'], ['barber', 'good', 'person'], ['barber', 'good', 'person'], ['barber', 'huge', 'person'], ['barber', 'huge', 'person'], ['barber', 'huge', 'person'], ['barber', 'huge', 'person'], ['barber', 'huge', 'person'], ['barber', 'huge', 'person'], ['knew', 'secret'], ['knew', 'secret'], ['knew', 'secret'], ['knew', 'secret'], ['knew', 'secret'], ['secret', 'kept', 'huge', 'secret'], ['secret', 'kept', 'huge', 'secret'], ['secret', 'kept', 'huge', 'secret'], ['secret', 'kept', 'huge', 'secret'], ['secret', 'kept', 'huge', 'secret'], ['secret', 'kept', 'huge', 'secret'], ['secret', 'kept', 'huge', 'secret'], ['secret', 'kept', 'huge', 'secret']]\n",
      "[['barber', 'person'], ['barber', 'person'], ['barber', 'person'], ['barber', 'person'], ['barber', 'person'], ['barber', 'person'], ['barber', 'good', 'person'], ['barber', 'good', 'person'], ['barber', 'good', 'person'], ['barber', 'good', 'person'], ['barber', 'good', 'person'], ['barber', 'good', 'person'], ['barber', 'huge', 'person'], ['barber', 'huge', 'person'], ['barber', 'huge', 'person'], ['barber', 'huge', 'person'], ['barber', 'huge', 'person'], ['barber', 'huge', 'person'], ['knew', 'secret'], ['knew', 'secret'], ['knew', 'secret'], ['knew', 'secret'], ['knew', 'secret'], ['secret', 'kept', 'huge', 'secret'], ['secret', 'kept', 'huge', 'secret'], ['secret', 'kept', 'huge', 'secret'], ['secret', 'kept', 'huge', 'secret'], ['secret', 'kept', 'huge', 'secret'], ['secret', 'kept', 'huge', 'secret'], ['secret', 'kept', 'huge', 'secret'], ['secret', 'kept', 'huge', 'secret'], ['huge', 'secret'], ['huge', 'secret'], ['huge', 'secret']]\n",
      "[['barber', 'person'], ['barber', 'person'], ['barber', 'person'], ['barber', 'person'], ['barber', 'person'], ['barber', 'person'], ['barber', 'good', 'person'], ['barber', 'good', 'person'], ['barber', 'good', 'person'], ['barber', 'good', 'person'], ['barber', 'good', 'person'], ['barber', 'good', 'person'], ['barber', 'huge', 'person'], ['barber', 'huge', 'person'], ['barber', 'huge', 'person'], ['barber', 'huge', 'person'], ['barber', 'huge', 'person'], ['barber', 'huge', 'person'], ['knew', 'secret'], ['knew', 'secret'], ['knew', 'secret'], ['knew', 'secret'], ['knew', 'secret'], ['secret', 'kept', 'huge', 'secret'], ['secret', 'kept', 'huge', 'secret'], ['secret', 'kept', 'huge', 'secret'], ['secret', 'kept', 'huge', 'secret'], ['secret', 'kept', 'huge', 'secret'], ['secret', 'kept', 'huge', 'secret'], ['secret', 'kept', 'huge', 'secret'], ['secret', 'kept', 'huge', 'secret'], ['huge', 'secret'], ['huge', 'secret'], ['huge', 'secret'], ['barber', 'kept', 'word'], ['barber', 'kept', 'word'], ['barber', 'kept', 'word'], ['barber', 'kept', 'word'], ['barber', 'kept', 'word'], ['barber', 'kept', 'word']]\n",
      "[['barber', 'person'], ['barber', 'person'], ['barber', 'person'], ['barber', 'person'], ['barber', 'person'], ['barber', 'person'], ['barber', 'good', 'person'], ['barber', 'good', 'person'], ['barber', 'good', 'person'], ['barber', 'good', 'person'], ['barber', 'good', 'person'], ['barber', 'good', 'person'], ['barber', 'huge', 'person'], ['barber', 'huge', 'person'], ['barber', 'huge', 'person'], ['barber', 'huge', 'person'], ['barber', 'huge', 'person'], ['barber', 'huge', 'person'], ['knew', 'secret'], ['knew', 'secret'], ['knew', 'secret'], ['knew', 'secret'], ['knew', 'secret'], ['secret', 'kept', 'huge', 'secret'], ['secret', 'kept', 'huge', 'secret'], ['secret', 'kept', 'huge', 'secret'], ['secret', 'kept', 'huge', 'secret'], ['secret', 'kept', 'huge', 'secret'], ['secret', 'kept', 'huge', 'secret'], ['secret', 'kept', 'huge', 'secret'], ['secret', 'kept', 'huge', 'secret'], ['huge', 'secret'], ['huge', 'secret'], ['huge', 'secret'], ['barber', 'kept', 'word'], ['barber', 'kept', 'word'], ['barber', 'kept', 'word'], ['barber', 'kept', 'word'], ['barber', 'kept', 'word'], ['barber', 'kept', 'word'], ['barber', 'kept', 'word'], ['barber', 'kept', 'word'], ['barber', 'kept', 'word'], ['barber', 'kept', 'word'], ['barber', 'kept', 'word'], ['barber', 'kept', 'word']]\n",
      "[['barber', 'person'], ['barber', 'person'], ['barber', 'person'], ['barber', 'person'], ['barber', 'person'], ['barber', 'person'], ['barber', 'good', 'person'], ['barber', 'good', 'person'], ['barber', 'good', 'person'], ['barber', 'good', 'person'], ['barber', 'good', 'person'], ['barber', 'good', 'person'], ['barber', 'huge', 'person'], ['barber', 'huge', 'person'], ['barber', 'huge', 'person'], ['barber', 'huge', 'person'], ['barber', 'huge', 'person'], ['barber', 'huge', 'person'], ['knew', 'secret'], ['knew', 'secret'], ['knew', 'secret'], ['knew', 'secret'], ['knew', 'secret'], ['secret', 'kept', 'huge', 'secret'], ['secret', 'kept', 'huge', 'secret'], ['secret', 'kept', 'huge', 'secret'], ['secret', 'kept', 'huge', 'secret'], ['secret', 'kept', 'huge', 'secret'], ['secret', 'kept', 'huge', 'secret'], ['secret', 'kept', 'huge', 'secret'], ['secret', 'kept', 'huge', 'secret'], ['huge', 'secret'], ['huge', 'secret'], ['huge', 'secret'], ['barber', 'kept', 'word'], ['barber', 'kept', 'word'], ['barber', 'kept', 'word'], ['barber', 'kept', 'word'], ['barber', 'kept', 'word'], ['barber', 'kept', 'word'], ['barber', 'kept', 'word'], ['barber', 'kept', 'word'], ['barber', 'kept', 'word'], ['barber', 'kept', 'word'], ['barber', 'kept', 'word'], ['barber', 'kept', 'word'], ['barber', 'kept', 'secret'], ['barber', 'kept', 'secret'], ['barber', 'kept', 'secret'], ['barber', 'kept', 'secret'], ['barber', 'kept', 'secret'], ['barber', 'kept', 'secret']]\n",
      "[['barber', 'person'], ['barber', 'person'], ['barber', 'person'], ['barber', 'person'], ['barber', 'person'], ['barber', 'person'], ['barber', 'good', 'person'], ['barber', 'good', 'person'], ['barber', 'good', 'person'], ['barber', 'good', 'person'], ['barber', 'good', 'person'], ['barber', 'good', 'person'], ['barber', 'huge', 'person'], ['barber', 'huge', 'person'], ['barber', 'huge', 'person'], ['barber', 'huge', 'person'], ['barber', 'huge', 'person'], ['barber', 'huge', 'person'], ['knew', 'secret'], ['knew', 'secret'], ['knew', 'secret'], ['knew', 'secret'], ['knew', 'secret'], ['secret', 'kept', 'huge', 'secret'], ['secret', 'kept', 'huge', 'secret'], ['secret', 'kept', 'huge', 'secret'], ['secret', 'kept', 'huge', 'secret'], ['secret', 'kept', 'huge', 'secret'], ['secret', 'kept', 'huge', 'secret'], ['secret', 'kept', 'huge', 'secret'], ['secret', 'kept', 'huge', 'secret'], ['huge', 'secret'], ['huge', 'secret'], ['huge', 'secret'], ['barber', 'kept', 'word'], ['barber', 'kept', 'word'], ['barber', 'kept', 'word'], ['barber', 'kept', 'word'], ['barber', 'kept', 'word'], ['barber', 'kept', 'word'], ['barber', 'kept', 'word'], ['barber', 'kept', 'word'], ['barber', 'kept', 'word'], ['barber', 'kept', 'word'], ['barber', 'kept', 'word'], ['barber', 'kept', 'word'], ['barber', 'kept', 'secret'], ['barber', 'kept', 'secret'], ['barber', 'kept', 'secret'], ['barber', 'kept', 'secret'], ['barber', 'kept', 'secret'], ['barber', 'kept', 'secret'], ['keeping', 'keeping', 'huge', 'secret', 'driving', 'barber', 'crazy'], ['keeping', 'keeping', 'huge', 'secret', 'driving', 'barber', 'crazy'], ['keeping', 'keeping', 'huge', 'secret', 'driving', 'barber', 'crazy'], ['keeping', 'keeping', 'huge', 'secret', 'driving', 'barber', 'crazy'], ['keeping', 'keeping', 'huge', 'secret', 'driving', 'barber', 'crazy'], ['keeping', 'keeping', 'huge', 'secret', 'driving', 'barber', 'crazy'], ['keeping', 'keeping', 'huge', 'secret', 'driving', 'barber', 'crazy'], ['keeping', 'keeping', 'huge', 'secret', 'driving', 'barber', 'crazy'], ['keeping', 'keeping', 'huge', 'secret', 'driving', 'barber', 'crazy'], ['keeping', 'keeping', 'huge', 'secret', 'driving', 'barber', 'crazy'], ['keeping', 'keeping', 'huge', 'secret', 'driving', 'barber', 'crazy'], ['keeping', 'keeping', 'huge', 'secret', 'driving', 'barber', 'crazy'], ['keeping', 'keeping', 'huge', 'secret', 'driving', 'barber', 'crazy'], ['keeping', 'keeping', 'huge', 'secret', 'driving', 'barber', 'crazy'], ['keeping', 'keeping', 'huge', 'secret', 'driving', 'barber', 'crazy'], ['keeping', 'keeping', 'huge', 'secret', 'driving', 'barber', 'crazy']]\n",
      "[['barber', 'person'], ['barber', 'person'], ['barber', 'person'], ['barber', 'person'], ['barber', 'person'], ['barber', 'person'], ['barber', 'good', 'person'], ['barber', 'good', 'person'], ['barber', 'good', 'person'], ['barber', 'good', 'person'], ['barber', 'good', 'person'], ['barber', 'good', 'person'], ['barber', 'huge', 'person'], ['barber', 'huge', 'person'], ['barber', 'huge', 'person'], ['barber', 'huge', 'person'], ['barber', 'huge', 'person'], ['barber', 'huge', 'person'], ['knew', 'secret'], ['knew', 'secret'], ['knew', 'secret'], ['knew', 'secret'], ['knew', 'secret'], ['secret', 'kept', 'huge', 'secret'], ['secret', 'kept', 'huge', 'secret'], ['secret', 'kept', 'huge', 'secret'], ['secret', 'kept', 'huge', 'secret'], ['secret', 'kept', 'huge', 'secret'], ['secret', 'kept', 'huge', 'secret'], ['secret', 'kept', 'huge', 'secret'], ['secret', 'kept', 'huge', 'secret'], ['huge', 'secret'], ['huge', 'secret'], ['huge', 'secret'], ['barber', 'kept', 'word'], ['barber', 'kept', 'word'], ['barber', 'kept', 'word'], ['barber', 'kept', 'word'], ['barber', 'kept', 'word'], ['barber', 'kept', 'word'], ['barber', 'kept', 'word'], ['barber', 'kept', 'word'], ['barber', 'kept', 'word'], ['barber', 'kept', 'word'], ['barber', 'kept', 'word'], ['barber', 'kept', 'word'], ['barber', 'kept', 'secret'], ['barber', 'kept', 'secret'], ['barber', 'kept', 'secret'], ['barber', 'kept', 'secret'], ['barber', 'kept', 'secret'], ['barber', 'kept', 'secret'], ['keeping', 'keeping', 'huge', 'secret', 'driving', 'barber', 'crazy'], ['keeping', 'keeping', 'huge', 'secret', 'driving', 'barber', 'crazy'], ['keeping', 'keeping', 'huge', 'secret', 'driving', 'barber', 'crazy'], ['keeping', 'keeping', 'huge', 'secret', 'driving', 'barber', 'crazy'], ['keeping', 'keeping', 'huge', 'secret', 'driving', 'barber', 'crazy'], ['keeping', 'keeping', 'huge', 'secret', 'driving', 'barber', 'crazy'], ['keeping', 'keeping', 'huge', 'secret', 'driving', 'barber', 'crazy'], ['keeping', 'keeping', 'huge', 'secret', 'driving', 'barber', 'crazy'], ['keeping', 'keeping', 'huge', 'secret', 'driving', 'barber', 'crazy'], ['keeping', 'keeping', 'huge', 'secret', 'driving', 'barber', 'crazy'], ['keeping', 'keeping', 'huge', 'secret', 'driving', 'barber', 'crazy'], ['keeping', 'keeping', 'huge', 'secret', 'driving', 'barber', 'crazy'], ['keeping', 'keeping', 'huge', 'secret', 'driving', 'barber', 'crazy'], ['keeping', 'keeping', 'huge', 'secret', 'driving', 'barber', 'crazy'], ['keeping', 'keeping', 'huge', 'secret', 'driving', 'barber', 'crazy'], ['keeping', 'keeping', 'huge', 'secret', 'driving', 'barber', 'crazy'], ['barber', 'went', 'huge', 'mountain'], ['barber', 'went', 'huge', 'mountain'], ['barber', 'went', 'huge', 'mountain'], ['barber', 'went', 'huge', 'mountain'], ['barber', 'went', 'huge', 'mountain'], ['barber', 'went', 'huge', 'mountain'], ['barber', 'went', 'huge', 'mountain'], ['barber', 'went', 'huge', 'mountain']]\n"
     ]
    }
   ],
   "source": [
    "from nltk.tokenize import word_tokenize\n",
    "from nltk.corpus import stopwords\n",
    "from collections import Counter\n",
    "\n",
    "vocab = Counter() # 단어의 빈도 계산\n",
    "\n",
    "sentences = []\n",
    "stop_words = set(stopwords.words('english'))\n",
    "\n",
    "for i in text:\n",
    "  sentence = word_tokenize(i) #단어 토큰화를 수행\n",
    "  result = []\n",
    "\n",
    "  for word in sentence:\n",
    "    word = word.lower() # 모든 단어를 소문자화하여 단어의 개수를 줄인다\n",
    "    if word not in stop_words: # 단어 토큰화 된 결과에 대해서 불용어를 제거\n",
    "      if len(word) > 2: # 단어 길이가 2이하인 경우에 대하여 추가로 단어를 제거\n",
    "        result.append(word)\n",
    "        vocab[word] = vocab[word] +1 #각 단어의 빈도를 count\n",
    "    sentences.append(result)\n",
    "  print(sentences)"
   ]
  },
  {
   "cell_type": "code",
   "execution_count": 13,
   "metadata": {
    "colab": {
     "base_uri": "https://localhost:8080/"
    },
    "executionInfo": {
     "elapsed": 297,
     "status": "ok",
     "timestamp": 1626655594253,
     "user": {
      "displayName": "신재영",
      "photoUrl": "",
      "userId": "12023850488056322139"
     },
     "user_tz": -540
    },
    "id": "cTaI5uuYI7Ab",
    "outputId": "84ae09bc-6271-487a-e39d-9209b797a53f"
   },
   "outputs": [
    {
     "name": "stdout",
     "output_type": "stream",
     "text": [
      "Counter({'barber': 8, 'secret': 6, 'huge': 5, 'kept': 4, 'person': 3, 'word': 2, 'keeping': 2, 'good': 1, 'knew': 1, 'driving': 1, 'crazy': 1, 'went': 1, 'mountain': 1})\n"
     ]
    }
   ],
   "source": [
    "print(vocab)"
   ]
  },
  {
   "cell_type": "code",
   "execution_count": 15,
   "metadata": {
    "colab": {
     "base_uri": "https://localhost:8080/"
    },
    "executionInfo": {
     "elapsed": 333,
     "status": "ok",
     "timestamp": 1626655660603,
     "user": {
      "displayName": "신재영",
      "photoUrl": "",
      "userId": "12023850488056322139"
     },
     "user_tz": -540
    },
    "id": "WtLSD92LI60a",
    "outputId": "63d8af8b-3b15-48bb-804f-0da516a5877f"
   },
   "outputs": [
    {
     "name": "stdout",
     "output_type": "stream",
     "text": [
      "[('barber', 8), ('secret', 6), ('huge', 5), ('kept', 4), ('person', 3), ('word', 2), ('keeping', 2), ('good', 1), ('knew', 1), ('driving', 1), ('crazy', 1), ('went', 1), ('mountain', 1)]\n"
     ]
    }
   ],
   "source": [
    "vocab_sorted = sorted(vocab.items(), key = lambda x:x[1], reverse=True)\n",
    "print(vocab_sorted)"
   ]
  },
  {
   "cell_type": "code",
   "execution_count": 16,
   "metadata": {
    "colab": {
     "base_uri": "https://localhost:8080/"
    },
    "executionInfo": {
     "elapsed": 278,
     "status": "ok",
     "timestamp": 1626655803416,
     "user": {
      "displayName": "신재영",
      "photoUrl": "",
      "userId": "12023850488056322139"
     },
     "user_tz": -540
    },
    "id": "vwBMGQLiI2ac",
    "outputId": "1e7c6102-7e92-4244-b4c2-7a0082ab1f7a"
   },
   "outputs": [
    {
     "name": "stdout",
     "output_type": "stream",
     "text": [
      "{'barber': 1, 'secret': 2, 'huge': 3, 'kept': 4, 'person': 5, 'word': 6, 'keeping': 7}\n"
     ]
    }
   ],
   "source": [
    "word_to_index = {}\n",
    "i = 0\n",
    "for (word, frequency) in vocab_sorted :\n",
    "  if frequency > 1 : # 빈도수가 적은 단어는 제외한다.\n",
    "    i = i + 1\n",
    "    word_to_index[word] = i\n",
    "print(word_to_index)"
   ]
  },
  {
   "cell_type": "markdown",
   "metadata": {
    "id": "2Uy6IPsPI2ad"
   },
   "source": [
    "## one-hot encoding"
   ]
  },
  {
   "cell_type": "markdown",
   "metadata": {
    "id": "u6B0VaSRI2ad"
   },
   "source": [
    "example = \"이 여름 다시 한번 설레고 싶다 그때 그 여름을 틀어줘 그 여름을 들려줘 이 여름도 언젠가는 그해 여름 오늘이 가장 젊은 내 여름\""
   ]
  },
  {
   "cell_type": "code",
   "execution_count": 17,
   "metadata": {
    "executionInfo": {
     "elapsed": 328,
     "status": "ok",
     "timestamp": 1626656161578,
     "user": {
      "displayName": "신재영",
      "photoUrl": "",
      "userId": "12023850488056322139"
     },
     "user_tz": -540
    },
    "id": "mEQMKujnI78n"
   },
   "outputs": [],
   "source": [
    "example = \"이 여름 다시 한번 설레고 싶다 그때 그 여름을 틀어줘 그 여름을 들려줘 이 여름도 언젠가는 그해 여름 오늘이 가장 젊은 내 여름\""
   ]
  },
  {
   "cell_type": "code",
   "execution_count": 23,
   "metadata": {
    "colab": {
     "base_uri": "https://localhost:8080/"
    },
    "executionInfo": {
     "elapsed": 308,
     "status": "ok",
     "timestamp": 1626656326305,
     "user": {
      "displayName": "신재영",
      "photoUrl": "",
      "userId": "12023850488056322139"
     },
     "user_tz": -540
    },
    "id": "1nNvFRw4I76y",
    "outputId": "560a179c-4315-4f8b-c6a4-de5c23029ff3"
   },
   "outputs": [
    {
     "name": "stdout",
     "output_type": "stream",
     "text": [
      "['이', '여름', '다시', '한번', '설레고', '싶다', '그때', '그', '여름', '을', '틀어줘', '그', '여름', '을', '들려줘', '이', '여름', '도', '언젠가', '는', '그해', '여름', '오늘이', '가장', '젊은', '내', '여름']\n"
     ]
    }
   ],
   "source": [
    "from konlpy.tag import Okt # 토큰화\n",
    "okt = Okt()\n",
    "\n",
    "token = okt.morphs(example)\n",
    "print(token)"
   ]
  },
  {
   "cell_type": "code",
   "execution_count": 32,
   "metadata": {
    "colab": {
     "base_uri": "https://localhost:8080/"
    },
    "executionInfo": {
     "elapsed": 288,
     "status": "ok",
     "timestamp": 1626657289348,
     "user": {
      "displayName": "신재영",
      "photoUrl": "",
      "userId": "12023850488056322139"
     },
     "user_tz": -540
    },
    "id": "Vqth1wkfI74a",
    "outputId": "a22a69b0-36f5-419b-f4e2-549d3641a403"
   },
   "outputs": [
    {
     "name": "stdout",
     "output_type": "stream",
     "text": [
      "{'이': 0, '여름': 1, '다시': 2, '한번': 3, '설레고': 4, '싶다': 5, '그때': 6, '그': 7, '을': 8, '틀어줘': 9, '들려줘': 10, '도': 11, '언젠가': 12, '는': 13, '그해': 14, '오늘이': 15, '가장': 16, '젊은': 17, '내': 18}\n"
     ]
    }
   ],
   "source": [
    "word_to_index = {}\n",
    "\n",
    "for voca in token :\n",
    "  if voca not in word_to_index.keys():\n",
    "    word_to_index[voca] = len(word_to_index)\n",
    "\n",
    "print(word_to_index)"
   ]
  },
  {
   "cell_type": "code",
   "execution_count": 26,
   "metadata": {
    "executionInfo": {
     "elapsed": 334,
     "status": "ok",
     "timestamp": 1626656611113,
     "user": {
      "displayName": "신재영",
      "photoUrl": "",
      "userId": "12023850488056322139"
     },
     "user_tz": -540
    },
    "id": "63CIwuxWI712"
   },
   "outputs": [],
   "source": [
    "def one_hot_encoding(word, word_to_index):\n",
    "  one_hot_vector = [0] * (len(word_to_index))\n",
    "  index = word_to_index[word]\n",
    "  one_hot_vector[index] = 1\n",
    "  return one_hot_vector"
   ]
  },
  {
   "cell_type": "code",
   "execution_count": 27,
   "metadata": {
    "colab": {
     "base_uri": "https://localhost:8080/"
    },
    "executionInfo": {
     "elapsed": 309,
     "status": "ok",
     "timestamp": 1626656633610,
     "user": {
      "displayName": "신재영",
      "photoUrl": "",
      "userId": "12023850488056322139"
     },
     "user_tz": -540
    },
    "id": "M6oUOrPDI2ae",
    "outputId": "972c3ab9-e106-4883-df69-983a447e842a"
   },
   "outputs": [
    {
     "data": {
      "text/plain": [
       "[0, 1, 0, 0, 0, 0, 0, 0, 0, 0, 0, 0, 0, 0, 0, 0, 0, 0, 0]"
      ]
     },
     "execution_count": 27,
     "metadata": {
      "tags": []
     },
     "output_type": "execute_result"
    }
   ],
   "source": [
    "one_hot_encoding(\"여름\", word_to_index)"
   ]
  },
  {
   "cell_type": "markdown",
   "metadata": {
    "id": "L0NDqc1EI2af"
   },
   "source": [
    "### < 과제 >\n",
    "- 1글자 단어 제외하고 one hot 벡터 만들기"
   ]
  },
  {
   "cell_type": "code",
   "execution_count": 37,
   "metadata": {
    "colab": {
     "base_uri": "https://localhost:8080/"
    },
    "executionInfo": {
     "elapsed": 281,
     "status": "ok",
     "timestamp": 1626657633949,
     "user": {
      "displayName": "신재영",
      "photoUrl": "",
      "userId": "12023850488056322139"
     },
     "user_tz": -540
    },
    "id": "kYBjgU9bI2ag",
    "outputId": "693c15e8-9fb7-40a4-ebf0-0dec118e4be9"
   },
   "outputs": [
    {
     "name": "stdout",
     "output_type": "stream",
     "text": [
      "{'이': 0, '여름': 1, '다시': 2, '한번': 3, '설레고': 4, '싶다': 5, '그때': 6, '그': 7, '을': 8, '틀어줘': 9, '들려줘': 10, '도': 11, '언젠가': 12, '는': 13, '그해': 14, '오늘이': 15, '가장': 16, '젊은': 17, '내': 18}\n"
     ]
    }
   ],
   "source": [
    "word_to_index = {}\n",
    "\n",
    "for voca in token :\n",
    "  if voca not in word_to_index.keys():\n",
    "    word_to_index[voca] = len(word_to_index)\n",
    "    \n",
    "print(word_to_index)"
   ]
  },
  {
   "cell_type": "code",
   "execution_count": null,
   "metadata": {
    "id": "CvJvHvWFI2ag"
   },
   "outputs": [],
   "source": [
    "def one_hot_encoding(word, word_to_index):\n",
    "  one_hot_vector = [0] * (len(word_to_index))\n",
    "  index = word_to_index[word]\n",
    "  one_hot_vector[index] = 1\n",
    "  return one_hot_vector"
   ]
  },
  {
   "cell_type": "markdown",
   "metadata": {
    "id": "CIs5rd8gI2ah"
   },
   "source": [
    "### BoW"
   ]
  },
  {
   "cell_type": "markdown",
   "metadata": {
    "id": "T9oPGHnaI2ah"
   },
   "source": [
    "text = \"\"\"이 여름 다시 한번 설레고 싶다. 그때 그 여름을 틀어줘. 그 여름을 들려줘. 이 여름도 언젠가는 그해 여름 오늘이 가장 젊은 내 여름.\"\"\""
   ]
  },
  {
   "cell_type": "code",
   "execution_count": 38,
   "metadata": {
    "executionInfo": {
     "elapsed": 331,
     "status": "ok",
     "timestamp": 1626657948309,
     "user": {
      "displayName": "신재영",
      "photoUrl": "",
      "userId": "12023850488056322139"
     },
     "user_tz": -540
    },
    "id": "_HyggKEPXVM0"
   },
   "outputs": [],
   "source": [
    "text = \"\"\"이 여름 다시 한번 설레고 싶다. 그때 그 여름을 틀어줘. 그 여름을 들려줘. 이 여름도 언젠가는 그해 여름 오늘이 가장 젊은 내 여름.\"\"\""
   ]
  },
  {
   "cell_type": "code",
   "execution_count": 39,
   "metadata": {
    "executionInfo": {
     "elapsed": 326,
     "status": "ok",
     "timestamp": 1626658130949,
     "user": {
      "displayName": "신재영",
      "photoUrl": "",
      "userId": "12023850488056322139"
     },
     "user_tz": -540
    },
    "id": "G7ag2B9gI89D"
   },
   "outputs": [],
   "source": [
    "from konlpy.tag import Okt\n",
    "import re\n",
    "\n",
    "okt = Okt()"
   ]
  },
  {
   "cell_type": "code",
   "execution_count": 41,
   "metadata": {
    "colab": {
     "base_uri": "https://localhost:8080/"
    },
    "executionInfo": {
     "elapsed": 304,
     "status": "ok",
     "timestamp": 1626658181493,
     "user": {
      "displayName": "신재영",
      "photoUrl": "",
      "userId": "12023850488056322139"
     },
     "user_tz": -540
    },
    "id": "Y_LygcJTI87F",
    "outputId": "cad7437b-ddfe-41ba-f560-6f3d8992086d"
   },
   "outputs": [
    {
     "name": "stdout",
     "output_type": "stream",
     "text": [
      "이 여름 다시 한번 설레고 싶다 그때 그 여름을 틀어줘 그 여름을 들려줘 이 여름도 언젠가는 그해 여름 오늘이 가장 젊은 내 여름\n"
     ]
    }
   ],
   "source": [
    "# 정규 표현식을 통해 온점을 제거\n",
    "token = re.sub(\"(\\.)\", \"\", text)\n",
    "print(token)"
   ]
  },
  {
   "cell_type": "code",
   "execution_count": 42,
   "metadata": {
    "colab": {
     "base_uri": "https://localhost:8080/"
    },
    "executionInfo": {
     "elapsed": 315,
     "status": "ok",
     "timestamp": 1626658226811,
     "user": {
      "displayName": "신재영",
      "photoUrl": "",
      "userId": "12023850488056322139"
     },
     "user_tz": -540
    },
    "id": "4VDiKd37I84o",
    "outputId": "8e532d11-3d28-46f7-c6ba-bdd4bac95b1d"
   },
   "outputs": [
    {
     "name": "stdout",
     "output_type": "stream",
     "text": [
      "['이', '여름', '다시', '한번', '설레고', '싶다', '그때', '그', '여름', '을', '틀어줘', '그', '여름', '을', '들려줘', '이', '여름', '도', '언젠가', '는', '그해', '여름', '오늘이', '가장', '젊은', '내', '여름']\n"
     ]
    }
   ],
   "source": [
    "# 토큰화 작업\n",
    "token = okt.morphs(token)\n",
    "print(token)"
   ]
  },
  {
   "cell_type": "code",
   "execution_count": 45,
   "metadata": {
    "colab": {
     "base_uri": "https://localhost:8080/"
    },
    "executionInfo": {
     "elapsed": 290,
     "status": "ok",
     "timestamp": 1626658503991,
     "user": {
      "displayName": "신재영",
      "photoUrl": "",
      "userId": "12023850488056322139"
     },
     "user_tz": -540
    },
    "id": "HCCheubpI81A",
    "outputId": "c56d63c7-a937-4720-f7e1-272863279135"
   },
   "outputs": [
    {
     "name": "stdout",
     "output_type": "stream",
     "text": [
      "{'이': 0, '여름': 1, '다시': 2, '한번': 3, '설레고': 4, '싶다': 5, '그때': 6, '그': 7, '을': 8, '틀어줘': 9, '들려줘': 10, '도': 11, '언젠가': 12, '는': 13, '그해': 14, '오늘이': 15, '가장': 16, '젊은': 17, '내': 18}\n"
     ]
    }
   ],
   "source": [
    "word2index = {}\n",
    "bow = []\n",
    "\n",
    "for voca in token:\n",
    "  if voca not in word2index.keys():\n",
    "    word2index[voca] = len(word2index)\n",
    "      # token을 읽으면서, word2index에 없는(not, in) 단어는 새로 추가하고, 이미 없는 단어는 넘김\n",
    "    bow.insert(len(word2index)-1,1)  # BoW 전체에 전부 기본값 1 지정\n",
    "\n",
    "  else:\n",
    "    index = word2index.get(voca) # 재등장하는 단어의 인덱스\n",
    "    bow[index] = bow[index] + 1 # 재등장하는 단어의 해당 인덱스에 1을 더함\n",
    "\n",
    "print(word2index)"
   ]
  },
  {
   "cell_type": "code",
   "execution_count": 46,
   "metadata": {
    "colab": {
     "base_uri": "https://localhost:8080/"
    },
    "executionInfo": {
     "elapsed": 317,
     "status": "ok",
     "timestamp": 1626658574069,
     "user": {
      "displayName": "신재영",
      "photoUrl": "",
      "userId": "12023850488056322139"
     },
     "user_tz": -540
    },
    "id": "4AB9wzFZI2ah",
    "outputId": "11025b5d-3bec-491f-c22f-c48e7102f000"
   },
   "outputs": [
    {
     "data": {
      "text/plain": [
       "[2, 6, 1, 1, 1, 1, 1, 2, 2, 1, 1, 1, 1, 1, 1, 1, 1, 1, 1]"
      ]
     },
     "execution_count": 46,
     "metadata": {
      "tags": []
     },
     "output_type": "execute_result"
    }
   ],
   "source": [
    "bow"
   ]
  },
  {
   "cell_type": "code",
   "execution_count": null,
   "metadata": {
    "id": "Q0j5bN4xI2ai"
   },
   "outputs": [],
   "source": []
  },
  {
   "cell_type": "code",
   "execution_count": 47,
   "metadata": {
    "colab": {
     "base_uri": "https://localhost:8080/"
    },
    "executionInfo": {
     "elapsed": 314,
     "status": "ok",
     "timestamp": 1626658768856,
     "user": {
      "displayName": "신재영",
      "photoUrl": "",
      "userId": "12023850488056322139"
     },
     "user_tz": -540
    },
    "id": "neLY8x2_I2ai",
    "outputId": "83c997cc-a27b-4586-fd46-dcca86cc1ecf"
   },
   "outputs": [
    {
     "name": "stdout",
     "output_type": "stream",
     "text": [
      "[[1 1 2 1 2 1]]\n",
      "{'you': 4, 'know': 1, 'want': 3, 'your': 5, 'love': 2, 'because': 0}\n"
     ]
    }
   ],
   "source": [
    "from sklearn.feature_extraction.text import CountVectorizer\n",
    "\n",
    "corpus = ['you know I want your love. because I love you.']\n",
    "vector = CountVectorizer()\n",
    "\n",
    "print(vector.fit_transform(corpus).toarray()) # 코퍼스로부터 각 단어의 빈도 수 기록\n",
    "print(vector.vocabulary_) # 각 단어의 인덱스 확인"
   ]
  },
  {
   "cell_type": "code",
   "execution_count": 49,
   "metadata": {
    "colab": {
     "base_uri": "https://localhost:8080/"
    },
    "executionInfo": {
     "elapsed": 293,
     "status": "ok",
     "timestamp": 1626658880569,
     "user": {
      "displayName": "신재영",
      "photoUrl": "",
      "userId": "12023850488056322139"
     },
     "user_tz": -540
    },
    "id": "EoCHAsQpI2ai",
    "outputId": "d2538ff7-bb9c-4bf9-ffc2-90a1b5940f5e"
   },
   "outputs": [
    {
     "name": "stdout",
     "output_type": "stream",
     "text": [
      "  (0, 4)\t2\n",
      "  (0, 1)\t1\n",
      "  (0, 3)\t1\n",
      "  (0, 5)\t1\n",
      "  (0, 2)\t2\n",
      "  (0, 0)\t1\n"
     ]
    }
   ],
   "source": [
    "print(vector.fit_transform(corpus))"
   ]
  },
  {
   "cell_type": "code",
   "execution_count": 51,
   "metadata": {
    "colab": {
     "base_uri": "https://localhost:8080/"
    },
    "executionInfo": {
     "elapsed": 318,
     "status": "ok",
     "timestamp": 1626659014973,
     "user": {
      "displayName": "신재영",
      "photoUrl": "",
      "userId": "12023850488056322139"
     },
     "user_tz": -540
    },
    "id": "Qdq3JxT9bI5Y",
    "outputId": "60e2f7b6-2ab8-41f2-ecab-b2294e05af02"
   },
   "outputs": [
    {
     "name": "stdout",
     "output_type": "stream",
     "text": [
      "[[1 1 2 1]]\n",
      "{'know': 1, 'want': 3, 'love': 2, 'because': 0}\n"
     ]
    }
   ],
   "source": [
    "from sklearn.feature_extraction.text import CountVectorizer\n",
    "\n",
    "text = ['you know I want your love. because I love you.']\n",
    "vec = CountVectorizer(stop_words=[\"you\", \"your\"])\n",
    "\n",
    "print(vec.fit_transform(text).toarray()) \n",
    "print(vec.vocabulary_)"
   ]
  },
  {
   "cell_type": "code",
   "execution_count": 53,
   "metadata": {
    "colab": {
     "base_uri": "https://localhost:8080/"
    },
    "executionInfo": {
     "elapsed": 285,
     "status": "ok",
     "timestamp": 1626659099186,
     "user": {
      "displayName": "신재영",
      "photoUrl": "",
      "userId": "12023850488056322139"
     },
     "user_tz": -540
    },
    "id": "Uh9-C1hpbqCm",
    "outputId": "7cc78656-bca4-4d49-b8c4-ad368f3d5ea3"
   },
   "outputs": [
    {
     "name": "stdout",
     "output_type": "stream",
     "text": [
      "[[1 2 1]]\n",
      "{'know': 0, 'want': 2, 'love': 1}\n"
     ]
    }
   ],
   "source": [
    "from sklearn.feature_extraction.text import CountVectorizer\n",
    "from nltk.corpus import stopwords\n",
    "\n",
    "sw = stopwords.words(\"english\")\n",
    "\n",
    "text = ['you know I want your love. because I love you.']\n",
    "vect = CountVectorizer(stop_words = sw)\n",
    "\n",
    "print(vect.fit_transform(text).toarray()) \n",
    "print(vect.vocabulary_)"
   ]
  }
 ],
 "metadata": {
  "colab": {
   "collapsed_sections": [],
   "name": "int, onehot, bow.ipynb",
   "provenance": []
  },
  "kernelspec": {
   "display_name": "Python 3",
   "language": "python",
   "name": "python3"
  },
  "language_info": {
   "codemirror_mode": {
    "name": "ipython",
    "version": 3
   },
   "file_extension": ".py",
   "mimetype": "text/x-python",
   "name": "python",
   "nbconvert_exporter": "python",
   "pygments_lexer": "ipython3",
   "version": "3.8.8"
  }
 },
 "nbformat": 4,
 "nbformat_minor": 1
}
