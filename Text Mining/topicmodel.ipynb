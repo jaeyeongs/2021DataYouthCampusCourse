{
 "cells": [
  {
   "cell_type": "markdown",
   "metadata": {
    "id": "JCHaO68Jp_LI"
   },
   "source": [
    "### 구매 후기를 이용한 토픽모델링"
   ]
  },
  {
   "cell_type": "markdown",
   "metadata": {
    "id": "7-o1z1mHqPxm"
   },
   "source": [
    "- 데이터 : https://drive.google.com/file/d/1eeTHELYDR0UW9CK7yODGhcUGylTfpLv4/view?usp=sharing"
   ]
  },
  {
   "cell_type": "code",
   "execution_count": 2,
   "metadata": {
    "colab": {
     "base_uri": "https://localhost:8080/",
     "height": 414
    },
    "executionInfo": {
     "elapsed": 2655,
     "status": "ok",
     "timestamp": 1626755829667,
     "user": {
      "displayName": "신재영",
      "photoUrl": "",
      "userId": "12023850488056322139"
     },
     "user_tz": -540
    },
    "id": "EbmR66RTFzTP",
    "outputId": "52a7dc13-f885-4b40-e00b-7c6e231e4457"
   },
   "outputs": [
    {
     "data": {
      "text/html": [
       "<div>\n",
       "<style scoped>\n",
       "    .dataframe tbody tr th:only-of-type {\n",
       "        vertical-align: middle;\n",
       "    }\n",
       "\n",
       "    .dataframe tbody tr th {\n",
       "        vertical-align: top;\n",
       "    }\n",
       "\n",
       "    .dataframe thead th {\n",
       "        text-align: right;\n",
       "    }\n",
       "</style>\n",
       "<table border=\"1\" class=\"dataframe\">\n",
       "  <thead>\n",
       "    <tr style=\"text-align: right;\">\n",
       "      <th></th>\n",
       "      <th>0</th>\n",
       "    </tr>\n",
       "  </thead>\n",
       "  <tbody>\n",
       "    <tr>\n",
       "      <th>0</th>\n",
       "      <td>일반 약국에서 사는것보다 저렴해서 좋아요~매일 먹는 약이니 신중하게 선택해야겠죠~부...</td>\n",
       "    </tr>\n",
       "    <tr>\n",
       "      <th>1</th>\n",
       "      <td>배송빠르고 물건 정확하게 잘왔어요</td>\n",
       "    </tr>\n",
       "    <tr>\n",
       "      <th>2</th>\n",
       "      <td>2번째구매했는데 매우 만족합니다.</td>\n",
       "    </tr>\n",
       "    <tr>\n",
       "      <th>3</th>\n",
       "      <td>싸기도하고 좋고 늘사먹습??ㄱㆍ</td>\n",
       "    </tr>\n",
       "    <tr>\n",
       "      <th>4</th>\n",
       "      <td>적극추천합니다.배송도빨라요.</td>\n",
       "    </tr>\n",
       "    <tr>\n",
       "      <th>...</th>\n",
       "      <td>...</td>\n",
       "    </tr>\n",
       "    <tr>\n",
       "      <th>95</th>\n",
       "      <td>잘 받았어요</td>\n",
       "    </tr>\n",
       "    <tr>\n",
       "      <th>96</th>\n",
       "      <td>좋아요 ㄹㄹ</td>\n",
       "    </tr>\n",
       "    <tr>\n",
       "      <th>97</th>\n",
       "      <td>감사합니다.</td>\n",
       "    </tr>\n",
       "    <tr>\n",
       "      <th>98</th>\n",
       "      <td>만족합니다~</td>\n",
       "    </tr>\n",
       "    <tr>\n",
       "      <th>99</th>\n",
       "      <td>제품 조아요</td>\n",
       "    </tr>\n",
       "  </tbody>\n",
       "</table>\n",
       "<p>100 rows × 1 columns</p>\n",
       "</div>"
      ],
      "text/plain": [
       "                                                    0\n",
       "0   일반 약국에서 사는것보다 저렴해서 좋아요~매일 먹는 약이니 신중하게 선택해야겠죠~부...\n",
       "1                                  배송빠르고 물건 정확하게 잘왔어요\n",
       "2                                  2번째구매했는데 매우 만족합니다.\n",
       "3                                   싸기도하고 좋고 늘사먹습??ㄱㆍ\n",
       "4                                     적극추천합니다.배송도빨라요.\n",
       "..                                                ...\n",
       "95                                             잘 받았어요\n",
       "96                                             좋아요 ㄹㄹ\n",
       "97                                             감사합니다.\n",
       "98                                             만족합니다~\n",
       "99                                             제품 조아요\n",
       "\n",
       "[100 rows x 1 columns]"
      ]
     },
     "execution_count": 2,
     "metadata": {
      "tags": []
     },
     "output_type": "execute_result"
    }
   ],
   "source": [
    "import pandas as pd\n",
    "\n",
    "review = pd.read_csv('centrum_review.txt', header = None)\n",
    "review"
   ]
  },
  {
   "cell_type": "code",
   "execution_count": 4,
   "metadata": {
    "executionInfo": {
     "elapsed": 2187,
     "status": "ok",
     "timestamp": 1626755882682,
     "user": {
      "displayName": "신재영",
      "photoUrl": "",
      "userId": "12023850488056322139"
     },
     "user_tz": -540
    },
    "id": "7xve2LojNEIA"
   },
   "outputs": [],
   "source": [
    "from konlpy.tag import Okt\n",
    "okt = Okt()"
   ]
  },
  {
   "cell_type": "code",
   "execution_count": 5,
   "metadata": {
    "executionInfo": {
     "elapsed": 7914,
     "status": "ok",
     "timestamp": 1626755914474,
     "user": {
      "displayName": "신재영",
      "photoUrl": "",
      "userId": "12023850488056322139"
     },
     "user_tz": -540
    },
    "id": "k6LAr4Z3NEGV"
   },
   "outputs": [],
   "source": [
    "# 명사만 추출\n",
    "docs = []\n",
    "\n",
    "for i in review[0]:  # review 데이터 0 : 컬럼명\n",
    "  docs.append(okt.nouns(i))"
   ]
  },
  {
   "cell_type": "code",
   "execution_count": 6,
   "metadata": {
    "colab": {
     "base_uri": "https://localhost:8080/"
    },
    "executionInfo": {
     "elapsed": 334,
     "status": "ok",
     "timestamp": 1626755917698,
     "user": {
      "displayName": "신재영",
      "photoUrl": "",
      "userId": "12023850488056322139"
     },
     "user_tz": -540
    },
    "id": "n3nZ7bLRNEEU",
    "outputId": "0fe2062e-f6c5-48cb-d514-1c29b7e5c8bc"
   },
   "outputs": [
    {
     "data": {
      "text/plain": [
       "[['일반', '약국', '매일', '약', '선택', '부부', '매일', '기운'],\n",
       " ['배송', '물건'],\n",
       " ['번', '구매', '매우'],\n",
       " ['기도', '늘', '습'],\n",
       " ['적극', '추천', '배송'],\n",
       " [],\n",
       " ['부모님', '선물', '온라인', '최저', '가로', '사서'],\n",
       " ['배송', '요즘', '책', '비타민', '생각', '기분', '탓', '덜', '다음', '이용'],\n",
       " ['정말', '저', '보오', '구매', '평', '워낙', '증명', '제약회사', '제품'],\n",
       " ['플라스틱', '포장', '살짝', '과대', '포장', '상품', '자체', '투명', '플라스틱', '포장'],\n",
       " ['부모님', '사', '얼마', '효과', '또'],\n",
       " ['건강', '위해', '구매', '센트', '룸', '포맨', '군대', '아들', '해', '가격'],\n",
       " [],\n",
       " ['며칠', '복용', '아침', '좀', '덜'],\n",
       " ['배송', '영양소', '다른', '비타민'],\n",
       " ['상품'],\n",
       " ['두번째', '구매', '양도', '배송'],\n",
       " ['배송'],\n",
       " ['침'],\n",
       " ['아주'],\n",
       " [],\n",
       " ['잘바아를러', '이'],\n",
       " [],\n",
       " ['항상'],\n",
       " ['배송', '감사'],\n",
       " ['매우'],\n",
       " [],\n",
       " [],\n",
       " [],\n",
       " [],\n",
       " [],\n",
       " [],\n",
       " ['배송'],\n",
       " ['아주'],\n",
       " [],\n",
       " ['구매', '호호', '호', '후후후', '히히히', '헤헤', '헤흐흐흐햐햐햐헤', '허후', '호'],\n",
       " ['비타민', '아연', '하루', '섭취', '기준', '영양소', '소변', '배출', '요', '노란색', '용'],\n",
       " [],\n",
       " ['비타민', '또', '학창시절', '봘', '홓', '화이팅'],\n",
       " ['배송'],\n",
       " ['구매', '맨'],\n",
       " ['배송', '남편', '햏', '효과', '좀더'],\n",
       " ['그'],\n",
       " ['남편', '매일', '민', '양도', '또', '배송', '좀', '느렷어'],\n",
       " ['항상', '포장'],\n",
       " ['센트룸', '하니'],\n",
       " ['용량', '가격', '비타민', '추천'],\n",
       " ['비타민', '처음', '추천'],\n",
       " ['보지'],\n",
       " ['아주', '다음', '꼭', '이', '적극', '추천', '사업', '번창', '다음', '멀티', '비타민'],\n",
       " ['배송', '포장'],\n",
       " ['배송'],\n",
       " ['주문', '한지'],\n",
       " ['어제', '먹기', '시작', '나중', '다시', '주문', '때', '이용', '수고'],\n",
       " ['배송', '빨'],\n",
       " ['번창'],\n",
       " ['배송'],\n",
       " ['배송', '감사'],\n",
       " ['자'],\n",
       " ['짐', '구라'],\n",
       " [],\n",
       " ['항상', '제품'],\n",
       " ['아빠', '일단', '배송', '빨', '용', '뾱뾱이없', '비닐', '포장', '달랑', '조금', '당황', '염'],\n",
       " [],\n",
       " ['가격', '대비'],\n",
       " ['몸'],\n",
       " [],\n",
       " ['복용'],\n",
       " ['평소', '센트룸', '달', '가격', '구매', '종종'],\n",
       " ['신', '것'],\n",
       " ['고등학생', '아들', '아빠', '칼슘', '성분', '좀', '칼슘', '일', '활', '기분', '탓'],\n",
       " [],\n",
       " ['배송'],\n",
       " ['배송'],\n",
       " ['도착'],\n",
       " ['보고', '또'],\n",
       " ['신랑'],\n",
       " ['배송'],\n",
       " ['배송'],\n",
       " ['적극', '추천'],\n",
       " ['숩니'],\n",
       " [],\n",
       " ['여여퍄패패커'],\n",
       " [],\n",
       " ['두번째', '구매'],\n",
       " ['은', '효과', '점점', '컨디션', '거'],\n",
       " [],\n",
       " ['배송'],\n",
       " [],\n",
       " ['선물'],\n",
       " ['만족'],\n",
       " ['노어', '챂'],\n",
       " [],\n",
       " [],\n",
       " [],\n",
       " [],\n",
       " [],\n",
       " [],\n",
       " [],\n",
       " ['제품']]"
      ]
     },
     "execution_count": 6,
     "metadata": {
      "tags": []
     },
     "output_type": "execute_result"
    }
   ],
   "source": [
    "docs"
   ]
  },
  {
   "cell_type": "code",
   "execution_count": 7,
   "metadata": {
    "colab": {
     "base_uri": "https://localhost:8080/"
    },
    "executionInfo": {
     "elapsed": 331,
     "status": "ok",
     "timestamp": 1626755989277,
     "user": {
      "displayName": "신재영",
      "photoUrl": "",
      "userId": "12023850488056322139"
     },
     "user_tz": -540
    },
    "id": "D-u-YW83NECR",
    "outputId": "47bd3a78-7e24-405f-e0d3-a344431b946f"
   },
   "outputs": [
    {
     "data": {
      "text/plain": [
       "0    너무좋습니다\n",
       "Name: 5, dtype: object"
      ]
     },
     "execution_count": 7,
     "metadata": {
      "tags": []
     },
     "output_type": "execute_result"
    }
   ],
   "source": [
    "review.loc[5]"
   ]
  },
  {
   "cell_type": "code",
   "execution_count": 8,
   "metadata": {
    "executionInfo": {
     "elapsed": 328,
     "status": "ok",
     "timestamp": 1626756047144,
     "user": {
      "displayName": "신재영",
      "photoUrl": "",
      "userId": "12023850488056322139"
     },
     "user_tz": -540
    },
    "id": "IH55DSxBNEAP"
   },
   "outputs": [],
   "source": [
    "def get_nouns(text):\n",
    "  nouns = okt.nouns(text)\n",
    "  nouns = [word for word in nouns if len(word) > 1]\n",
    "  return nouns"
   ]
  },
  {
   "cell_type": "code",
   "execution_count": 9,
   "metadata": {
    "executionInfo": {
     "elapsed": 821,
     "status": "ok",
     "timestamp": 1626756112922,
     "user": {
      "displayName": "신재영",
      "photoUrl": "",
      "userId": "12023850488056322139"
     },
     "user_tz": -540
    },
    "id": "jxvvUB5VN10r"
   },
   "outputs": [],
   "source": [
    "from sklearn.feature_extraction.text import CountVectorizer\n",
    "\n",
    "cv = CountVectorizer(tokenizer = get_nouns)\n",
    "\n",
    "tdm = cv.fit_transform(review[0])"
   ]
  },
  {
   "cell_type": "code",
   "execution_count": 10,
   "metadata": {
    "colab": {
     "base_uri": "https://localhost:8080/"
    },
    "executionInfo": {
     "elapsed": 328,
     "status": "ok",
     "timestamp": 1626756122614,
     "user": {
      "displayName": "신재영",
      "photoUrl": "",
      "userId": "12023850488056322139"
     },
     "user_tz": -540
    },
    "id": "iS6XOYO0OFz6",
    "outputId": "36e2be72-87b6-462a-9a43-eaaf12997ea9"
   },
   "outputs": [
    {
     "data": {
      "text/plain": [
       "['가격', '가로', '감사', '건강', '고등학생', '과대', '구라', '구매', '군대', '기도']"
      ]
     },
     "execution_count": 10,
     "metadata": {
      "tags": []
     },
     "output_type": "execute_result"
    }
   ],
   "source": [
    "cv.get_feature_names()[:10]"
   ]
  },
  {
   "cell_type": "code",
   "execution_count": 11,
   "metadata": {
    "colab": {
     "base_uri": "https://localhost:8080/"
    },
    "executionInfo": {
     "elapsed": 329,
     "status": "ok",
     "timestamp": 1626756130989,
     "user": {
      "displayName": "신재영",
      "photoUrl": "",
      "userId": "12023850488056322139"
     },
     "user_tz": -540
    },
    "id": "2Nlr4xVmOITG",
    "outputId": "a6b065f5-4199-4186-cc9d-eae3bc2d85ec"
   },
   "outputs": [
    {
     "data": {
      "text/plain": [
       "{'가격': 0,\n",
       " '가로': 1,\n",
       " '감사': 2,\n",
       " '건강': 3,\n",
       " '고등학생': 4,\n",
       " '과대': 5,\n",
       " '구라': 6,\n",
       " '구매': 7,\n",
       " '군대': 8,\n",
       " '기도': 9,\n",
       " '기분': 10,\n",
       " '기운': 11,\n",
       " '기준': 12,\n",
       " '나중': 13,\n",
       " '남편': 14,\n",
       " '노란색': 15,\n",
       " '노어': 16,\n",
       " '느렷어': 17,\n",
       " '다른': 18,\n",
       " '다시': 19,\n",
       " '다음': 20,\n",
       " '달랑': 21,\n",
       " '당황': 22,\n",
       " '대비': 23,\n",
       " '도착': 24,\n",
       " '두번째': 25,\n",
       " '만족': 26,\n",
       " '매우': 27,\n",
       " '매일': 28,\n",
       " '먹기': 29,\n",
       " '멀티': 30,\n",
       " '며칠': 31,\n",
       " '물건': 32,\n",
       " '배송': 33,\n",
       " '배출': 34,\n",
       " '번창': 35,\n",
       " '보고': 36,\n",
       " '보오': 37,\n",
       " '보지': 38,\n",
       " '복용': 39,\n",
       " '부모님': 40,\n",
       " '부부': 41,\n",
       " '비닐': 42,\n",
       " '비타민': 43,\n",
       " '뾱뾱이없': 44,\n",
       " '사서': 45,\n",
       " '사업': 46,\n",
       " '살짝': 47,\n",
       " '상품': 48,\n",
       " '생각': 49,\n",
       " '선물': 50,\n",
       " '선택': 51,\n",
       " '섭취': 52,\n",
       " '성분': 53,\n",
       " '센트': 54,\n",
       " '센트룸': 55,\n",
       " '소변': 56,\n",
       " '수고': 57,\n",
       " '숩니': 58,\n",
       " '시작': 59,\n",
       " '신랑': 60,\n",
       " '아들': 61,\n",
       " '아빠': 62,\n",
       " '아연': 63,\n",
       " '아주': 64,\n",
       " '아침': 65,\n",
       " '약국': 66,\n",
       " '양도': 67,\n",
       " '어제': 68,\n",
       " '얼마': 69,\n",
       " '여여퍄패패커': 70,\n",
       " '영양소': 71,\n",
       " '온라인': 72,\n",
       " '요즘': 73,\n",
       " '용량': 74,\n",
       " '워낙': 75,\n",
       " '위해': 76,\n",
       " '이용': 77,\n",
       " '일단': 78,\n",
       " '일반': 79,\n",
       " '자체': 80,\n",
       " '잘바아를러': 81,\n",
       " '적극': 82,\n",
       " '점점': 83,\n",
       " '정말': 84,\n",
       " '제약회사': 85,\n",
       " '제품': 86,\n",
       " '조금': 87,\n",
       " '좀더': 88,\n",
       " '종종': 89,\n",
       " '주문': 90,\n",
       " '증명': 91,\n",
       " '처음': 92,\n",
       " '최저': 93,\n",
       " '추천': 94,\n",
       " '칼슘': 95,\n",
       " '컨디션': 96,\n",
       " '투명': 97,\n",
       " '평소': 98,\n",
       " '포맨': 99,\n",
       " '포장': 100,\n",
       " '플라스틱': 101,\n",
       " '하니': 102,\n",
       " '하루': 103,\n",
       " '학창시절': 104,\n",
       " '한지': 105,\n",
       " '항상': 106,\n",
       " '허후': 107,\n",
       " '헤헤': 108,\n",
       " '헤흐흐흐햐햐햐헤': 109,\n",
       " '호호': 110,\n",
       " '화이팅': 111,\n",
       " '효과': 112,\n",
       " '후후후': 113,\n",
       " '히히히': 114}"
      ]
     },
     "execution_count": 11,
     "metadata": {
      "tags": []
     },
     "output_type": "execute_result"
    }
   ],
   "source": [
    "cv.vocabulary_"
   ]
  },
  {
   "cell_type": "code",
   "execution_count": 12,
   "metadata": {
    "colab": {
     "base_uri": "https://localhost:8080/"
    },
    "executionInfo": {
     "elapsed": 3,
     "status": "ok",
     "timestamp": 1626756195330,
     "user": {
      "displayName": "신재영",
      "photoUrl": "",
      "userId": "12023850488056322139"
     },
     "user_tz": -540
    },
    "id": "eGHjsnzWOKWC",
    "outputId": "6501e392-78ed-4f52-8c66-bce44800a869"
   },
   "outputs": [
    {
     "data": {
      "text/plain": [
       "array([[0, 0, 0, 0, 0, 0, 0, 0, 0, 0, 0, 1, 0, 0, 0, 0, 0, 0, 0, 0, 0, 0,\n",
       "        0, 0, 0, 0, 0, 0, 2, 0, 0, 0, 0, 0, 0, 0, 0, 0, 0, 0, 0, 1, 0, 0,\n",
       "        0, 0, 0, 0, 0, 0, 0, 1, 0, 0, 0, 0, 0, 0, 0, 0, 0, 0, 0, 0, 0, 0,\n",
       "        1, 0, 0, 0, 0, 0, 0, 0, 0, 0, 0, 0, 0, 1, 0, 0, 0, 0, 0, 0, 0, 0,\n",
       "        0, 0, 0, 0, 0, 0, 0, 0, 0, 0, 0, 0, 0, 0, 0, 0, 0, 0, 0, 0, 0, 0,\n",
       "        0, 0, 0, 0, 0]])"
      ]
     },
     "execution_count": 12,
     "metadata": {
      "tags": []
     },
     "output_type": "execute_result"
    }
   ],
   "source": [
    "doc = tdm[0].toarray()\n",
    "doc"
   ]
  },
  {
   "cell_type": "code",
   "execution_count": 13,
   "metadata": {
    "colab": {
     "base_uri": "https://localhost:8080/"
    },
    "executionInfo": {
     "elapsed": 324,
     "status": "ok",
     "timestamp": 1626756219760,
     "user": {
      "displayName": "신재영",
      "photoUrl": "",
      "userId": "12023850488056322139"
     },
     "user_tz": -540
    },
    "id": "oFf8MxodOVEr",
    "outputId": "3d20496d-29e8-4019-fd6e-7cb783c76181"
   },
   "outputs": [
    {
     "data": {
      "text/plain": [
       "matrix([[ 4,  1,  2,  1,  1,  1,  1,  8,  1,  1,  2,  1,  1,  1,  2,  1,\n",
       "          1,  1,  1,  1,  3,  1,  1,  1,  1,  2,  1,  2,  3,  1,  1,  1,\n",
       "          1, 22,  1,  2,  1,  1,  1,  2,  2,  1,  1,  7,  1,  1,  1,  1,\n",
       "          2,  1,  2,  1,  1,  1,  1,  2,  1,  1,  1,  1,  1,  2,  2,  1,\n",
       "          3,  1,  1,  2,  1,  1,  1,  2,  1,  1,  1,  1,  1,  2,  1,  1,\n",
       "          1,  1,  3,  1,  1,  1,  3,  1,  1,  1,  2,  1,  1,  1,  5,  2,\n",
       "          1,  1,  1,  1,  6,  2,  1,  1,  1,  1,  3,  1,  1,  1,  1,  1,\n",
       "          3,  1,  1]], dtype=int64)"
      ]
     },
     "execution_count": 13,
     "metadata": {
      "tags": []
     },
     "output_type": "execute_result"
    }
   ],
   "source": [
    "count = tdm.sum(axis = 0) # 단어별 빈도\n",
    "count"
   ]
  },
  {
   "cell_type": "code",
   "execution_count": 14,
   "metadata": {
    "colab": {
     "base_uri": "https://localhost:8080/",
     "height": 202
    },
    "executionInfo": {
     "elapsed": 302,
     "status": "ok",
     "timestamp": 1626756305579,
     "user": {
      "displayName": "신재영",
      "photoUrl": "",
      "userId": "12023850488056322139"
     },
     "user_tz": -540
    },
    "id": "pPH0N5-wOVC1",
    "outputId": "423f9b60-af7d-4f44-e916-f6cb6b688480"
   },
   "outputs": [
    {
     "data": {
      "text/html": [
       "<div>\n",
       "<style scoped>\n",
       "    .dataframe tbody tr th:only-of-type {\n",
       "        vertical-align: middle;\n",
       "    }\n",
       "\n",
       "    .dataframe tbody tr th {\n",
       "        vertical-align: top;\n",
       "    }\n",
       "\n",
       "    .dataframe thead th {\n",
       "        text-align: right;\n",
       "    }\n",
       "</style>\n",
       "<table border=\"1\" class=\"dataframe\">\n",
       "  <thead>\n",
       "    <tr style=\"text-align: right;\">\n",
       "      <th></th>\n",
       "      <th>단어</th>\n",
       "      <th>빈도</th>\n",
       "    </tr>\n",
       "  </thead>\n",
       "  <tbody>\n",
       "    <tr>\n",
       "      <th>0</th>\n",
       "      <td>가격</td>\n",
       "      <td>4</td>\n",
       "    </tr>\n",
       "    <tr>\n",
       "      <th>1</th>\n",
       "      <td>가로</td>\n",
       "      <td>1</td>\n",
       "    </tr>\n",
       "    <tr>\n",
       "      <th>2</th>\n",
       "      <td>감사</td>\n",
       "      <td>2</td>\n",
       "    </tr>\n",
       "    <tr>\n",
       "      <th>3</th>\n",
       "      <td>건강</td>\n",
       "      <td>1</td>\n",
       "    </tr>\n",
       "    <tr>\n",
       "      <th>4</th>\n",
       "      <td>고등학생</td>\n",
       "      <td>1</td>\n",
       "    </tr>\n",
       "  </tbody>\n",
       "</table>\n",
       "</div>"
      ],
      "text/plain": [
       "     단어  빈도\n",
       "0    가격   4\n",
       "1    가로   1\n",
       "2    감사   2\n",
       "3    건강   1\n",
       "4  고등학생   1"
      ]
     },
     "execution_count": 14,
     "metadata": {
      "tags": []
     },
     "output_type": "execute_result"
    }
   ],
   "source": [
    "word_count = pd.DataFrame({\"단어\": cv.get_feature_names(),\n",
    "                           \"빈도\": count.flat})\n",
    "word_count.head()"
   ]
  },
  {
   "cell_type": "code",
   "execution_count": 16,
   "metadata": {
    "colab": {
     "base_uri": "https://localhost:8080/",
     "height": 414
    },
    "executionInfo": {
     "elapsed": 330,
     "status": "ok",
     "timestamp": 1626756355567,
     "user": {
      "displayName": "신재영",
      "photoUrl": "",
      "userId": "12023850488056322139"
     },
     "user_tz": -540
    },
    "id": "6gWW8EvPOVA0",
    "outputId": "8c274013-1b44-4b02-db17-76783d4cb052"
   },
   "outputs": [
    {
     "data": {
      "text/html": [
       "<div>\n",
       "<style scoped>\n",
       "    .dataframe tbody tr th:only-of-type {\n",
       "        vertical-align: middle;\n",
       "    }\n",
       "\n",
       "    .dataframe tbody tr th {\n",
       "        vertical-align: top;\n",
       "    }\n",
       "\n",
       "    .dataframe thead th {\n",
       "        text-align: right;\n",
       "    }\n",
       "</style>\n",
       "<table border=\"1\" class=\"dataframe\">\n",
       "  <thead>\n",
       "    <tr style=\"text-align: right;\">\n",
       "      <th></th>\n",
       "      <th>단어</th>\n",
       "      <th>빈도</th>\n",
       "    </tr>\n",
       "  </thead>\n",
       "  <tbody>\n",
       "    <tr>\n",
       "      <th>33</th>\n",
       "      <td>배송</td>\n",
       "      <td>22</td>\n",
       "    </tr>\n",
       "    <tr>\n",
       "      <th>7</th>\n",
       "      <td>구매</td>\n",
       "      <td>8</td>\n",
       "    </tr>\n",
       "    <tr>\n",
       "      <th>43</th>\n",
       "      <td>비타민</td>\n",
       "      <td>7</td>\n",
       "    </tr>\n",
       "    <tr>\n",
       "      <th>100</th>\n",
       "      <td>포장</td>\n",
       "      <td>6</td>\n",
       "    </tr>\n",
       "    <tr>\n",
       "      <th>94</th>\n",
       "      <td>추천</td>\n",
       "      <td>5</td>\n",
       "    </tr>\n",
       "    <tr>\n",
       "      <th>...</th>\n",
       "      <td>...</td>\n",
       "      <td>...</td>\n",
       "    </tr>\n",
       "    <tr>\n",
       "      <th>41</th>\n",
       "      <td>부부</td>\n",
       "      <td>1</td>\n",
       "    </tr>\n",
       "    <tr>\n",
       "      <th>38</th>\n",
       "      <td>보지</td>\n",
       "      <td>1</td>\n",
       "    </tr>\n",
       "    <tr>\n",
       "      <th>37</th>\n",
       "      <td>보오</td>\n",
       "      <td>1</td>\n",
       "    </tr>\n",
       "    <tr>\n",
       "      <th>36</th>\n",
       "      <td>보고</td>\n",
       "      <td>1</td>\n",
       "    </tr>\n",
       "    <tr>\n",
       "      <th>114</th>\n",
       "      <td>히히히</td>\n",
       "      <td>1</td>\n",
       "    </tr>\n",
       "  </tbody>\n",
       "</table>\n",
       "<p>115 rows × 2 columns</p>\n",
       "</div>"
      ],
      "text/plain": [
       "      단어  빈도\n",
       "33    배송  22\n",
       "7     구매   8\n",
       "43   비타민   7\n",
       "100   포장   6\n",
       "94    추천   5\n",
       "..   ...  ..\n",
       "41    부부   1\n",
       "38    보지   1\n",
       "37    보오   1\n",
       "36    보고   1\n",
       "114  히히히   1\n",
       "\n",
       "[115 rows x 2 columns]"
      ]
     },
     "execution_count": 16,
     "metadata": {
      "tags": []
     },
     "output_type": "execute_result"
    }
   ],
   "source": [
    "word_count.sort_values(by = \"빈도\", ascending = False)"
   ]
  },
  {
   "cell_type": "code",
   "execution_count": 26,
   "metadata": {
    "colab": {
     "base_uri": "https://localhost:8080/",
     "height": 386
    },
    "executionInfo": {
     "elapsed": 362,
     "status": "error",
     "timestamp": 1626757334864,
     "user": {
      "displayName": "신재영",
      "photoUrl": "",
      "userId": "12023850488056322139"
     },
     "user_tz": -540
    },
    "id": "vz03eHNgOU-a",
    "outputId": "8858f27c-6eb2-46ad-fb29-926ab57bfd91"
   },
   "outputs": [
    {
     "ename": "FileNotFoundError",
     "evalue": "ignored",
     "output_type": "error",
     "traceback": [
      "\u001b[0;31m---------------------------------------------------------------------------\u001b[0m",
      "\u001b[0;31mFileNotFoundError\u001b[0m                         Traceback (most recent call last)",
      "\u001b[0;32m<ipython-input-26-dce87d157377>\u001b[0m in \u001b[0;36m<module>\u001b[0;34m()\u001b[0m\n\u001b[1;32m      5\u001b[0m \u001b[0;32mimport\u001b[0m \u001b[0mplatform\u001b[0m \u001b[0;31m# 폰트가 깨지지 않도록 설정\u001b[0m\u001b[0;34m\u001b[0m\u001b[0;34m\u001b[0m\u001b[0m\n\u001b[1;32m      6\u001b[0m \u001b[0;32mfrom\u001b[0m \u001b[0mmatplotlib\u001b[0m \u001b[0;32mimport\u001b[0m \u001b[0mfont_manager\u001b[0m\u001b[0;34m,\u001b[0m \u001b[0mrc\u001b[0m\u001b[0;34m\u001b[0m\u001b[0;34m\u001b[0m\u001b[0m\n\u001b[0;32m----> 7\u001b[0;31m \u001b[0mfont_name\u001b[0m \u001b[0;34m=\u001b[0m \u001b[0mfont_manager\u001b[0m\u001b[0;34m.\u001b[0m\u001b[0mFontProperties\u001b[0m\u001b[0;34m(\u001b[0m\u001b[0mfname\u001b[0m\u001b[0;34m=\u001b[0m\u001b[0mfont_path\u001b[0m\u001b[0;34m)\u001b[0m\u001b[0;34m.\u001b[0m\u001b[0mget_name\u001b[0m\u001b[0;34m(\u001b[0m\u001b[0;34m)\u001b[0m\u001b[0;34m\u001b[0m\u001b[0;34m\u001b[0m\u001b[0m\n\u001b[0m\u001b[1;32m      8\u001b[0m \u001b[0mrc\u001b[0m\u001b[0;34m(\u001b[0m\u001b[0;34m'font'\u001b[0m\u001b[0;34m,\u001b[0m \u001b[0mfamily\u001b[0m \u001b[0;34m=\u001b[0m \u001b[0mfont_name\u001b[0m\u001b[0;34m)\u001b[0m\u001b[0;34m\u001b[0m\u001b[0;34m\u001b[0m\u001b[0m\n\u001b[1;32m      9\u001b[0m \u001b[0;34m\u001b[0m\u001b[0m\n",
      "\u001b[0;32m/usr/local/lib/python3.7/dist-packages/matplotlib/font_manager.py\u001b[0m in \u001b[0;36mget_name\u001b[0;34m(self)\u001b[0m\n\u001b[1;32m    687\u001b[0m         \u001b[0mReturn\u001b[0m \u001b[0mthe\u001b[0m \u001b[0mname\u001b[0m \u001b[0mof\u001b[0m \u001b[0mthe\u001b[0m \u001b[0mfont\u001b[0m \u001b[0mthat\u001b[0m \u001b[0mbest\u001b[0m \u001b[0mmatches\u001b[0m \u001b[0mthe\u001b[0m \u001b[0mfont\u001b[0m \u001b[0mproperties\u001b[0m\u001b[0;34m.\u001b[0m\u001b[0;34m\u001b[0m\u001b[0;34m\u001b[0m\u001b[0m\n\u001b[1;32m    688\u001b[0m         \"\"\"\n\u001b[0;32m--> 689\u001b[0;31m         \u001b[0;32mreturn\u001b[0m \u001b[0mget_font\u001b[0m\u001b[0;34m(\u001b[0m\u001b[0mfindfont\u001b[0m\u001b[0;34m(\u001b[0m\u001b[0mself\u001b[0m\u001b[0;34m)\u001b[0m\u001b[0;34m)\u001b[0m\u001b[0;34m.\u001b[0m\u001b[0mfamily_name\u001b[0m\u001b[0;34m\u001b[0m\u001b[0;34m\u001b[0m\u001b[0m\n\u001b[0m\u001b[1;32m    690\u001b[0m \u001b[0;34m\u001b[0m\u001b[0m\n\u001b[1;32m    691\u001b[0m     \u001b[0;32mdef\u001b[0m \u001b[0mget_style\u001b[0m\u001b[0;34m(\u001b[0m\u001b[0mself\u001b[0m\u001b[0;34m)\u001b[0m\u001b[0;34m:\u001b[0m\u001b[0;34m\u001b[0m\u001b[0;34m\u001b[0m\u001b[0m\n",
      "\u001b[0;32m/usr/local/lib/python3.7/dist-packages/matplotlib/font_manager.py\u001b[0m in \u001b[0;36mget_font\u001b[0;34m(filename, hinting_factor)\u001b[0m\n\u001b[1;32m   1327\u001b[0m         \u001b[0mhinting_factor\u001b[0m \u001b[0;34m=\u001b[0m \u001b[0mrcParams\u001b[0m\u001b[0;34m[\u001b[0m\u001b[0;34m'text.hinting_factor'\u001b[0m\u001b[0;34m]\u001b[0m\u001b[0;34m\u001b[0m\u001b[0;34m\u001b[0m\u001b[0m\n\u001b[1;32m   1328\u001b[0m     return _get_font(os.fspath(filename), hinting_factor,\n\u001b[0;32m-> 1329\u001b[0;31m                      _kerning_factor=rcParams['text.kerning_factor'])\n\u001b[0m\u001b[1;32m   1330\u001b[0m \u001b[0;34m\u001b[0m\u001b[0m\n\u001b[1;32m   1331\u001b[0m \u001b[0;34m\u001b[0m\u001b[0m\n",
      "\u001b[0;31mFileNotFoundError\u001b[0m: [Errno 2] No such file or directory: '/usr/share/fonts/truetype/nanum/NanumBarunGothic.ttf'"
     ]
    }
   ],
   "source": [
    "import matplotlib.pyplot as plt\n",
    "\n",
    "font_path = '/usr/share/fonts/truetype/nanum/NanumBarunGothic.ttf'  # colab에서 실행할 경우 폰트 경로\n",
    "\n",
    "import platform # 폰트가 깨지지 않도록 설정\n",
    "from matplotlib import font_manager, rc\n",
    "font_name = font_manager.FontProperties(fname=font_path).get_name()\n",
    "rc('font', family = font_name)\n",
    "\n",
    "word_count_index = word_count.copy()\n",
    "word_count_index.index = word_count_index[\"단어\"]\n",
    "word_count_index.sort_values(by = \"빈도\", ascending = False)[:10].plot.bar()\n",
    "plt.show()"
   ]
  },
  {
   "cell_type": "code",
   "execution_count": 18,
   "metadata": {
    "colab": {
     "base_uri": "https://localhost:8080/"
    },
    "executionInfo": {
     "elapsed": 16,
     "status": "ok",
     "timestamp": 1626756620639,
     "user": {
      "displayName": "신재영",
      "photoUrl": "",
      "userId": "12023850488056322139"
     },
     "user_tz": -540
    },
    "id": "5Q5e5uwCPgny",
    "outputId": "d54ca113-c4ed-468b-d7fd-d873f5901de4"
   },
   "outputs": [
    {
     "data": {
      "text/plain": [
       "['일반 약국 매일 약 선택 부부 매일 기운',\n",
       " '배송 물건',\n",
       " '번 구매 매우',\n",
       " '기도 늘 습',\n",
       " '적극 추천 배송',\n",
       " '',\n",
       " '부모님 선물 온라인 최저 가로 사서',\n",
       " '배송 요즘 책 비타민 생각 기분 탓 덜 다음 이용',\n",
       " '정말 저 보오 구매 평 워낙 증명 제약회사 제품',\n",
       " '플라스틱 포장 살짝 과대 포장 상품 자체 투명 플라스틱 포장',\n",
       " '부모님 사 얼마 효과 또',\n",
       " '건강 위해 구매 센트 룸 포맨 군대 아들 해 가격',\n",
       " '',\n",
       " '며칠 복용 아침 좀 덜',\n",
       " '배송 영양소 다른 비타민',\n",
       " '상품',\n",
       " '두번째 구매 양도 배송',\n",
       " '배송',\n",
       " '침',\n",
       " '아주',\n",
       " '',\n",
       " '잘바아를러 이',\n",
       " '',\n",
       " '항상',\n",
       " '배송 감사',\n",
       " '매우',\n",
       " '',\n",
       " '',\n",
       " '',\n",
       " '',\n",
       " '',\n",
       " '',\n",
       " '배송',\n",
       " '아주',\n",
       " '',\n",
       " '구매 호호 호 후후후 히히히 헤헤 헤흐흐흐햐햐햐헤 허후 호',\n",
       " '비타민 아연 하루 섭취 기준 영양소 소변 배출 요 노란색 용',\n",
       " '',\n",
       " '비타민 또 학창시절 봘 홓 화이팅',\n",
       " '배송',\n",
       " '구매 맨',\n",
       " '배송 남편 햏 효과 좀더',\n",
       " '그',\n",
       " '남편 매일 민 양도 또 배송 좀 느렷어',\n",
       " '항상 포장',\n",
       " '센트룸 하니',\n",
       " '용량 가격 비타민 추천',\n",
       " '비타민 처음 추천',\n",
       " '보지',\n",
       " '아주 다음 꼭 이 적극 추천 사업 번창 다음 멀티 비타민',\n",
       " '배송 포장',\n",
       " '배송',\n",
       " '주문 한지',\n",
       " '어제 먹기 시작 나중 다시 주문 때 이용 수고',\n",
       " '배송 빨',\n",
       " '번창',\n",
       " '배송',\n",
       " '배송 감사',\n",
       " '자',\n",
       " '짐 구라',\n",
       " '',\n",
       " '항상 제품',\n",
       " '아빠 일단 배송 빨 용 뾱뾱이없 비닐 포장 달랑 조금 당황 염',\n",
       " '',\n",
       " '가격 대비',\n",
       " '몸',\n",
       " '',\n",
       " '복용',\n",
       " '평소 센트룸 달 가격 구매 종종',\n",
       " '신 것',\n",
       " '고등학생 아들 아빠 칼슘 성분 좀 칼슘 일 활 기분 탓',\n",
       " '',\n",
       " '배송',\n",
       " '배송',\n",
       " '도착',\n",
       " '보고 또',\n",
       " '신랑',\n",
       " '배송',\n",
       " '배송',\n",
       " '적극 추천',\n",
       " '숩니',\n",
       " '',\n",
       " '여여퍄패패커',\n",
       " '',\n",
       " '두번째 구매',\n",
       " '은 효과 점점 컨디션 거',\n",
       " '',\n",
       " '배송',\n",
       " '',\n",
       " '선물',\n",
       " '만족',\n",
       " '노어 챂',\n",
       " '',\n",
       " '',\n",
       " '',\n",
       " '',\n",
       " '',\n",
       " '',\n",
       " '',\n",
       " '제품']"
      ]
     },
     "execution_count": 18,
     "metadata": {
      "tags": []
     },
     "output_type": "execute_result"
    }
   ],
   "source": [
    "# 추출한 명사 리스트를 활용해 명사만으로 이루어진 문서를 생성\n",
    "docs_noun = docs.copy()\n",
    "\n",
    "for i in range(len(docs_noun)):\n",
    "  docs_noun[i] = ' '.join(docs_noun[i])\n",
    "\n",
    "docs_noun  # --> 이건 리뷰별로 명사 추출"
   ]
  },
  {
   "cell_type": "code",
   "execution_count": 19,
   "metadata": {
    "colab": {
     "base_uri": "https://localhost:8080/",
     "height": 122
    },
    "executionInfo": {
     "elapsed": 328,
     "status": "ok",
     "timestamp": 1626756721597,
     "user": {
      "displayName": "신재영",
      "photoUrl": "",
      "userId": "12023850488056322139"
     },
     "user_tz": -540
    },
    "id": "lpZciAVsQB2o",
    "outputId": "f7c9d941-e90d-490b-fd25-95e86f8d40f2"
   },
   "outputs": [
    {
     "data": {
      "application/vnd.google.colaboratory.intrinsic+json": {
       "type": "string"
      },
      "text/plain": [
       "'일반 약국 매일 약 선택 부부 매일 기운 배송 물건 번 구매 매우 기도 늘 습 적극 추천 배송  부모님 선물 온라인 최저 가로 사서 배송 요즘 책 비타민 생각 기분 탓 덜 다음 이용 정말 저 보오 구매 평 워낙 증명 제약회사 제품 플라스틱 포장 살짝 과대 포장 상품 자체 투명 플라스틱 포장 부모님 사 얼마 효과 또 건강 위해 구매 센트 룸 포맨 군대 아들 해 가격  며칠 복용 아침 좀 덜 배송 영양소 다른 비타민 상품 두번째 구매 양도 배송 배송 침 아주  잘바아를러 이  항상 배송 감사 매우       배송 아주  구매 호호 호 후후후 히히히 헤헤 헤흐흐흐햐햐햐헤 허후 호 비타민 아연 하루 섭취 기준 영양소 소변 배출 요 노란색 용  비타민 또 학창시절 봘 홓 화이팅 배송 구매 맨 배송 남편 햏 효과 좀더 그 남편 매일 민 양도 또 배송 좀 느렷어 항상 포장 센트룸 하니 용량 가격 비타민 추천 비타민 처음 추천 보지 아주 다음 꼭 이 적극 추천 사업 번창 다음 멀티 비타민 배송 포장 배송 주문 한지 어제 먹기 시작 나중 다시 주문 때 이용 수고 배송 빨 번창 배송 배송 감사 자 짐 구라  항상 제품 아빠 일단 배송 빨 용 뾱뾱이없 비닐 포장 달랑 조금 당황 염  가격 대비 몸  복용 평소 센트룸 달 가격 구매 종종 신 것 고등학생 아들 아빠 칼슘 성분 좀 칼슘 일 활 기분 탓  배송 배송 도착 보고 또 신랑 배송 배송 적극 추천 숩니  여여퍄패패커  두번째 구매 은 효과 점점 컨디션 거  배송  선물 만족 노어 챂        제품'"
      ]
     },
     "execution_count": 19,
     "metadata": {
      "tags": []
     },
     "output_type": "execute_result"
    }
   ],
   "source": [
    "# 전체 명사를 한 문서로 생성\n",
    "noun_doc = ' '.join(docs_noun)\n",
    "noun_doc = noun_doc.strip()\n",
    "noun_doc"
   ]
  },
  {
   "cell_type": "code",
   "execution_count": 24,
   "metadata": {
    "colab": {
     "base_uri": "https://localhost:8080/",
     "height": 386
    },
    "executionInfo": {
     "elapsed": 341,
     "status": "error",
     "timestamp": 1626757156568,
     "user": {
      "displayName": "신재영",
      "photoUrl": "",
      "userId": "12023850488056322139"
     },
     "user_tz": -540
    },
    "id": "K_1qiik0QaiQ",
    "outputId": "88bf828e-89bf-47da-cbd4-9907ac85b330"
   },
   "outputs": [
    {
     "ename": "FileNotFoundError",
     "evalue": "ignored",
     "output_type": "error",
     "traceback": [
      "\u001b[0;31m---------------------------------------------------------------------------\u001b[0m",
      "\u001b[0;31mFileNotFoundError\u001b[0m                         Traceback (most recent call last)",
      "\u001b[0;32m<ipython-input-24-c1274f5de3c1>\u001b[0m in \u001b[0;36m<module>\u001b[0;34m()\u001b[0m\n\u001b[1;32m      5\u001b[0m \u001b[0;32mimport\u001b[0m \u001b[0mplatform\u001b[0m \u001b[0;31m# 폰트가 깨지지 않도록 설정\u001b[0m\u001b[0;34m\u001b[0m\u001b[0;34m\u001b[0m\u001b[0m\n\u001b[1;32m      6\u001b[0m \u001b[0;32mfrom\u001b[0m \u001b[0mmatplotlib\u001b[0m \u001b[0;32mimport\u001b[0m \u001b[0mfont_manager\u001b[0m\u001b[0;34m,\u001b[0m \u001b[0mrc\u001b[0m\u001b[0;34m\u001b[0m\u001b[0;34m\u001b[0m\u001b[0m\n\u001b[0;32m----> 7\u001b[0;31m \u001b[0mfont_name\u001b[0m \u001b[0;34m=\u001b[0m \u001b[0mfont_manager\u001b[0m\u001b[0;34m.\u001b[0m\u001b[0mFontProperties\u001b[0m\u001b[0;34m(\u001b[0m\u001b[0mfname\u001b[0m\u001b[0;34m=\u001b[0m\u001b[0mfont_path\u001b[0m\u001b[0;34m)\u001b[0m\u001b[0;34m.\u001b[0m\u001b[0mget_name\u001b[0m\u001b[0;34m(\u001b[0m\u001b[0;34m)\u001b[0m\u001b[0;34m\u001b[0m\u001b[0;34m\u001b[0m\u001b[0m\n\u001b[0m\u001b[1;32m      8\u001b[0m \u001b[0mrc\u001b[0m\u001b[0;34m(\u001b[0m\u001b[0;34m'font'\u001b[0m\u001b[0;34m,\u001b[0m \u001b[0mfamily\u001b[0m \u001b[0;34m=\u001b[0m \u001b[0mfont_name\u001b[0m\u001b[0;34m)\u001b[0m\u001b[0;34m\u001b[0m\u001b[0;34m\u001b[0m\u001b[0m\n\u001b[1;32m      9\u001b[0m \u001b[0;34m\u001b[0m\u001b[0m\n",
      "\u001b[0;32m/usr/local/lib/python3.7/dist-packages/matplotlib/font_manager.py\u001b[0m in \u001b[0;36mget_name\u001b[0;34m(self)\u001b[0m\n\u001b[1;32m    687\u001b[0m         \u001b[0mReturn\u001b[0m \u001b[0mthe\u001b[0m \u001b[0mname\u001b[0m \u001b[0mof\u001b[0m \u001b[0mthe\u001b[0m \u001b[0mfont\u001b[0m \u001b[0mthat\u001b[0m \u001b[0mbest\u001b[0m \u001b[0mmatches\u001b[0m \u001b[0mthe\u001b[0m \u001b[0mfont\u001b[0m \u001b[0mproperties\u001b[0m\u001b[0;34m.\u001b[0m\u001b[0;34m\u001b[0m\u001b[0;34m\u001b[0m\u001b[0m\n\u001b[1;32m    688\u001b[0m         \"\"\"\n\u001b[0;32m--> 689\u001b[0;31m         \u001b[0;32mreturn\u001b[0m \u001b[0mget_font\u001b[0m\u001b[0;34m(\u001b[0m\u001b[0mfindfont\u001b[0m\u001b[0;34m(\u001b[0m\u001b[0mself\u001b[0m\u001b[0;34m)\u001b[0m\u001b[0;34m)\u001b[0m\u001b[0;34m.\u001b[0m\u001b[0mfamily_name\u001b[0m\u001b[0;34m\u001b[0m\u001b[0;34m\u001b[0m\u001b[0m\n\u001b[0m\u001b[1;32m    690\u001b[0m \u001b[0;34m\u001b[0m\u001b[0m\n\u001b[1;32m    691\u001b[0m     \u001b[0;32mdef\u001b[0m \u001b[0mget_style\u001b[0m\u001b[0;34m(\u001b[0m\u001b[0mself\u001b[0m\u001b[0;34m)\u001b[0m\u001b[0;34m:\u001b[0m\u001b[0;34m\u001b[0m\u001b[0;34m\u001b[0m\u001b[0m\n",
      "\u001b[0;32m/usr/local/lib/python3.7/dist-packages/matplotlib/font_manager.py\u001b[0m in \u001b[0;36mget_font\u001b[0;34m(filename, hinting_factor)\u001b[0m\n\u001b[1;32m   1327\u001b[0m         \u001b[0mhinting_factor\u001b[0m \u001b[0;34m=\u001b[0m \u001b[0mrcParams\u001b[0m\u001b[0;34m[\u001b[0m\u001b[0;34m'text.hinting_factor'\u001b[0m\u001b[0;34m]\u001b[0m\u001b[0;34m\u001b[0m\u001b[0;34m\u001b[0m\u001b[0m\n\u001b[1;32m   1328\u001b[0m     return _get_font(os.fspath(filename), hinting_factor,\n\u001b[0;32m-> 1329\u001b[0;31m                      _kerning_factor=rcParams['text.kerning_factor'])\n\u001b[0m\u001b[1;32m   1330\u001b[0m \u001b[0;34m\u001b[0m\u001b[0m\n\u001b[1;32m   1331\u001b[0m \u001b[0;34m\u001b[0m\u001b[0m\n",
      "\u001b[0;31mFileNotFoundError\u001b[0m: [Errno 2] No such file or directory: '/usr/share/fonts/truetype/nanum/NanumBarunGothic.ttf'"
     ]
    }
   ],
   "source": [
    "# 워드 클라우드\n",
    "from wordcloud import WordCloud\n",
    "font_path = '/usr/share/fonts/truetype/nanum/NanumBarunGothic.ttf'  # colab에서 실행할 경우 폰트 경로\n",
    "\n",
    "import platform # 폰트가 깨지지 않도록 설정\n",
    "from matplotlib import font_manager, rc\n",
    "font_name = font_manager.FontProperties(fname=font_path).get_name()\n",
    "rc('font', family = font_name)\n",
    "\n",
    "\n",
    "wc = WordCloud(font_path = font_path, background_color = \"white\")\n",
    "wc.generate(noun_doc)\n",
    "\n",
    "plt.figure()\n",
    "plt.imshow(wc)\n",
    "plt.axis(\"off\")\n",
    "plt.show()"
   ]
  },
  {
   "cell_type": "code",
   "execution_count": 28,
   "metadata": {
    "executionInfo": {
     "elapsed": 445,
     "status": "ok",
     "timestamp": 1626757637369,
     "user": {
      "displayName": "신재영",
      "photoUrl": "",
      "userId": "12023850488056322139"
     },
     "user_tz": -540
    },
    "id": "xnJmmcfxROcO"
   },
   "outputs": [],
   "source": [
    "# LDA 모델 만들기\n",
    "import gensim\n",
    "from gensim import corpora, models\n",
    "\n",
    "resultList = []\n",
    "keyword = 5\n",
    "\n",
    "texts = []\n",
    "for line in docs:\n",
    "  tokens = [word for word in line if len(word) > 1]\n",
    "  texts.append(tokens)\n",
    "\n",
    "dictionary = corpora.Dictionary(texts)\n",
    "corpus = [dictionary.doc2bow(text) for text in texts]\n",
    "\n",
    "ldamodel = models.ldamodel.LdaModel(corpus, id2word = dictionary, num_topics = 5)\n",
    "\n",
    "for num in range(5):\n",
    "  resultList.append(ldamodel.show_topic(num, keyword))"
   ]
  },
  {
   "cell_type": "code",
   "execution_count": 29,
   "metadata": {
    "colab": {
     "base_uri": "https://localhost:8080/"
    },
    "executionInfo": {
     "elapsed": 1150,
     "status": "ok",
     "timestamp": 1626757774076,
     "user": {
      "displayName": "신재영",
      "photoUrl": "",
      "userId": "12023850488056322139"
     },
     "user_tz": -540
    },
    "id": "KY0dwydES0lw",
    "outputId": "6b7d242d-a6c3-40be-baec-a38d8b9f82ab"
   },
   "outputs": [
    {
     "data": {
      "text/plain": [
       "[[('매일', 0.04661397),\n",
       "  ('제품', 0.0461118),\n",
       "  ('항상', 0.045990776),\n",
       "  ('아주', 0.045484647),\n",
       "  ('구매', 0.025753543)],\n",
       " [('배송', 0.06929831),\n",
       "  ('구매', 0.06777974),\n",
       "  ('가격', 0.04203179),\n",
       "  ('비타민', 0.028866177),\n",
       "  ('추천', 0.028826348)],\n",
       " [('배송', 0.11402407),\n",
       "  ('구매', 0.032974005),\n",
       "  ('추천', 0.032847203),\n",
       "  ('다음', 0.03281732),\n",
       "  ('비타민', 0.032802302)],\n",
       " [('배송', 0.06485803),\n",
       "  ('효과', 0.04895902),\n",
       "  ('비타민', 0.033839047),\n",
       "  ('영양소', 0.033673152),\n",
       "  ('부모님', 0.033671573)],\n",
       " [('배송', 0.103945844),\n",
       "  ('포장', 0.059310146),\n",
       "  ('플라스틱', 0.040709637),\n",
       "  ('감사', 0.040360685),\n",
       "  ('복용', 0.040144783)]]"
      ]
     },
     "execution_count": 29,
     "metadata": {
      "tags": []
     },
     "output_type": "execute_result"
    }
   ],
   "source": [
    "resultList"
   ]
  },
  {
   "cell_type": "code",
   "execution_count": 30,
   "metadata": {
    "colab": {
     "base_uri": "https://localhost:8080/"
    },
    "executionInfo": {
     "elapsed": 322,
     "status": "ok",
     "timestamp": 1626757808367,
     "user": {
      "displayName": "신재영",
      "photoUrl": "",
      "userId": "12023850488056322139"
     },
     "user_tz": -540
    },
    "id": "f0QLh8ImS0j4",
    "outputId": "08edc674-dbf3-41e9-8beb-88d62910ff86"
   },
   "outputs": [
    {
     "data": {
      "text/plain": [
       "[(0, '0.047*\"매일\" + 0.046*\"제품\" + 0.046*\"항상\" + 0.045*\"아주\" + 0.026*\"구매\"'),\n",
       " (1, '0.069*\"배송\" + 0.068*\"구매\" + 0.042*\"가격\" + 0.029*\"비타민\" + 0.029*\"추천\"'),\n",
       " (2, '0.114*\"배송\" + 0.033*\"구매\" + 0.033*\"추천\" + 0.033*\"다음\" + 0.033*\"비타민\"'),\n",
       " (3, '0.065*\"배송\" + 0.049*\"효과\" + 0.034*\"비타민\" + 0.034*\"영양소\" + 0.034*\"부모님\"'),\n",
       " (4, '0.104*\"배송\" + 0.059*\"포장\" + 0.041*\"플라스틱\" + 0.040*\"감사\" + 0.040*\"복용\"')]"
      ]
     },
     "execution_count": 30,
     "metadata": {
      "tags": []
     },
     "output_type": "execute_result"
    }
   ],
   "source": [
    "ldamodel.print_topics(num_words=5)"
   ]
  },
  {
   "cell_type": "code",
   "execution_count": 31,
   "metadata": {
    "colab": {
     "base_uri": "https://localhost:8080/"
    },
    "executionInfo": {
     "elapsed": 326,
     "status": "ok",
     "timestamp": 1626757861744,
     "user": {
      "displayName": "신재영",
      "photoUrl": "",
      "userId": "12023850488056322139"
     },
     "user_tz": -540
    },
    "id": "lQiE4__LS0h1",
    "outputId": "0be347e3-4a6b-492a-f87b-61ed0d544a52"
   },
   "outputs": [
    {
     "data": {
      "text/plain": [
       "[(0, 0.89993787),\n",
       " (1, 0.025053326),\n",
       " (2, 0.025002694),\n",
       " (3, 0.02500277),\n",
       " (4, 0.025003355)]"
      ]
     },
     "execution_count": 31,
     "metadata": {
      "tags": []
     },
     "output_type": "execute_result"
    }
   ],
   "source": [
    "ldamodel.get_document_topics(corpus)[0] # 0번째 리뷰는 0번(0, 0.89993787) 토픽에 포함될 확률이 높다는 의미"
   ]
  }
 ],
 "metadata": {
  "colab": {
   "collapsed_sections": [],
   "name": "topicmodel.ipynb",
   "provenance": []
  },
  "kernelspec": {
   "display_name": "Python 3",
   "language": "python",
   "name": "python3"
  },
  "language_info": {
   "codemirror_mode": {
    "name": "ipython",
    "version": 3
   },
   "file_extension": ".py",
   "mimetype": "text/x-python",
   "name": "python",
   "nbconvert_exporter": "python",
   "pygments_lexer": "ipython3",
   "version": "3.8.8"
  }
 },
 "nbformat": 4,
 "nbformat_minor": 1
}
